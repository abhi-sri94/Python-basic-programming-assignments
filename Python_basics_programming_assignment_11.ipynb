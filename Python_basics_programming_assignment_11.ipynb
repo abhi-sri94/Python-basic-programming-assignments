{
  "nbformat": 4,
  "nbformat_minor": 0,
  "metadata": {
    "colab": {
      "provenance": [],
      "toc_visible": true
    },
    "kernelspec": {
      "name": "python3",
      "display_name": "Python 3"
    },
    "language_info": {
      "name": "python"
    }
  },
  "cells": [
    {
      "cell_type": "markdown",
      "source": [
        "#Question 1\n",
        "\n",
        "Write a Python program to find words which are greater than given length k?\n",
        "\n",
        ".............\n",
        "\n",
        "Answer 1 -\n",
        "\n",
        "Below is the code:"
      ],
      "metadata": {
        "id": "0cxZzjy_kVk_"
      }
    },
    {
      "cell_type": "code",
      "source": [
        "def find_words_greater_than_k(sentence, k):\n",
        "    words = sentence.split()\n",
        "    result_words = [word for word in words if len(word) > k]\n",
        "    return result_words\n",
        "\n",
        "def main():\n",
        "    # Get input from the user\n",
        "    sentence = input(\"Enter a sentence: \")\n",
        "    k = int(input(\"Enter the minimum word length to find: \"))\n",
        "\n",
        "    # Find words greater than length k in the sentence\n",
        "    words_greater_than_k = find_words_greater_than_k(sentence, k)\n",
        "\n",
        "    print(\"Words greater than length\", k, \":\", words_greater_than_k)\n",
        "\n",
        "if __name__ == \"__main__\":\n",
        "    main()"
      ],
      "metadata": {
        "colab": {
          "base_uri": "https://localhost:8080/"
        },
        "id": "sz00R7L8kbko",
        "outputId": "441b3de1-ecf5-4e4b-9bc8-5984131fb906"
      },
      "execution_count": 2,
      "outputs": [
        {
          "output_type": "stream",
          "name": "stdout",
          "text": [
            "Enter a sentence: Hi, my name is Abhishek Srivastav\n",
            "Enter the minimum word length to find: 3\n",
            "Words greater than length 3 : ['name', 'Abhishek', 'Srivastav']\n"
          ]
        }
      ]
    },
    {
      "cell_type": "markdown",
      "source": [
        "In this program, the **find_words_greater_than_k** function takes a sentence as input and an integer k as the minimum word length to find. It first splits the sentence into individual words using **split()** , and then uses a list comprehension to filter out words that are greater than length `k` .\n",
        "\n",
        "In the main function, we get the sentence and the value of k from the user. Then, we call the find_words_greater_than_k function to find the words greater than length k in the sentence and print the result."
      ],
      "metadata": {
        "id": "2Xmj2UO9kyVk"
      }
    },
    {
      "cell_type": "markdown",
      "source": [
        "#Question 2\n",
        "\n",
        "Write a Python program for removing i-th character from a string?\n",
        "\n",
        "............\n",
        "\n",
        "Answer 2 -\n",
        "\n",
        "Below is the code:"
      ],
      "metadata": {
        "id": "KBYFtNTxk7KA"
      }
    },
    {
      "cell_type": "code",
      "source": [
        "def remove_ith_character(input_string, i):\n",
        "    if i < 0 or i >= len(input_string):\n",
        "        raise ValueError(\"Invalid value of 'i'. Index out of range.\")\n",
        "\n",
        "    result_string = input_string[:i] + input_string[i+1:]\n",
        "    return result_string\n",
        "\n",
        "def main():\n",
        "    # Get input from the user\n",
        "    input_string = input(\"Enter a string: \")\n",
        "    i = int(input(\"Enter the index (i) of the character to remove: \"))\n",
        "\n",
        "    try:\n",
        "        # Remove the i-th character from the string\n",
        "        result_string = remove_ith_character(input_string, i)\n",
        "        print(\"Resulting string:\", result_string)\n",
        "    except ValueError as e:\n",
        "        print(e)\n",
        "\n",
        "if __name__ == \"__main__\":\n",
        "    main()"
      ],
      "metadata": {
        "colab": {
          "base_uri": "https://localhost:8080/"
        },
        "id": "9Vu3EpRQkdF8",
        "outputId": "0716a14f-04af-46e5-c0bf-c5651a3e8985"
      },
      "execution_count": 6,
      "outputs": [
        {
          "output_type": "stream",
          "name": "stdout",
          "text": [
            "Enter a string: \"My name is Abhishek Srivastava\"\n",
            "Enter the index (i) of the character to remove: 30\n",
            "Resulting string: \"My name is Abhishek Srivastav\"\n"
          ]
        }
      ]
    },
    {
      "cell_type": "markdown",
      "source": [
        "#Question 3\n",
        "\n",
        "Write a Python program to split and join a string?\n",
        "\n",
        ".............\n",
        "\n",
        "Answer 3 -\n",
        "\n",
        "Below is the program for the same:"
      ],
      "metadata": {
        "id": "cD8PEMSFmPX-"
      }
    },
    {
      "cell_type": "code",
      "source": [
        "def split_and_join(input_string):\n",
        "    # Split the string into a list of words\n",
        "    words_list = input_string.split()\n",
        "\n",
        "    # Join the words with a specified separator (e.g., space)\n",
        "    joined_string = \" \".join(words_list)\n",
        "\n",
        "    return words_list, joined_string\n",
        "\n",
        "def main():\n",
        "    # Get input from the user\n",
        "    input_string = input(\"Enter a string: \")\n",
        "\n",
        "    # Split and join the string\n",
        "    words_list, joined_string = split_and_join(input_string)\n",
        "\n",
        "    print(\"Original string:\", input_string)\n",
        "    print(\"List of words:\", words_list)\n",
        "    print(\"Joined string:\", joined_string)\n",
        "\n",
        "if __name__ == \"__main__\":\n",
        "    main()"
      ],
      "metadata": {
        "colab": {
          "base_uri": "https://localhost:8080/"
        },
        "id": "9r9_AcadlyeP",
        "outputId": "c379e8e7-0b90-4592-d728-992ae441cb1b"
      },
      "execution_count": 8,
      "outputs": [
        {
          "output_type": "stream",
          "name": "stdout",
          "text": [
            "Enter a string: \"My name is Abhishek Srivastav\"\n",
            "Original string: \"My name is Abhishek Srivastav\"\n",
            "List of words: ['\"My', 'name', 'is', 'Abhishek', 'Srivastav\"']\n",
            "Joined string: \"My name is Abhishek Srivastav\"\n"
          ]
        }
      ]
    },
    {
      "cell_type": "markdown",
      "source": [
        "#Question 4\n",
        "\n",
        "Write a Python to check if a given string is binary string or not?\n",
        "\n",
        "..............\n",
        "\n",
        "Answer 4 -\n",
        "\n",
        "Below is the program for the same:"
      ],
      "metadata": {
        "id": "CA2bg7GQtY1C"
      }
    },
    {
      "cell_type": "code",
      "source": [
        "def is_binary_string(input_string):\n",
        "    # Set of valid binary characters\n",
        "    valid_binary_chars = {'0', '1'}\n",
        "\n",
        "    # Check if every character in the string is a valid binary character\n",
        "    for char in input_string:\n",
        "        if char not in valid_binary_chars:\n",
        "            return False\n",
        "\n",
        "    return True\n",
        "\n",
        "def main():\n",
        "    # Get input from the user\n",
        "    input_string = input(\"Enter a string: \")\n",
        "\n",
        "    # Check if the string is a binary string\n",
        "    if is_binary_string(input_string):\n",
        "        print(\"The string is a binary string.\")\n",
        "    else:\n",
        "        print(\"The string is not a binary string.\")\n",
        "\n",
        "if __name__ == \"__main__\":\n",
        "    main()"
      ],
      "metadata": {
        "colab": {
          "base_uri": "https://localhost:8080/"
        },
        "id": "zJcWHl6OniZ5",
        "outputId": "4649a4f1-2d18-4f15-8288-317a0492cd57"
      },
      "execution_count": 9,
      "outputs": [
        {
          "output_type": "stream",
          "name": "stdout",
          "text": [
            "Enter a string: \"My name is Abhishek Srivastav\"\n",
            "The string is not a binary string.\n"
          ]
        }
      ]
    },
    {
      "cell_type": "markdown",
      "source": [
        "#Question 5\n",
        "\n",
        "Write a Python program to find uncommon words from two Strings?\n",
        "\n",
        "..............\n",
        "\n",
        "Answer 5 -\n",
        "\n"
      ],
      "metadata": {
        "id": "D2vWMFDRuAie"
      }
    },
    {
      "cell_type": "code",
      "source": [
        "def find_uncommon_words(string1, string2):\n",
        "    # Split the strings into words\n",
        "    words1 = string1.split()\n",
        "    words2 = string2.split()\n",
        "\n",
        "    # Create sets of unique words\n",
        "    unique_words1 = set(words1)\n",
        "    unique_words2 = set(words2)\n",
        "\n",
        "    # Find uncommon words in both sets\n",
        "    uncommon_words = (unique_words1 ^ unique_words2)\n",
        "\n",
        "    return uncommon_words\n",
        "\n",
        "def main():\n",
        "    # Get input from the user\n",
        "    string1 = input(\"Enter the first string: \")\n",
        "    string2 = input(\"Enter the second string: \")\n",
        "\n",
        "    # Find and print uncommon words\n",
        "    uncommon_words = find_uncommon_words(string1, string2)\n",
        "    print(\"Uncommon words:\", uncommon_words)\n",
        "\n",
        "if __name__ == \"__main__\":\n",
        "    main()"
      ],
      "metadata": {
        "colab": {
          "base_uri": "https://localhost:8080/"
        },
        "id": "t48C5nQWttSE",
        "outputId": "95f7a179-4469-45d2-d885-36e9d369e8df"
      },
      "execution_count": 10,
      "outputs": [
        {
          "output_type": "stream",
          "name": "stdout",
          "text": [
            "Enter the first string: \"My name is Abhishek Srivastav\"\n",
            "Enter the second string: \"I am a Data science student\"\n",
            "Uncommon words: {'science', 'a', 'Abhishek', 'Srivastav\"', '\"My', 'am', '\"I', 'student\"', 'is', 'Data', 'name'}\n"
          ]
        }
      ]
    },
    {
      "cell_type": "markdown",
      "source": [
        "In this program, the **find_uncommon_words** function takes two strings `string1` and `string2` as input. It first splits the strings into lists of words using the **split()** method.\n",
        "\n",
        "Then, it creates sets `unique_words1` and `unique_words2` from the lists of words, which will contain unique words from each string.\n",
        "\n",
        "Finally, it uses the symmetric difference operator `^` to find the uncommon words in both sets. The symmetric difference of two sets contains elements that are present in one set or the other, but not in both.\n",
        "\n",
        "In the main function, we get the two input strings from the user. Then, we call the `find_uncommon_words` function to find the uncommon words from both strings and print the result."
      ],
      "metadata": {
        "id": "-qbdMhRSuywE"
      }
    },
    {
      "cell_type": "markdown",
      "source": [
        "#Question 6\n",
        "\n",
        "Write a Python to find all duplicate characters in string?\n",
        "\n",
        "..............\n",
        "\n",
        "Answer 6 -\n",
        "\n",
        "Below is the code for the same:"
      ],
      "metadata": {
        "id": "IM62u9Q2vog0"
      }
    },
    {
      "cell_type": "code",
      "source": [
        "def find_duplicate_characters(input_string):\n",
        "    # Create a dictionary to store character frequencies\n",
        "    char_freq = {}\n",
        "\n",
        "    # Iterate through each character in the string\n",
        "    for char in input_string:\n",
        "        # Increment the frequency count for each character\n",
        "        char_freq[char] = char_freq.get(char, 0) + 1\n",
        "\n",
        "    # Find characters with frequency greater than 1 (i.e., duplicates)\n",
        "    duplicates = {char for char, freq in char_freq.items() if freq > 1}\n",
        "\n",
        "    return duplicates\n",
        "\n",
        "def main():\n",
        "    # Get input from the user\n",
        "    input_string = input(\"Enter a string: \")\n",
        "\n",
        "    # Find and print duplicate characters\n",
        "    duplicates = find_duplicate_characters(input_string)\n",
        "    print(\"Duplicate characters:\", duplicates)\n",
        "\n",
        "if __name__ == \"__main__\":\n",
        "    main()"
      ],
      "metadata": {
        "colab": {
          "base_uri": "https://localhost:8080/"
        },
        "id": "B-CTdEL7uXmo",
        "outputId": "7dd0ac10-7a36-4428-e4c9-eb6e9c0eb832"
      },
      "execution_count": 11,
      "outputs": [
        {
          "output_type": "stream",
          "name": "stdout",
          "text": [
            "Enter a string: \"My name is Abhishek Srivastav\"\n",
            "Duplicate characters: {'e', 'i', 's', 'a', 'v', '\"', ' ', 'h'}\n"
          ]
        }
      ]
    },
    {
      "cell_type": "markdown",
      "source": [
        "In this program, the `find_duplicate_characters` function takes an input_string as input. It creates a dictionary called `char_freq` to store the frequency of each character in the string.\n",
        "\n",
        "Then, it iterates through each character in the input string and increments the frequency count for each character in the `char_freq` dictionary.\n",
        "\n",
        "Finally, it uses a set comprehension to find characters with a frequency greater than 1 (i.e., duplicates) and stores them in the duplicates set.\n",
        "\n",
        "In the main function, we get the input string from the user. Then, we call the `find_duplicate_characters` function to find the duplicate characters in the string and print the result."
      ],
      "metadata": {
        "id": "SJGWSU_FwVf9"
      }
    },
    {
      "cell_type": "markdown",
      "source": [
        "#Question 7\n",
        "\n",
        "Write a Python Program to check if a string contains any special character?\n",
        "\n",
        ".............\n",
        "\n",
        "Answer 7 -\n",
        "\n",
        "Below is the code:"
      ],
      "metadata": {
        "id": "I9J3DZ1Jwwlb"
      }
    },
    {
      "cell_type": "code",
      "source": [
        "import string\n",
        "\n",
        "def contains_special_characters(input_string):\n",
        "    # Create a set of all printable ASCII characters\n",
        "    printable_characters = set(string.printable)\n",
        "\n",
        "    # Remove digits, letters, and whitespace characters from the set\n",
        "    special_characters = printable_characters.difference(string.ascii_letters + string.digits + string.whitespace)\n",
        "\n",
        "    # Check if the input string contains any special character\n",
        "    for char in input_string:\n",
        "        if char in special_characters:\n",
        "            return True\n",
        "\n",
        "    return False\n",
        "\n",
        "def main():\n",
        "    # Get input from the user\n",
        "    input_string = input(\"Enter a string: \")\n",
        "\n",
        "    # Check if the string contains any special character\n",
        "    if contains_special_characters(input_string):\n",
        "        print(\"The string contains special characters.\")\n",
        "    else:\n",
        "        print(\"The string does not contain special characters.\")\n",
        "\n",
        "if __name__ == \"__main__\":\n",
        "    main()"
      ],
      "metadata": {
        "colab": {
          "base_uri": "https://localhost:8080/"
        },
        "id": "B6dAypBcwAff",
        "outputId": "6dd1e5c2-45ae-48a5-8f37-a6b712324536"
      },
      "execution_count": 12,
      "outputs": [
        {
          "output_type": "stream",
          "name": "stdout",
          "text": [
            "Enter a string: \"My name is Abhishek Srivastav\"\n",
            "The string contains special characters.\n"
          ]
        }
      ]
    },
    {
      "cell_type": "markdown",
      "source": [
        "In this program, we import the `string` module to access the set of printable ASCII characters and other predefined character sets, such as `ascii_letters` , `digits` , and `whitespace` .\n",
        "\n",
        "The `contains_special_characters` function takes an `input_string` as input. It creates a set called `special_characters` containing all printable ASCII characters except for digits, letters, and whitespace characters.\n",
        "\n",
        "Then, it iterates through each character in the input string and checks if it is present in the special_characters set. If any special character is found, the function returns `True` , indicating that the string contains special characters. Otherwise, it returns `False` .\n",
        "\n",
        "In the `main` function, we get the input string from the user. Then, we call the `contains_special_characters` function to check if the string contains any special characters and print the result accordingly.\n",
        "\n",
        "When you run the program, it will prompt you to enter a string. After input, it will check if the string contains any special characters and display the result."
      ],
      "metadata": {
        "id": "SjHLnRs7xGqV"
      }
    }
  ]
}