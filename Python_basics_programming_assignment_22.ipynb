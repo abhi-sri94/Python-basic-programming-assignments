{
  "nbformat": 4,
  "nbformat_minor": 0,
  "metadata": {
    "colab": {
      "provenance": [],
      "toc_visible": true
    },
    "kernelspec": {
      "name": "python3",
      "display_name": "Python 3"
    },
    "language_info": {
      "name": "python"
    }
  },
  "cells": [
    {
      "cell_type": "markdown",
      "source": [
        "#Question 1\n",
        "\n",
        "Create a function that takes three parameters where:\n",
        "- x is the start of the range (inclusive).\n",
        "\n",
        "- y is the end of the range (inclusive).\n",
        "\n",
        "- n is the divisor to be checked against.\n",
        "\n",
        "Return an ordered list with numbers in the range that are divisible by the third parameter n.\n",
        "\n",
        "Return an empty list if there are no numbers that are divisible by n.\n",
        "\n",
        "..................\n",
        "\n",
        "Answer 1 -\n",
        "\n",
        "Below is the code:"
      ],
      "metadata": {
        "id": "HPoWPIWkg8TP"
      }
    },
    {
      "cell_type": "code",
      "source": [
        "def list_operation(x, y, n):\n",
        "    result = [num for num in range(x, y+1) if num % n == 0]\n",
        "    return result\n",
        "\n",
        "# Test case\n",
        "print(list_operation(1, 10, 3))\n",
        "print(list_operation(3, 15, 8))\n",
        "print(list_operation(10, 20, 5))\n",
        "print(list_operation(11, 20, 23))"
      ],
      "metadata": {
        "colab": {
          "base_uri": "https://localhost:8080/"
        },
        "id": "RYx-fctNhMyo",
        "outputId": "c476b09c-e9a6-4f6e-de72-970e3aa9afec"
      },
      "execution_count": 2,
      "outputs": [
        {
          "output_type": "stream",
          "name": "stdout",
          "text": [
            "[3, 6, 9]\n",
            "[8]\n",
            "[10, 15, 20]\n",
            "[]\n"
          ]
        }
      ]
    },
    {
      "cell_type": "markdown",
      "source": [
        "In this function, we use a list comprehension to iterate through the range of numbers from `x` to `y+1` . For each number, we check if it is divisible by `n` (`num % n == 0`). If it is divisible, the number is added to the result list. The function returns the ordered list of numbers that are divisible by `n`."
      ],
      "metadata": {
        "id": "rR6WSk2FkmAE"
      }
    },
    {
      "cell_type": "markdown",
      "source": [
        "#Question 2\n",
        "\n",
        "Create a function that takes in two lists and returns True if the second list follows the first list\n",
        "by one element, and False otherwise. In other words, determine if the second list is the first\n",
        "list shifted to the right by 1.\n",
        "\n",
        "...............\n",
        "\n",
        "Answer 2 -\n",
        "\n",
        "We can create a function that checks if the second list follows the first list by one element. This can be done by comparing each element of the two lists, except for the last element of the second list. If all elements except the last one are the same, then the second list follows the first list by one element.\n",
        "\n",
        "Here's the Python implementation:"
      ],
      "metadata": {
        "id": "2MitUtyHkxsp"
      }
    },
    {
      "cell_type": "code",
      "source": [
        "def simon_says(list1, list2):\n",
        "    if len(list1) + 1 != len(list2):\n",
        "        return False\n",
        "\n",
        "    for i in range(len(list1)):\n",
        "        if list1[i] != list2[i + 1]:\n",
        "            return False\n",
        "\n",
        "    return True\n",
        "\n",
        "\n",
        "print(simon_says([1, 2], [0, 1]))\n",
        "print(simon_says([1, 2], [5, 5]))\n",
        "print(simon_says([1, 2, 3, 4, 5], [0, 1, 2, 3, 4]))\n",
        "print(simon_says([1, 2, 3, 4, 5], [5, 5, 1, 2, 3]))\n",
        "print(simon_says([9, 8, 7], [6, 9, 8]))\n",
        "print(simon_says([3, 2, 1], [0, 3, 2, 1]))"
      ],
      "metadata": {
        "colab": {
          "base_uri": "https://localhost:8080/"
        },
        "id": "pVLTHiJfleBh",
        "outputId": "a1c36c47-d7d1-4f3b-b2ea-ad89259ba0d9"
      },
      "execution_count": 13,
      "outputs": [
        {
          "output_type": "stream",
          "name": "stdout",
          "text": [
            "False\n",
            "False\n",
            "False\n",
            "False\n",
            "False\n",
            "True\n"
          ]
        }
      ]
    },
    {
      "cell_type": "code",
      "source": [
        "def simon_says(a,b):\n",
        "    a.remove(a[len(a)-1])\n",
        "    b.remove(b[0])\n",
        "    if set(a) == set(b):\n",
        "        print(True)\n",
        "    else:\n",
        "        print(False)"
      ],
      "metadata": {
        "id": "WRJIy59CpLuR"
      },
      "execution_count": 17,
      "outputs": []
    },
    {
      "cell_type": "code",
      "source": [
        "simon_says([1, 2], [5, 1])\n",
        "simon_says([1, 2, 3, 4, 5], [5, 5, 1, 2, 3])\n",
        "simon_says([1, 2], [5, 5])\n",
        "simon_says([1, 2, 3, 4, 5], [0, 1, 2, 3, 4])"
      ],
      "metadata": {
        "colab": {
          "base_uri": "https://localhost:8080/"
        },
        "id": "sutraYWNqDDB",
        "outputId": "bd3817bc-05e6-4c95-f8f4-8f0ff0e219c4"
      },
      "execution_count": 23,
      "outputs": [
        {
          "output_type": "stream",
          "name": "stdout",
          "text": [
            "True\n",
            "False\n",
            "False\n",
            "True\n"
          ]
        }
      ]
    },
    {
      "cell_type": "markdown",
      "source": [
        "#Question 3\n",
        "\n",
        "A group of friends have decided to start a secret society. The name will be the first letter of\n",
        "each of their names, sorted in alphabetical order.\n",
        "Create a function that takes in a list of names and returns the name of the secret society.\n",
        "\n",
        "...............\n",
        "\n",
        "Answer 3 -\n",
        "\n",
        "Below is the program for the same:"
      ],
      "metadata": {
        "id": "n-NZBUz3qn6d"
      }
    },
    {
      "cell_type": "code",
      "source": [
        "def society_name(names):\n",
        "    secret_name = ''.join(sorted(name[0] for name in names))\n",
        "    return secret_name\n",
        "\n",
        "\n",
        "print(society_name([\"Abhishek\", \"Sumit\", \"Mohan\"]))\n",
        "print(society_name([\"Pankhuri\", \"Radha\", \"Sambhav\"]))"
      ],
      "metadata": {
        "colab": {
          "base_uri": "https://localhost:8080/"
        },
        "id": "mBuMm5Esqs4l",
        "outputId": "e7a83e77-d448-4422-b381-7e3cd04008b1"
      },
      "execution_count": 26,
      "outputs": [
        {
          "output_type": "stream",
          "name": "stdout",
          "text": [
            "AMS\n",
            "PRS\n"
          ]
        }
      ]
    },
    {
      "cell_type": "markdown",
      "source": [
        "In this function, we use a list comprehension to extract the first letter of each name and store them in a list. Then, we use the **sorted()** function to sort the list of first letters in alphabetical order. Finally, we use **.join()** to concatenate the sorted first letters into a single string, which is the name of the secret society."
      ],
      "metadata": {
        "id": "y_MZ9GSvrYuo"
      }
    },
    {
      "cell_type": "markdown",
      "source": [
        "#Question 4\n",
        "\n",
        "An isogram is a word that has no duplicate letters. Create a function that takes a string and\n",
        "returns either True or False depending on whether or not it's an \"isogram\".\n",
        "\n",
        "................\n",
        "\n",
        "Answer 4 -\n",
        "\n",
        "Here's the python program for the same:"
      ],
      "metadata": {
        "id": "0mCmZvG8rtny"
      }
    },
    {
      "cell_type": "code",
      "source": [
        "def is_isogram(string):\n",
        "    seen_letters = set()\n",
        "\n",
        "    for char in string.lower():\n",
        "        if char.isalpha():\n",
        "            if char in seen_letters:\n",
        "                return False\n",
        "            seen_letters.add(char)\n",
        "\n",
        "    return True\n",
        "\n",
        "\n",
        "print(is_isogram(\"Algorithm\"))\n",
        "print(is_isogram(\"helLoworld\"))\n",
        "print(is_isogram(\"Python\"))"
      ],
      "metadata": {
        "colab": {
          "base_uri": "https://localhost:8080/"
        },
        "id": "Us73vJMPq8oE",
        "outputId": "e2ebacbf-c0fe-4746-bb44-6c21c1b2dacd"
      },
      "execution_count": 29,
      "outputs": [
        {
          "output_type": "stream",
          "name": "stdout",
          "text": [
            "True\n",
            "False\n",
            "True\n"
          ]
        }
      ]
    },
    {
      "cell_type": "markdown",
      "source": [
        "In this function, we use a set called `seen_letters` to keep track of the letters seen so far in the string. We convert the string to lowercase using **lower()** to handle case-insensitive comparison. For each character in the string, we check if it is an alphabet letter using **isalpha()** . If it is, we check if the letter is already present in the seen_letters set. If it is, then the string is not an isogram, and we return False. Otherwise, we add the letter to the set. If the loop completes without finding any duplicates, the string is an isogram, and we return True."
      ],
      "metadata": {
        "id": "d3SPsgBDsWfq"
      }
    },
    {
      "cell_type": "markdown",
      "source": [
        "#Question 5\n",
        "\n",
        "Create a function that takes a string and returns True or False, depending on whether the\n",
        "characters are in order or not.\n",
        "\n",
        "...............\n",
        "\n",
        "Answer 5 -\n",
        "\n",
        "To create a function that checks if the characters in a string are in ascending order, you can compare each character's Unicode code point with the next one. If they are in ascending order, the string is in order; otherwise, it's not.\n",
        "\n",
        "Here's the Python program for the same:"
      ],
      "metadata": {
        "id": "YdQfIrMXsiCX"
      }
    },
    {
      "cell_type": "code",
      "source": [
        "def is_in_order(string):\n",
        "    for i in range(len(string) - 1):\n",
        "        if ord(string[i]) > ord(string[i + 1]):\n",
        "            return False\n",
        "    return True\n",
        "\n",
        "\n",
        "print(is_in_order(\"abcb\"))\n",
        "print(is_in_order(\"python\"))\n",
        "print(is_in_order(\"hello\"))\n",
        "print(is_in_order(\"12344\"))"
      ],
      "metadata": {
        "colab": {
          "base_uri": "https://localhost:8080/"
        },
        "id": "-j7bN-ghsxOi",
        "outputId": "e48d3312-9d70-4e31-a4c3-921638ba1c9e"
      },
      "execution_count": 38,
      "outputs": [
        {
          "output_type": "stream",
          "name": "stdout",
          "text": [
            "False\n",
            "False\n",
            "False\n",
            "True\n"
          ]
        }
      ]
    }
  ]
}