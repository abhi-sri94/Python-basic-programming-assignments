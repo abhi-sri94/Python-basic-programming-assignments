{
  "nbformat": 4,
  "nbformat_minor": 0,
  "metadata": {
    "colab": {
      "provenance": [],
      "toc_visible": true
    },
    "kernelspec": {
      "name": "python3",
      "display_name": "Python 3"
    },
    "language_info": {
      "name": "python"
    }
  },
  "cells": [
    {
      "cell_type": "markdown",
      "source": [
        "#Question 1\n",
        "\n",
        "Write a function that stutters a word as if someone is struggling to read it. The\n",
        "first two letters are repeated twice with an ellipsis ... and space after each, and then the\n",
        "word is pronounced with a question mark ?.\n",
        "Examples\n",
        "stutter(\"incredible\") ➞ \"in... in... incredible?\"\n",
        "stutter(\"enthusiastic\") ➞ \"en... en... enthusiastic?\"\n",
        "stutter(\"outstanding\") ➞ \"ou... ou... outstanding?\"\n",
        "\n",
        "Hint :- Assume all input is in lower case and at least two characters long.\n",
        "\n",
        "..............\n",
        "\n",
        "Answer 1 -\n",
        "\n",
        "Below is the Python program:"
      ],
      "metadata": {
        "id": "B77fdNRHjc8x"
      }
    },
    {
      "cell_type": "code",
      "source": [
        "def stutter(word):\n",
        "    if len(word) < 2:\n",
        "        raise ValueError(\"Input word should be at least two characters long.\")\n",
        "\n",
        "    first_two_letters = word[:2]\n",
        "    stuttered_word = f\"{first_two_letters}... {first_two_letters}... {word}?\"\n",
        "    return stuttered_word\n"
      ],
      "metadata": {
        "id": "fun8UFMBjxoM"
      },
      "execution_count": 2,
      "outputs": []
    },
    {
      "cell_type": "code",
      "source": [
        "print(stutter(\"incredible\"))\n",
        "print(stutter(\"enthusiastic\"))\n",
        "print(stutter(\"outstanding\"))"
      ],
      "metadata": {
        "colab": {
          "base_uri": "https://localhost:8080/"
        },
        "id": "Wnqd_XAPkHAg",
        "outputId": "f9992877-8040-4fcf-858b-068af49fd61c"
      },
      "execution_count": 3,
      "outputs": [
        {
          "output_type": "stream",
          "name": "stdout",
          "text": [
            "in... in... incredible?\n",
            "en... en... enthusiastic?\n",
            "ou... ou... outstanding?\n"
          ]
        }
      ]
    },
    {
      "cell_type": "markdown",
      "source": [
        "#Question 2\n",
        "\n",
        "Create a function that takes an angle in radians and returns the corresponding\n",
        "angle in degrees rounded to one decimal place.\n",
        "Examples\n",
        "radians_to_degrees(1) ➞ 57.3\n",
        "radians_to_degrees(20) ➞ 1145.9\n",
        "radians_to_degrees(50) ➞ 2864.8\n",
        "\n",
        "................\n",
        "\n",
        "Answer 2 -\n",
        "\n",
        "We wil use the formula below:"
      ],
      "metadata": {
        "id": "kzMACk1pkhva"
      }
    },
    {
      "cell_type": "code",
      "source": [
        "degrees = radians * (180 / π)"
      ],
      "metadata": {
        "id": "rPWgaQ8Bkx3O"
      },
      "execution_count": null,
      "outputs": []
    },
    {
      "cell_type": "markdown",
      "source": [
        "where π (pi) is approximately 3.14159. We can implement this as a Python function:"
      ],
      "metadata": {
        "id": "at_mo4tdk0zB"
      }
    },
    {
      "cell_type": "code",
      "source": [
        "import math\n",
        "\n",
        "def radians_to_degrees(radians):\n",
        "    degrees = radians * (180.0 / math.pi)\n",
        "    return round(degrees, 1)"
      ],
      "metadata": {
        "id": "GxoQBLpClOmV"
      },
      "execution_count": 12,
      "outputs": []
    },
    {
      "cell_type": "code",
      "source": [
        "print(radians_to_degrees(1))\n",
        "print(radians_to_degrees(20))\n",
        "print(radians_to_degrees(50))"
      ],
      "metadata": {
        "colab": {
          "base_uri": "https://localhost:8080/"
        },
        "id": "rbK_8AAuk7HP",
        "outputId": "b0c3cede-aa3c-4873-9882-e9fa28d83cca"
      },
      "execution_count": 13,
      "outputs": [
        {
          "output_type": "stream",
          "name": "stdout",
          "text": [
            "57.3\n",
            "1145.9\n",
            "2864.8\n"
          ]
        }
      ]
    },
    {
      "cell_type": "markdown",
      "source": [
        "The `math.pi` constant provides the value of `π` , and the function rounds the result to one decimal place using the **round()** function."
      ],
      "metadata": {
        "id": "rfzcGeOElX0y"
      }
    },
    {
      "cell_type": "markdown",
      "source": [
        "#Question 3\n",
        "\n",
        "In this challenge, establish if a given integer num is a Curzon number. If 1 plus\n",
        "2 elevated to num is exactly divisible by 1 plus 2 multiplied by num, then num is a Curzon\n",
        "number.\n",
        "\n",
        "Given a non-negative integer num, implement a function that returns True if num is a Curzon\n",
        "number, or False otherwise.\n",
        "\n",
        "Examples\n",
        "\n",
        "is_curzon(5) ➞ True\n",
        "# 2 ** 5 + 1 = 33\n",
        "# 2 * 5 + 1 = 11\n",
        "# 33 is a multiple of 11\n",
        "is_curzon(10) ➞ False\n",
        "# 2 ** 10 + 1 = 1025\n",
        "# 2 * 10 + 1 = 21\n",
        "# 1025 is not a multiple of 21\n",
        "is_curzon(14) ➞ True\n",
        "# 2 ** 14 + 1 = 16385\n",
        "# 2 * 14 + 1 = 29\n",
        "# 16385 is a multiple of 29\n",
        "\n",
        "...............\n",
        "\n",
        "Answer 3 -\n",
        "\n",
        "To check if a given integer num is a `Curzon` number, you can calculate `2 ** num + 1` and `2 * num + 1` , and then verify if the former is divisible by the latter. If it is divisible, then num is a Curzon number.\n",
        "\n",
        "Here's a Python function to implement this:"
      ],
      "metadata": {
        "id": "7wRzENp_lgj9"
      }
    },
    {
      "cell_type": "code",
      "source": [
        "def is_curzon(num):\n",
        "    numerator = 2 ** num + 1\n",
        "    denominator = 2 * num + 1\n",
        "    return numerator % denominator == 0"
      ],
      "metadata": {
        "id": "Tlwd8uuelEIN"
      },
      "execution_count": 15,
      "outputs": []
    },
    {
      "cell_type": "code",
      "source": [
        "print(is_curzon(5))\n",
        "print(is_curzon(10))\n",
        "print(is_curzon(14))"
      ],
      "metadata": {
        "colab": {
          "base_uri": "https://localhost:8080/"
        },
        "id": "VfjCtH4Zpk2x",
        "outputId": "2edbde66-060d-4957-f3c4-576bc0b672ae"
      },
      "execution_count": 16,
      "outputs": [
        {
          "output_type": "stream",
          "name": "stdout",
          "text": [
            "True\n",
            "False\n",
            "True\n"
          ]
        }
      ]
    },
    {
      "cell_type": "markdown",
      "source": [
        "The function calculates the values of `numerator` and `denominator` and checks if numerator is divisible by denominator using the modulo operator (`%`). If the result is `zero` , then numerator is `divisible` by denominator, and the function returns `True` , indicating that num is a `Curzon` number. Otherwise, it returns `False` ."
      ],
      "metadata": {
        "id": "T7ptFTuppvks"
      }
    },
    {
      "cell_type": "markdown",
      "source": [
        "#Question 4\n",
        "\n",
        "Find the side of hexagon with the side 'x'?\n",
        "\n",
        "..............\n",
        "\n",
        "Answer 4 -\n",
        "\n",
        "Let's assume the side is 5 cm"
      ],
      "metadata": {
        "id": "UFYthH5YwWXJ"
      }
    },
    {
      "cell_type": "code",
      "source": [
        "import math\n",
        "\n",
        "def hexagon_area(s):\n",
        "    area = (3 * math.sqrt(3) * s**2) / 2\n",
        "    return area"
      ],
      "metadata": {
        "id": "TuUdomippheA"
      },
      "execution_count": 18,
      "outputs": []
    },
    {
      "cell_type": "code",
      "source": [
        "side_length = 5\n",
        "result_area = hexagon_area(side_length)\n",
        "print(f\"The area of the hexagon with side length {side_length} is: {result_area:.2f} square units\")"
      ],
      "metadata": {
        "colab": {
          "base_uri": "https://localhost:8080/"
        },
        "id": "mKn2SKMZwXR2",
        "outputId": "0d160775-2007-4e3a-f07a-507664cb99f2"
      },
      "execution_count": 19,
      "outputs": [
        {
          "output_type": "stream",
          "name": "stdout",
          "text": [
            "The area of the hexagon with side length 5 is: 64.95 square units\n"
          ]
        }
      ]
    },
    {
      "cell_type": "markdown",
      "source": [
        "In this code, the hexagon_area function takes the side length `\"s\"` as input and returns the calculated area using the provided formula. The **math.sqrt()** function is used to calculate the square root. The final result is rounded to two decimal places for better readability. You can test the program with different side lengths by changing the `side_length` variable."
      ],
      "metadata": {
        "id": "Z-awG1Juw5_-"
      }
    },
    {
      "cell_type": "markdown",
      "source": [
        "#Question 5\n",
        "\n",
        "Create a function that returns a base-2 (binary) representation of a base-10\n",
        "(decimal) string number. To convert is simple: ((2) means base-2 and (10) means base-10)\n",
        "010101001(2) = 1 + 8 + 32 + 128.\n",
        "\n",
        "Going from right to left, the value of the most right bit is 1, now from that every bit to the left\n",
        "will be x2 the value, value of an 8 bit binary numbers are (256, 128, 64, 32, 16, 8, 4, 2, 1).\n",
        "\n",
        "..............\n",
        "\n",
        "Answer 5 -\n",
        "\n",
        "Here's a Python function that converts a base-10 (decimal) number to a base-2 (binary)."
      ],
      "metadata": {
        "id": "zbhkEIXfxFYj"
      }
    },
    {
      "cell_type": "code",
      "source": [
        "def binary(decimal_number):\n",
        "    if decimal_number == 0:\n",
        "        return \"0\"\n",
        "\n",
        "    binary_representation = \"\"\n",
        "    while decimal_number > 0:\n",
        "        binary_representation = str(decimal_number % 2) + binary_representation\n",
        "        decimal_number = decimal_number // 2\n",
        "\n",
        "    return binary_representation"
      ],
      "metadata": {
        "id": "ytLOsehlw3G-"
      },
      "execution_count": 21,
      "outputs": []
    },
    {
      "cell_type": "code",
      "source": [
        "print(binary(1))\n",
        "print(binary(5))\n",
        "print(binary(10))\n",
        "print(binary(255))"
      ],
      "metadata": {
        "colab": {
          "base_uri": "https://localhost:8080/"
        },
        "id": "1-rv3rmJxsjZ",
        "outputId": "03a55f46-d324-4fab-ac5d-f38435734aea"
      },
      "execution_count": 22,
      "outputs": [
        {
          "output_type": "stream",
          "name": "stdout",
          "text": [
            "1\n",
            "101\n",
            "1010\n",
            "11111111\n"
          ]
        }
      ]
    },
    {
      "cell_type": "markdown",
      "source": [
        "This function works in the following way:\n",
        "\n",
        "1) It checks if the input `decimal_number` is 0. If it is, it returns \"0\" as the binary representation.\n",
        "\n",
        "2) For non-zero numbers, it iteratively divides the decimal_number by 2 and adds the remainder (either 0 or 1) to the `binary_representation` . This process goes from right to left in the binary representation.\n",
        "\n",
        "3) When `decimal_number` becomes 0, the loop stops, and the `binary_representation` is returned."
      ],
      "metadata": {
        "id": "xqmnThcMx63X"
      }
    }
  ]
}