{
  "nbformat": 4,
  "nbformat_minor": 0,
  "metadata": {
    "colab": {
      "provenance": [],
      "toc_visible": true
    },
    "kernelspec": {
      "name": "python3",
      "display_name": "Python 3"
    },
    "language_info": {
      "name": "python"
    }
  },
  "cells": [
    {
      "cell_type": "markdown",
      "source": [
        "#Question 1\n",
        "\n",
        "Write a Python Program to Add Two Matrices?\n",
        "\n",
        "..............\n",
        "\n",
        "Answer 1 -\n",
        "\n",
        "To add two matrices in Python, the matrices must have the same dimensions (i.e., same number of rows and columns). To add two matrices, you simply add the corresponding elements of each matrix together to get the corresponding element of the resulting matrix.\n",
        "\n",
        "Here's the program to add two matrices:"
      ],
      "metadata": {
        "id": "-qz6PdBoAzaQ"
      }
    },
    {
      "cell_type": "code",
      "source": [
        "def add_matrices(matrix1, matrix2):\n",
        "    result_matrix = []\n",
        "    for i in range(len(matrix1)):\n",
        "        row = []\n",
        "        for j in range(len(matrix1[0])):\n",
        "            row.append(matrix1[i][j] + matrix2[i][j])\n",
        "        result_matrix.append(row)\n",
        "    return result_matrix\n",
        "\n",
        "# Input the dimensions of the matrices\n",
        "rows = int(input(\"Enter the number of rows: \"))\n",
        "cols = int(input(\"Enter the number of columns: \"))\n",
        "\n",
        "# Input the elements of the first matrix\n",
        "print(\"Enter elements of the first matrix:\")\n",
        "matrix1 = [[int(input(f\"Enter element for row {i+1}, column {j+1}: \")) for j in range(cols)] for i in range(rows)]\n",
        "\n",
        "# Input the elements of the second matrix\n",
        "print(\"Enter elements of the second matrix:\")\n",
        "matrix2 = [[int(input(f\"Enter element for row {i+1}, column {j+1}: \")) for j in range(cols)] for i in range(rows)]\n",
        "\n",
        "# Add the two matrices using the function\n",
        "result_matrix = add_matrices(matrix1, matrix2)\n",
        "\n",
        "# Print the result\n",
        "print(\"The result after adding the two matrices:\")\n",
        "for row in result_matrix:\n",
        "    print(row)"
      ],
      "metadata": {
        "colab": {
          "base_uri": "https://localhost:8080/"
        },
        "id": "_8MQJ0XUA7yg",
        "outputId": "9ee6e3da-8328-4f9d-9446-4382b57a19c8"
      },
      "execution_count": null,
      "outputs": [
        {
          "output_type": "stream",
          "name": "stdout",
          "text": [
            "Enter the number of rows: 2\n",
            "Enter the number of columns: 2\n",
            "Enter elements of the first matrix:\n",
            "Enter element for row 1, column 1: 1\n",
            "Enter element for row 1, column 2: 2\n",
            "Enter element for row 2, column 1: 3\n",
            "Enter element for row 2, column 2: 4\n",
            "Enter elements of the second matrix:\n",
            "Enter element for row 1, column 1: 5\n",
            "Enter element for row 1, column 2: 6\n",
            "Enter element for row 2, column 1: 7\n",
            "Enter element for row 2, column 2: 8\n",
            "The result after adding the two matrices:\n",
            "[6, 8]\n",
            "[10, 12]\n"
          ]
        }
      ]
    },
    {
      "cell_type": "markdown",
      "source": [
        "#Question 2\n",
        "\n",
        "Write a Python Program to Multiply Two Matrices?\n",
        "\n",
        "..............\n",
        "\n",
        "Answer 2 -\n",
        "\n",
        "To multiply two matrices in Python, the number of columns in the first matrix should be equal to the number of rows in the second matrix. The resulting matrix will have the number of rows from the first matrix and the number of columns from the second matrix.\n",
        "\n",
        "Here's the program to multiply two matrices:"
      ],
      "metadata": {
        "id": "HKN14oYUQaVJ"
      }
    },
    {
      "cell_type": "code",
      "source": [
        "def multiply_matrices(matrix1, matrix2):\n",
        "    rows1, cols1 = len(matrix1), len(matrix1[0])\n",
        "    rows2, cols2 = len(matrix2), len(matrix2[0])\n",
        "\n",
        "    if cols1 != rows2:\n",
        "        print(\"Matrix multiplication not possible. Number of columns in the first matrix should be equal to the number of rows in the second matrix.\")\n",
        "        return None\n",
        "\n",
        "    result_matrix = [[0 for _ in range(cols2)] for _ in range(rows1)]\n",
        "\n",
        "    for i in range(rows1):\n",
        "        for j in range(cols2):\n",
        "            for k in range(cols1):\n",
        "                result_matrix[i][j] += matrix1[i][k] * matrix2[k][j]\n",
        "\n",
        "    return result_matrix\n",
        "\n",
        "# Input the dimensions of the matrices\n",
        "rows1 = int(input(\"Enter the number of rows of the first matrix: \"))\n",
        "cols1 = int(input(\"Enter the number of columns of the first matrix: \"))\n",
        "rows2 = int(input(\"Enter the number of rows of the second matrix: \"))\n",
        "cols2 = int(input(\"Enter the number of columns of the second matrix: \"))\n",
        "\n",
        "if cols1 != rows2:\n",
        "    print(\"Matrix multiplication not possible. Number of columns in the first matrix should be equal to the number of rows in the second matrix.\")\n",
        "else:\n",
        "    # Input the elements of the first matrix\n",
        "    print(\"Enter elements of the first matrix:\")\n",
        "    matrix1 = [[int(input(f\"Enter element for row {i+1}, column {j+1}: \")) for j in range(cols1)] for i in range(rows1)]\n",
        "\n",
        "    # Input the elements of the second matrix\n",
        "    print(\"Enter elements of the second matrix:\")\n",
        "    matrix2 = [[int(input(f\"Enter element for row {i+1}, column {j+1}: \")) for j in range(cols2)] for i in range(rows2)]\n",
        "\n",
        "    # Multiply the two matrices using the function\n",
        "    result_matrix = multiply_matrices(matrix1, matrix2)\n",
        "\n",
        "    # Print the result\n",
        "    if result_matrix:\n",
        "        print(\"The result after multiplying the two matrices:\")\n",
        "        for row in result_matrix:\n",
        "            print(row)"
      ],
      "metadata": {
        "colab": {
          "base_uri": "https://localhost:8080/"
        },
        "id": "u7p67UNeA97F",
        "outputId": "1ac6a545-e11b-4f9e-ea5f-d047201d5003"
      },
      "execution_count": null,
      "outputs": [
        {
          "output_type": "stream",
          "name": "stdout",
          "text": [
            "Enter the number of rows of the first matrix: 2\n",
            "Enter the number of columns of the first matrix: 2\n",
            "Enter the number of rows of the second matrix: 2\n",
            "Enter the number of columns of the second matrix: 2\n",
            "Enter elements of the first matrix:\n",
            "Enter element for row 1, column 1: 1\n",
            "Enter element for row 1, column 2: 2\n",
            "Enter element for row 2, column 1: 3\n",
            "Enter element for row 2, column 2: 4\n",
            "Enter elements of the second matrix:\n",
            "Enter element for row 1, column 1: 5\n",
            "Enter element for row 1, column 2: 6\n",
            "Enter element for row 2, column 1: 7\n",
            "Enter element for row 2, column 2: 8\n",
            "The result after multiplying the two matrices:\n",
            "[19, 22]\n",
            "[43, 50]\n"
          ]
        }
      ]
    },
    {
      "cell_type": "markdown",
      "source": [
        "#Question 3\n",
        "\n",
        "Write a Python Program to Transpose a Matrix?\n",
        "\n",
        "..............\n",
        "\n",
        "Answer 3 -\n",
        "\n",
        "To transpose a matrix in Python, we need to interchange the rows and columns. The resulting matrix will have the number of rows equal to the number of columns in the original matrix and vice versa.\n",
        "\n",
        "Here's the program to transpose a matrix:"
      ],
      "metadata": {
        "id": "NPQILcCORFa4"
      }
    },
    {
      "cell_type": "code",
      "source": [
        "def transpose_matrix(matrix):\n",
        "    rows, cols = len(matrix), len(matrix[0])\n",
        "    transposed_matrix = [[matrix[j][i] for j in range(rows)] for i in range(cols)]\n",
        "    return transposed_matrix\n",
        "\n",
        "# Input the dimensions of the matrix\n",
        "rows = int(input(\"Enter the number of rows: \"))\n",
        "cols = int(input(\"Enter the number of columns: \"))\n",
        "\n",
        "# Input the elements of the matrix\n",
        "print(\"Enter elements of the matrix:\")\n",
        "matrix = [[int(input(f\"Enter element for row {i+1}, column {j+1}: \")) for j in range(cols)] for i in range(rows)]\n",
        "\n",
        "# Transpose the matrix using the function\n",
        "transposed_matrix = transpose_matrix(matrix)\n",
        "\n",
        "# Print the result\n",
        "print(\"The transposed matrix:\")\n",
        "for row in transposed_matrix:\n",
        "    print(row)"
      ],
      "metadata": {
        "colab": {
          "base_uri": "https://localhost:8080/"
        },
        "id": "TL03wgIFQvWv",
        "outputId": "4366f61e-0214-4f8a-f998-079ed095e762"
      },
      "execution_count": null,
      "outputs": [
        {
          "output_type": "stream",
          "name": "stdout",
          "text": [
            "Enter the number of rows: 2\n",
            "Enter the number of columns: 2\n",
            "Enter elements of the matrix:\n",
            "Enter element for row 1, column 1: 1\n",
            "Enter element for row 1, column 2: 2\n",
            "Enter element for row 2, column 1: 3\n",
            "Enter element for row 2, column 2: 4\n",
            "The transposed matrix:\n",
            "[1, 3]\n",
            "[2, 4]\n"
          ]
        }
      ]
    },
    {
      "cell_type": "markdown",
      "source": [
        "#Question 4\n",
        "\n",
        "Write a Python Program to Sort Words in Alphabetic Order?\n",
        "\n",
        "..............\n",
        "\n",
        "Answer 4 -\n",
        "\n",
        "To sort words in alphabetical order in Python, we can split the input sentence into individual words, sort them using the **sorted()** function or the **sort()** method, and then join the sorted words back into a sentence.\n",
        "\n",
        "Here's the program to sort words in alphabetical order:"
      ],
      "metadata": {
        "id": "higgO_yrRYx8"
      }
    },
    {
      "cell_type": "code",
      "source": [
        "def sort_words_alphabetically(sentence):\n",
        "    words = sentence.split()\n",
        "    sorted_words = sorted(words)\n",
        "    sorted_sentence = \" \".join(sorted_words)\n",
        "    return sorted_sentence\n",
        "\n",
        "# Input the sentence from the user\n",
        "sentence = input(\"Enter a sentence: \")\n",
        "\n",
        "# Sort the words in alphabetical order using the function\n",
        "result = sort_words_alphabetically(sentence)\n",
        "\n",
        "# Print the result\n",
        "print(\"Sentence with words sorted in alphabetical order:\")\n",
        "print(result)"
      ],
      "metadata": {
        "colab": {
          "base_uri": "https://localhost:8080/"
        },
        "id": "-aTqceyGRTVp",
        "outputId": "7227db14-599d-4435-f564-256b158a1e51"
      },
      "execution_count": null,
      "outputs": [
        {
          "output_type": "stream",
          "name": "stdout",
          "text": [
            "Enter a sentence: my name is abhishek\n",
            "Sentence with words sorted in alphabetical order:\n",
            "abhishek is my name\n"
          ]
        }
      ]
    },
    {
      "cell_type": "markdown",
      "source": [
        "#Question 5\n",
        "\n",
        "Write a Python Program to Remove Punctuation From a String?\n",
        "\n",
        ".............\n",
        "\n",
        "Answer 5 -\n",
        "\n",
        "\n",
        "We can remove punctuation from a string in Python using various methods. One common approach is to use the string module and its punctuation constant to identify and remove all punctuation characters from the string.\n",
        "\n",
        "Here's a Python program to do that:"
      ],
      "metadata": {
        "id": "nMKfDXalSE3J"
      }
    },
    {
      "cell_type": "code",
      "source": [
        "import string\n",
        "\n",
        "def remove_punctuation(input_string):\n",
        "    # Create a translation table to remove punctuation characters\n",
        "    translator = str.maketrans('', '', string.punctuation)\n",
        "\n",
        "    # Use the translate method to remove punctuation from the input_string\n",
        "    result = input_string.translate(translator)\n",
        "\n",
        "    return result\n",
        "\n",
        "def main():\n",
        "    # Get input from the user\n",
        "    input_string = input(\"Enter a string with punctuation: \")\n",
        "\n",
        "    # Remove punctuation from the string\n",
        "    result_string = remove_punctuation(input_string)\n",
        "\n",
        "    # Print the result\n",
        "    print(\"String without punctuation:\", result_string)\n",
        "\n",
        "if __name__ == \"__main__\":\n",
        "    main()"
      ],
      "metadata": {
        "colab": {
          "base_uri": "https://localhost:8080/"
        },
        "id": "mLD_7lSjVeGz",
        "outputId": "e5d77f63-4111-46d2-e154-bc8f7cfe48cf"
      },
      "execution_count": 17,
      "outputs": [
        {
          "output_type": "stream",
          "name": "stdout",
          "text": [
            "Enter a string with punctuation: \"Hello guys, my name is Abhishek Srivastava\"\n",
            "String without punctuation: Hello guys my name is Abhishek Srivastava\n"
          ]
        }
      ]
    }
  ]
}