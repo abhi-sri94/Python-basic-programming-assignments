{
  "nbformat": 4,
  "nbformat_minor": 0,
  "metadata": {
    "colab": {
      "provenance": [],
      "toc_visible": true
    },
    "kernelspec": {
      "name": "python3",
      "display_name": "Python 3"
    },
    "language_info": {
      "name": "python"
    }
  },
  "cells": [
    {
      "cell_type": "markdown",
      "source": [
        "#Question 1\n",
        "\n",
        "Create a function that takes a list of strings and integers, and filters out the list so that it returns a list of integers only.\n",
        "\n",
        "..............\n",
        "\n",
        "Answer 1 -\n",
        "\n",
        "Program for the same:"
      ],
      "metadata": {
        "id": "A-XDiEJWTJBL"
      }
    },
    {
      "cell_type": "code",
      "source": [
        "def filter_integers(input_list):\n",
        "    return [x for x in input_list if isinstance(x, int)]\n",
        "\n",
        "\n",
        "mixed_list = [1, \"hello\", 2, \"world\", 3, \"123\", 4]\n",
        "\n",
        "print(filter_integers(mixed_list))"
      ],
      "metadata": {
        "colab": {
          "base_uri": "https://localhost:8080/"
        },
        "id": "xHWLW3jITcLe",
        "outputId": "e7f02a8d-791d-409f-84af-de76aa0d36c3"
      },
      "execution_count": 8,
      "outputs": [
        {
          "output_type": "stream",
          "name": "stdout",
          "text": [
            "[1, 2, 3, 4]\n"
          ]
        }
      ]
    },
    {
      "cell_type": "markdown",
      "source": [
        "#Question 2\n",
        "\n",
        "Given a list of numbers, create a function which returns the list but with each element's index in the list added to itself. This means you add 0 to the number at index 0, add 1 to the number at index 1, etc...\n",
        "\n",
        ".............\n",
        "\n",
        "Answer 2 -\n",
        "\n",
        "We can create a function that adds each element's index in the list to itself using a list comprehension. Here's the Python implementation:"
      ],
      "metadata": {
        "id": "QkHadNt9UTTu"
      }
    },
    {
      "cell_type": "code",
      "source": [
        "def add_index_to_element(input_list):\n",
        "    return [num + index for index, num in enumerate(input_list)]\n",
        "\n",
        "\n",
        "numbers_list = [1, 2, 3, 4, 5]\n",
        "\n",
        "print(add_index_to_element(numbers_list))"
      ],
      "metadata": {
        "colab": {
          "base_uri": "https://localhost:8080/"
        },
        "id": "we-Ymwx2Tl2H",
        "outputId": "f0175c97-3e82-4305-ae7e-deaebbc79453"
      },
      "execution_count": 9,
      "outputs": [
        {
          "output_type": "stream",
          "name": "stdout",
          "text": [
            "[1, 3, 5, 7, 9]\n"
          ]
        }
      ]
    },
    {
      "cell_type": "markdown",
      "source": [
        "#Question 3\n",
        "\n",
        "Create a function that takes the height and radius of a cone as arguments and returns the volume of the cone rounded to the nearest hundredth.\n",
        "\n",
        "..............\n",
        "\n",
        "Answer 3 -\n",
        "\n",
        "To calculate the volume of a cone, you can use the formula `V = (1/3) * π * r^2 * h` , where `\"r\"` is the radius and `\"h\"` is the height of the cone. To round the result to the nearest hundredth, you can use the **round()** function in Python.\n",
        "\n",
        "Here's the function implementation:"
      ],
      "metadata": {
        "id": "FRD4coAOfihF"
      }
    },
    {
      "cell_type": "code",
      "source": [
        "import math\n",
        "\n",
        "def cone_volume(height, radius):\n",
        "    volume = (1/3) * math.pi * radius**2 * height\n",
        "    return round(volume, 2)\n",
        "\n",
        "\n",
        "print(cone_volume(5, 2))\n",
        "print(cone_volume(10, 3))\n",
        "print(cone_volume(8, 1.5))"
      ],
      "metadata": {
        "colab": {
          "base_uri": "https://localhost:8080/"
        },
        "id": "ra-5B0TdUvC9",
        "outputId": "2ffa5457-c361-4911-8f82-f1957495fb48"
      },
      "execution_count": 10,
      "outputs": [
        {
          "output_type": "stream",
          "name": "stdout",
          "text": [
            "20.94\n",
            "94.25\n",
            "18.85\n"
          ]
        }
      ]
    },
    {
      "cell_type": "markdown",
      "source": [
        "In this function, we use the `math.pi` constant from the math module to get the value of `π` . We then calculate the volume using the given formula, and finally, the **round()** function is used to round the result to two decimal places, as specified."
      ],
      "metadata": {
        "id": "m3zCBJVEgRx6"
      }
    },
    {
      "cell_type": "markdown",
      "source": [
        "#Question 4\n",
        "\n",
        "This Triangular Number Sequence is generated from a pattern of dots that form a triangle.\n",
        "\n",
        "The first 5 numbers of the sequence, or dots, are:\n",
        "1, 3, 6, 10, 15\n",
        "\n",
        "This means that the first triangle has just one dot, the second one has three dots, the third one\n",
        "has 6 dots and so on.\n",
        "\n",
        "Write a function that gives the number of dots with its corresponding triangle number of the\n",
        "sequence.\n",
        "\n",
        "..................\n",
        "\n",
        "Answer 4 -\n",
        "\n",
        "To find the number of dots given the corresponding triangle number in the sequence, you can use the reverse of the triangular number formula. The reverse formula to find the nth triangular number is given by: `n = (sqrt(8 * Tn + 1) - 1) / 2` , where `Tn` is the number of dots.\n",
        "\n",
        "Here's the Python function to implement this:"
      ],
      "metadata": {
        "id": "qxmE3DOlIeS1"
      }
    },
    {
      "cell_type": "code",
      "source": [
        "import math\n",
        "\n",
        "def triangle(num_dots):\n",
        "    if num_dots < 1:\n",
        "        raise ValueError(\"Number of dots must be greater than or equal to 1.\")\n",
        "\n",
        "    triangle_number = (math.sqrt(8 * num_dots + 1) - 1) // 2\n",
        "    return int(triangle_number)\n",
        "\n",
        "\n",
        "print(triangle(1))\n",
        "print(triangle(6))\n",
        "print(triangle(21))\n",
        "print(triangle(23220))"
      ],
      "metadata": {
        "colab": {
          "base_uri": "https://localhost:8080/"
        },
        "id": "qXlfdUSHgMOs",
        "outputId": "193fa118-84b8-45db-9daa-a89113cac3a8"
      },
      "execution_count": 2,
      "outputs": [
        {
          "output_type": "stream",
          "name": "stdout",
          "text": [
            "1\n",
            "3\n",
            "6\n",
            "215\n"
          ]
        }
      ]
    },
    {
      "cell_type": "markdown",
      "source": [
        "In this function, we check if the input `num_dots` is greater than or equal to 1. If not, we raise a `ValueError` since the number of dots must be a positive integer. Then, we calculate the corresponding triangle number using the reverse formula and return the result as an integer."
      ],
      "metadata": {
        "id": "TXXQct8tJJYf"
      }
    },
    {
      "cell_type": "markdown",
      "source": [
        "#Question 5\n",
        "\n",
        "Create a function that takes a list of numbers between 1 and 10 (excluding one number) and\n",
        "returns the missing number.\n",
        "\n",
        "..............\n",
        "\n",
        "Answer 5 -\n",
        "\n",
        "To find the missing number in a list of numbers between 1 and 10 (excluding one number), we can calculate the sum of all the numbers from 1 to 10 using the formula **n*(n+1)/2** , where `n` is `10` in this case. Then, subtract the sum of the given list from the calculated sum. The result will be the missing number.\n",
        "\n",
        "Here's the Python function to implement this:"
      ],
      "metadata": {
        "id": "Fx3eBmyRJQeL"
      }
    },
    {
      "cell_type": "code",
      "source": [
        "def find_missing_number(nums):\n",
        "    n = 10\n",
        "    total_sum = n * (n + 1) // 2\n",
        "    list_sum = sum(nums)\n",
        "    missing_number = total_sum - list_sum\n",
        "    return missing_number\n",
        "\n",
        "\n",
        "print(find_missing_number([1, 2, 3, 4, 6, 7, 8, 9, 10]))\n",
        "print(find_missing_number([2, 3, 1, 6, 7, 9, 10, 5, 8]))\n",
        "print(find_missing_number([10, 5, 2, 6, 8, 3, 1, 7, 4]))"
      ],
      "metadata": {
        "colab": {
          "base_uri": "https://localhost:8080/"
        },
        "id": "K29pUmA6IxBR",
        "outputId": "ca63c2e5-def0-47e1-8c1c-a816e22a4bc5"
      },
      "execution_count": 3,
      "outputs": [
        {
          "output_type": "stream",
          "name": "stdout",
          "text": [
            "5\n",
            "4\n",
            "9\n"
          ]
        }
      ]
    }
  ]
}