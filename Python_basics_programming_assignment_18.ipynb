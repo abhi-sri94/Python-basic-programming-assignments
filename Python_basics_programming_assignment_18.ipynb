{
  "nbformat": 4,
  "nbformat_minor": 0,
  "metadata": {
    "colab": {
      "provenance": [],
      "toc_visible": true
    },
    "kernelspec": {
      "name": "python3",
      "display_name": "Python 3"
    },
    "language_info": {
      "name": "python"
    }
  },
  "cells": [
    {
      "cell_type": "markdown",
      "source": [
        "#Question 1\n",
        "\n",
        "Create a function that takes a list of non-negative integers and strings and return a new list without the strings.\n",
        "\n",
        ".............\n",
        "\n",
        "Answer 1 -\n",
        "\n"
      ],
      "metadata": {
        "id": "AVwZeLsMB765"
      }
    },
    {
      "cell_type": "code",
      "execution_count": 1,
      "metadata": {
        "id": "jdvG0aee9grV"
      },
      "outputs": [],
      "source": [
        "def filter_non_negative_integers(input_list):\n",
        "    return [x for x in input_list if isinstance(x, int) and x >= 0]"
      ]
    },
    {
      "cell_type": "code",
      "source": [
        "print(filter_non_negative_integers([1, 5, \"hello\", 10, \"world\", 0]))\n",
        "print(filter_non_negative_integers([2, 4, 6, 8, 10]))\n",
        "print(filter_non_negative_integers([\"apple\", \"banana\", 15, 20, 25]))"
      ],
      "metadata": {
        "colab": {
          "base_uri": "https://localhost:8080/"
        },
        "id": "_8GLXujtCQYP",
        "outputId": "5a09e8af-d0b2-4623-b13c-fd0ccc799a94"
      },
      "execution_count": 2,
      "outputs": [
        {
          "output_type": "stream",
          "name": "stdout",
          "text": [
            "[1, 5, 10, 0]\n",
            "[2, 4, 6, 8, 10]\n",
            "[15, 20, 25]\n"
          ]
        }
      ]
    },
    {
      "cell_type": "markdown",
      "source": [
        "#Question 2\n",
        "\n",
        "The \"Reverser\" takes a string as input and returns that string in reverse order, with the\n",
        "opposite case.\n",
        "\n",
        "...............\n",
        "\n",
        "Answer 2 -\n",
        "\n",
        "To create the \"Reverser\" function as described, you can reverse the order of characters in the input string and convert each character to its opposite case (i.e., uppercase to lowercase and lowercase to uppercase). Here's the Python implementation:"
      ],
      "metadata": {
        "id": "_LPgXe3Kcvms"
      }
    },
    {
      "cell_type": "code",
      "source": [
        "def reverser(input_string):\n",
        "    reversed_string = input_string[::-1]\n",
        "    result = \"\"\n",
        "    for char in reversed_string:\n",
        "        if char.isupper():\n",
        "            result += char.lower()\n",
        "        elif char.islower():\n",
        "            result += char.upper()\n",
        "        else:\n",
        "            result += char\n",
        "    return result"
      ],
      "metadata": {
        "id": "9FVYFnrbCRS7"
      },
      "execution_count": 2,
      "outputs": []
    },
    {
      "cell_type": "code",
      "source": [
        "print(reverser(\"Hello, World!\"))\n",
        "print(reverser(\"AbCdEfG\"))\n",
        "print(reverser(\"Python123\"))"
      ],
      "metadata": {
        "colab": {
          "base_uri": "https://localhost:8080/"
        },
        "id": "sEXK3y8nnqrL",
        "outputId": "1952a981-81fe-4f8d-fa4e-2fbbc9d891a7"
      },
      "execution_count": 3,
      "outputs": [
        {
          "output_type": "stream",
          "name": "stdout",
          "text": [
            "!DLROw ,OLLEh\n",
            "gFeDcBa\n",
            "321NOHTYp\n"
          ]
        }
      ]
    },
    {
      "cell_type": "markdown",
      "source": [
        "The function `reverser` takes the `input` string and reverses it using `slicing ([::-1])` . It then iterates through the `reversed` string and converts each character to the `opposite` case using **isupper()** and **islower()** methods, and the **upper()** and **lower()** methods, respectively.\n",
        "\n",
        "The final result is returned as a new string."
      ],
      "metadata": {
        "id": "3hOBdhy4nTiL"
      }
    },
    {
      "cell_type": "markdown",
      "source": [
        "#Question 3\n",
        "\n",
        "You can assign variables from lists like this:\n",
        "\n",
        "lst = [1, 2, 3, 4, 5, 6]\n",
        "\n",
        "first = lst[0]\n",
        "\n",
        "middle = lst[1:-1]\n",
        "\n",
        "last = lst[-1]\n",
        "\n",
        "print(first) ➞ outputs 1\n",
        "\n",
        "print(middle) ➞ outputs [2, 3, 4, 5]\n",
        "\n",
        "print(last) ➞ outputs 6\n",
        "\n",
        "With Python 3, you can assign variables from lists in a much more succinct way. Create\n",
        "variables first, middle and last from the given list using destructuring assignment\n",
        "(check the Resources tab for some examples), where:\n",
        "\n",
        "first ➞ 1\n",
        "\n",
        "middle ➞ [2, 3, 4, 5]\n",
        "\n",
        "last ➞ 6\n",
        "\n",
        "Your task is to unpack the list writeyourcodehere into three variables, being first, middle, and last, with middle being everything in between the first and last element. Then print all three variables.\n",
        "\n",
        ".................\n",
        "\n",
        "Answer 3 -\n",
        "\n",
        "Here's the code to do that:"
      ],
      "metadata": {
        "id": "lErxukIBn05b"
      }
    },
    {
      "cell_type": "code",
      "source": [
        "# Given list\n",
        "writeyourcodehere = [1, 2, 3, 4, 5, 6]\n",
        "\n",
        "# Unpacking using destructuring assignment\n",
        "first, *middle, last = writeyourcodehere"
      ],
      "metadata": {
        "id": "0RJLQ1gAnOBV"
      },
      "execution_count": 4,
      "outputs": []
    },
    {
      "cell_type": "code",
      "source": [
        "print(first)\n",
        "print(middle)\n",
        "print(last)"
      ],
      "metadata": {
        "colab": {
          "base_uri": "https://localhost:8080/"
        },
        "id": "GnrBskVVoTBx",
        "outputId": "776b5b75-b15c-4c04-fa61-b7cb7507258e"
      },
      "execution_count": 5,
      "outputs": [
        {
          "output_type": "stream",
          "name": "stdout",
          "text": [
            "1\n",
            "[2, 3, 4, 5]\n",
            "6\n"
          ]
        }
      ]
    },
    {
      "cell_type": "markdown",
      "source": [
        "In this code, the `middle` syntax in the unpacking assignment allows it to capture all elements between `first` and `last` as a `list` . The `first` variable takes the first element (`index 0`) of the list, the `last` variable takes the last element (`index -1`) of the list, and the `middle` variable takes `all elements` in between. The resulting variables are then printed as requested."
      ],
      "metadata": {
        "id": "L_geuePEoZvB"
      }
    },
    {
      "cell_type": "markdown",
      "source": [
        "#Question 4\n",
        "\n",
        "Write a function that calculates the factorial of a number recursively.\n",
        "\n",
        "...............\n",
        "\n",
        "Answer 4 -\n",
        "\n",
        "Below is the code for the same:"
      ],
      "metadata": {
        "id": "_qEmr8lzo243"
      }
    },
    {
      "cell_type": "code",
      "source": [
        "def factorial_recursive(n):\n",
        "    if n == 0 or n == 1:\n",
        "        return 1\n",
        "    else:\n",
        "        return n * factorial_recursive(n - 1)\n",
        "\n",
        "\n",
        "print(factorial_recursive(0))\n",
        "print(factorial_recursive(5))\n",
        "print(factorial_recursive(10))"
      ],
      "metadata": {
        "colab": {
          "base_uri": "https://localhost:8080/"
        },
        "id": "s2QxJpxIoWjG",
        "outputId": "cd99645b-676e-4154-9d33-94ef9c5e0095"
      },
      "execution_count": 7,
      "outputs": [
        {
          "output_type": "stream",
          "name": "stdout",
          "text": [
            "1\n",
            "120\n",
            "3628800\n"
          ]
        }
      ]
    },
    {
      "cell_type": "markdown",
      "source": [
        "#Question 5\n",
        "\n",
        "Write a function that moves all elements of one type to the end of the list.\n",
        "\n",
        "................\n",
        "\n",
        "Answer 5 -\n",
        "\n",
        "We can create a function that moves all elements of one type to the end of the list by using a combination of list comprehension and filtering.\n",
        "\n",
        "Here's the Python implementation:"
      ],
      "metadata": {
        "id": "Ewyjll9VpGDc"
      }
    },
    {
      "cell_type": "code",
      "source": [
        "def move_elements_to_end(input_list, element_type):\n",
        "    return [x for x in input_list if type(x) != element_type] + [x for x in input_list if type(x) == element_type]\n",
        "\n",
        "\n",
        "print(move_elements_to_end([1, 2, 3, \"hello\", 4, \"world\"], str))\n",
        "print(move_elements_to_end([\"apple\", \"banana\", 15, 20, \"orange\"], int))\n",
        "print(move_elements_to_end([True, False, 1, 0, None], bool))"
      ],
      "metadata": {
        "colab": {
          "base_uri": "https://localhost:8080/"
        },
        "id": "CtSSHVb2o_As",
        "outputId": "c49ea34f-e08d-49a5-b9c3-128bfc72b4da"
      },
      "execution_count": 9,
      "outputs": [
        {
          "output_type": "stream",
          "name": "stdout",
          "text": [
            "[1, 2, 3, 4, 'hello', 'world']\n",
            "['apple', 'banana', 'orange', 15, 20]\n",
            "[1, 0, None, True, False]\n"
          ]
        }
      ]
    },
    {
      "cell_type": "code",
      "source": [],
      "metadata": {
        "id": "OaeJGg4mpVJ8"
      },
      "execution_count": null,
      "outputs": []
    }
  ]
}