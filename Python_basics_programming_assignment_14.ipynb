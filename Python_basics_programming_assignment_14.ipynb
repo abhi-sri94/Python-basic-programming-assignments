{
  "nbformat": 4,
  "nbformat_minor": 0,
  "metadata": {
    "colab": {
      "provenance": [],
      "toc_visible": true
    },
    "kernelspec": {
      "name": "python3",
      "display_name": "Python 3"
    },
    "language_info": {
      "name": "python"
    }
  },
  "cells": [
    {
      "cell_type": "markdown",
      "source": [
        "#Question 1\n",
        "\n",
        "Define a class with a generator which can iterate the numbers, which are divisible by 7, between a given range 0 and n.\n",
        "\n",
        ".............\n",
        "\n",
        "Answer 1 -\n",
        "\n",
        "To define a class with a generator that iterates the numbers divisible by 7 within a given range, you can create a `custom` class and use the `yield` statement to generate the numbers one by one. Here's a Python class that accomplishes this:"
      ],
      "metadata": {
        "id": "pwffOP5yjhKi"
      }
    },
    {
      "cell_type": "code",
      "source": [
        "class DivisibleBySevenGenerator:\n",
        "    def __init__(self, n):\n",
        "        self.n = n\n",
        "\n",
        "    def divisible_by_seven(self):\n",
        "        for num in range(self.n + 1):\n",
        "            if num % 7 == 0:\n",
        "                yield num\n",
        "\n",
        "# Create an instance of the class with the range limit 'n'\n",
        "n = int(input(\"Enter the range limit (n): \"))\n",
        "generator_obj = DivisibleBySevenGenerator(n)\n",
        "\n",
        "# Iterate and print the numbers divisible by 7\n",
        "print(\"Numbers divisible by 7 in the range 0 to\", n, \":\")\n",
        "for num in generator_obj.divisible_by_seven():\n",
        "    print(num)"
      ],
      "metadata": {
        "colab": {
          "base_uri": "https://localhost:8080/"
        },
        "id": "2tOIs1T7nCFd",
        "outputId": "a90816cc-93c8-4dd9-85b5-4af299ffda0c"
      },
      "execution_count": 2,
      "outputs": [
        {
          "output_type": "stream",
          "name": "stdout",
          "text": [
            "Enter the range limit (n): 50\n",
            "Numbers divisible by 7 in the range 0 to 50 :\n",
            "0\n",
            "7\n",
            "14\n",
            "21\n",
            "28\n",
            "35\n",
            "42\n",
            "49\n"
          ]
        }
      ]
    },
    {
      "cell_type": "markdown",
      "source": [
        "In this program, we define a class `DivisibleBySevenGenerator` with an **`__init__`** method to set the range limit `n` and `a` `divisible_by_seven` method which is a `generator` function. The divisible_by_seven method uses a `loop` to iterate through the range from 0 to n, and whenever it finds a number that is divisible by 7, it yields that number one by one. We create an instance of the class with the given range limit and then iterate through the generated numbers using a for loop. The numbers divisible by 7 are printed as the output."
      ],
      "metadata": {
        "id": "ErhSMWdhpaiG"
      }
    },
    {
      "cell_type": "markdown",
      "source": [
        "#Question 2\n",
        "\n",
        "Write a program to compute the frequency of the words from the input. The output should output after sorting the key alphanumerically.\n",
        "\n",
        "Suppose the following input is supplied to the program:\n",
        "\n",
        "New to Python or choosing between Python 2 and Python 3? Read Python 2 or\n",
        "Python 3.\n",
        "\n",
        "Then, the output should be:\n",
        "\n",
        "2:2\n",
        "\n",
        "3.:1\n",
        "\n",
        "3?:1\n",
        "\n",
        "New:1\n",
        "\n",
        "Python:5\n",
        "\n",
        "Read:1\n",
        "\n",
        "and:1\n",
        "\n",
        "between:1\n",
        "\n",
        "choosing:1\n",
        "\n",
        "or:2\n",
        "\n",
        "to:1\n",
        "\n",
        "..............\n",
        "\n",
        "Answer 2 -\n",
        "\n",
        "We can achieve this by using a dictionary to count the frequency of each word from the input and then sorting the dictionary keys in an alphabetical manner. Here's a Python program to do that:"
      ],
      "metadata": {
        "id": "w2pqUraWzhIF"
      }
    },
    {
      "cell_type": "code",
      "source": [
        "from collections import Counter\n",
        "\n",
        "def compute_word_frequency(input_text):\n",
        "    # Split the input text into words using regular expression\n",
        "    words = input_text.split()\n",
        "\n",
        "    # Use Counter to count the frequency of each word\n",
        "    word_freq = Counter(words)\n",
        "\n",
        "    # Sort the word frequencies by the words (in alphabetical order)\n",
        "    sorted_freq = sorted(word_freq.items())\n",
        "\n",
        "    return sorted_freq\n",
        "\n",
        "# Take the input text\n",
        "input_text = input(\"Enter the text: \")\n",
        "\n",
        "# Compute the word frequency and sort the keys alphabetically\n",
        "result_freq = compute_word_frequency(input_text)\n",
        "\n",
        "# Display the output\n",
        "for word, frequency in result_freq:\n",
        "    print(f\"{word}:{frequency}\")\n"
      ],
      "metadata": {
        "colab": {
          "base_uri": "https://localhost:8080/"
        },
        "id": "1dqwsJgANRGO",
        "outputId": "ee43f1d3-2fef-4305-f5e3-09230aea83cf"
      },
      "execution_count": 19,
      "outputs": [
        {
          "output_type": "stream",
          "name": "stdout",
          "text": [
            "Enter the text: New to Python or choosing between Python 2 and Python 3? Read Python 2 or Python 3.\n",
            "2:2\n",
            "3.:1\n",
            "3?:1\n",
            "New:1\n",
            "Python:5\n",
            "Read:1\n",
            "and:1\n",
            "between:1\n",
            "choosing:1\n",
            "or:2\n",
            "to:1\n"
          ]
        }
      ]
    },
    {
      "cell_type": "markdown",
      "source": [
        "In this program, we split the input text into words using the **split()** method and then use `collections.Counter` to count the frequency of each word. Finally, we sort the word frequencies alphabetically by their keys and display the output as required."
      ],
      "metadata": {
        "id": "mGZqkO3YNgiE"
      }
    },
    {
      "cell_type": "markdown",
      "source": [
        "#Question 3\n",
        "\n",
        "Define a class Person and its two child classes: Male and Female. All classes have a\n",
        "method \"getGender\" which can print \"Male\" for Male class and \"Female\" for Female\n",
        "class.\n",
        "\n",
        "...............\n",
        "\n",
        "Answer 2 -\n",
        "\n",
        "Here's the implementation of the `Person` class and its child classes `Male` and `Female` :"
      ],
      "metadata": {
        "id": "wzA54xinN_3A"
      }
    },
    {
      "cell_type": "code",
      "source": [
        "class Person:\n",
        "    def getGender(self):\n",
        "        return \"Unknown\"\n",
        "\n",
        "class Male(Person):\n",
        "    def getGender(self):\n",
        "        return \"Male\"\n",
        "\n",
        "class Female(Person):\n",
        "    def getGender(self):\n",
        "        return \"Female\"\n",
        "\n",
        "# Test the classes\n",
        "person = Person()\n",
        "male = Male()\n",
        "female = Female()\n",
        "\n",
        "print(\"Person's gender:\", person.getGender())\n",
        "print(\"Male's gender:\", male.getGender())\n",
        "print(\"Female's gender:\", female.getGender())"
      ],
      "metadata": {
        "colab": {
          "base_uri": "https://localhost:8080/"
        },
        "id": "9xgDcLxNNRtG",
        "outputId": "fde8c3ca-efa8-4563-e37c-0a615426148b"
      },
      "execution_count": 20,
      "outputs": [
        {
          "output_type": "stream",
          "name": "stdout",
          "text": [
            "Person's gender: Unknown\n",
            "Male's gender: Male\n",
            "Female's gender: Female\n"
          ]
        }
      ]
    },
    {
      "cell_type": "markdown",
      "source": [
        "#Question 4\n",
        "\n",
        "Please write a program to generate all sentences where subject is in [\"I\", \"You\"] and\n",
        "verb is in [\"Play\", \"Love\"] and the object is in [\"Hockey\",\"Football\"].\n",
        "\n",
        "...............\n",
        "\n",
        "Answer 4 -\n",
        "\n",
        "We can use nested loops to generate all possible combinations of subjects, verbs, and objects to create sentences. Here's the program:"
      ],
      "metadata": {
        "id": "y-zng1VuOb7k"
      }
    },
    {
      "cell_type": "code",
      "source": [
        "subjects = [\"I\", \"You\"]\n",
        "verbs = [\"Play\", \"Love\"]\n",
        "objects = [\"Hockey\", \"Football\"]\n",
        "\n",
        "sentences = []\n",
        "\n",
        "for subject in subjects:\n",
        "    for verb in verbs:\n",
        "        for obj in objects:\n",
        "            sentence = f\"{subject} {verb} {obj}.\"\n",
        "            sentences.append(sentence)\n",
        "\n",
        "# Display the generated sentences\n",
        "for sentence in sentences:\n",
        "    print(sentence)"
      ],
      "metadata": {
        "colab": {
          "base_uri": "https://localhost:8080/"
        },
        "id": "ar_7CN0oOUPC",
        "outputId": "28785359-3908-47c1-ee82-bce09b9e41e2"
      },
      "execution_count": 21,
      "outputs": [
        {
          "output_type": "stream",
          "name": "stdout",
          "text": [
            "I Play Hockey.\n",
            "I Play Football.\n",
            "I Love Hockey.\n",
            "I Love Football.\n",
            "You Play Hockey.\n",
            "You Play Football.\n",
            "You Love Hockey.\n",
            "You Love Football.\n"
          ]
        }
      ]
    },
    {
      "cell_type": "markdown",
      "source": [
        "In this program, we use three nested loops to generate all possible combinations of subjects, verbs, and objects. We create sentences by combining the elements from each loop and add them to the `sentences` list. Finally, we display all the generated sentences using a simple `for` loop."
      ],
      "metadata": {
        "id": "QNjMN_VNO0sn"
      }
    },
    {
      "cell_type": "markdown",
      "source": [
        "#Question 5\n",
        "\n",
        "Please write a program to compress and decompress the string \"hello world!hello\n",
        "world!hello world!hello world!\".\n",
        "\n",
        "..............\n",
        "\n",
        "Answer 5 -\n",
        "\n"
      ],
      "metadata": {
        "id": "guk4um16O9B2"
      }
    },
    {
      "cell_type": "code",
      "source": [
        "import zlib\n",
        "\n",
        "def compress_string(input_string):\n",
        "    # Convert the string to bytes\n",
        "    input_bytes = input_string.encode('utf-8')\n",
        "\n",
        "    # Compress the bytes using zlib\n",
        "    compressed_data = zlib.compress(input_bytes)\n",
        "\n",
        "    # Convert the compressed bytes to a string\n",
        "    compressed_string = compressed_data.hex()\n",
        "\n",
        "    return compressed_string\n",
        "\n",
        "def decompress_string(compressed_string):\n",
        "    # Convert the compressed string to bytes\n",
        "    compressed_data = bytes.fromhex(compressed_string)\n",
        "\n",
        "    # Decompress the bytes using zlib\n",
        "    decompressed_bytes = zlib.decompress(compressed_data)\n",
        "\n",
        "    # Convert the decompressed bytes to a string\n",
        "    decompressed_string = decompressed_bytes.decode('utf-8')\n",
        "\n",
        "    return decompressed_string\n",
        "\n",
        "# Test the functions\n",
        "input_string = \"hello world!hello world!hello world!hello world!\"\n",
        "compressed_string = compress_string(input_string)\n",
        "print(\"Compressed:\", compressed_string)\n",
        "\n",
        "decompressed_string = decompress_string(compressed_string)\n",
        "print(\"Decompressed:\", decompressed_string)"
      ],
      "metadata": {
        "colab": {
          "base_uri": "https://localhost:8080/"
        },
        "id": "ElKWKw44OqqH",
        "outputId": "521d582f-f874-4916-9ece-f8d484c1bbbf"
      },
      "execution_count": 22,
      "outputs": [
        {
          "output_type": "stream",
          "name": "stdout",
          "text": [
            "Compressed: 789ccb48cdc9c95728cf2fca4951cc20820d00bd5b11f5\n",
            "Decompressed: hello world!hello world!hello world!hello world!\n"
          ]
        }
      ]
    },
    {
      "cell_type": "markdown",
      "source": [
        "In this program, we use the **zlib.compress()** method to compress the input string into bytes and then convert the compressed bytes into a `hexadecimal` string. For decompression, we convert the hexadecimal string back to bytes using **bytes.fromhex()** and then use **zlib.decompress()** to obtain the `decompressed bytes` . Finally, we convert the decompressed bytes back to a string using the **decode()** method."
      ],
      "metadata": {
        "id": "uWoYuXx_Rma4"
      }
    },
    {
      "cell_type": "code",
      "source": [],
      "metadata": {
        "id": "BhRvqYNGPIo5"
      },
      "execution_count": null,
      "outputs": []
    }
  ]
}