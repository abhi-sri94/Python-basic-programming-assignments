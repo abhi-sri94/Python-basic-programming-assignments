{
  "nbformat": 4,
  "nbformat_minor": 0,
  "metadata": {
    "colab": {
      "provenance": [],
      "toc_visible": true
    },
    "kernelspec": {
      "name": "python3",
      "display_name": "Python 3"
    },
    "language_info": {
      "name": "python"
    }
  },
  "cells": [
    {
      "cell_type": "markdown",
      "source": [
        "#Question 1\n",
        "\n",
        "Write a program that calculates and prints the value according to the given formula:\n",
        "\n",
        "Q = Square root of [(2 * C * D)/H]\n",
        "\n",
        "Following are the fixed values of C and H:\n",
        "\n",
        "C is 50. H is 30.\n",
        "\n",
        "D is the variable whose values should be input to your program in a comma-separated sequence.\n",
        "\n",
        "Example\n",
        "\n",
        "Let us assume the following comma separated input sequence is given to the program:\n",
        "\n",
        "100,150,180\n",
        "\n",
        "The output of the program should be:\n",
        "\n",
        "18,22,24\n",
        "\n",
        "................\n",
        "\n",
        "Answer 1 -\n",
        "\n",
        "Here is the code for the same:"
      ],
      "metadata": {
        "id": "dWWP6iuoAgBk"
      }
    },
    {
      "cell_type": "code",
      "source": [
        "import math\n",
        "\n",
        "def calculate_values(input_sequence):\n",
        "    C = 50\n",
        "    H = 30\n",
        "    result = []\n",
        "\n",
        "    for D in input_sequence:\n",
        "        D = int(D)\n",
        "        Q = int(math.sqrt((2 * C * D) / H))\n",
        "        result.append(Q)\n",
        "\n",
        "    return result\n",
        "\n",
        "# Example input sequence\n",
        "input_sequence = input(\"Enter comma-separated values of D: \").split(\",\")\n",
        "\n",
        "# Calculate the values using the given formula\n",
        "output_values = calculate_values(input_sequence)\n",
        "\n",
        "# Display the output\n",
        "print(\"Output:\", \", \".join(map(str, output_values)))"
      ],
      "metadata": {
        "colab": {
          "base_uri": "https://localhost:8080/"
        },
        "id": "JubGRi6_A1NA",
        "outputId": "b004d5e9-a9d5-4dc4-cbec-25f8d8307c07"
      },
      "execution_count": 2,
      "outputs": [
        {
          "output_type": "stream",
          "name": "stdout",
          "text": [
            "Enter comma-separated values of D: 100,150,180\n",
            "Output: 18, 22, 24\n"
          ]
        }
      ]
    },
    {
      "cell_type": "markdown",
      "source": [
        "#Question 2\n",
        "\n",
        "Write a program which takes 2 digits, X,Y as input and generates a 2-dimensional array. The\n",
        "element value in the i-th row and j-th column of the array should be i*j.\n",
        "\n",
        "Note: i=0,1.., X-1; j=0,1,¡Y-1.\n",
        "\n",
        "Example\n",
        "\n",
        "Suppose the following inputs are given to the program:\n",
        "3,5\n",
        "\n",
        "Then, the output of the program should be:\n",
        "\n",
        "[[0, 0, 0, 0, 0], [0, 1, 2, 3, 4], [0, 2, 4, 6, 8]]\n",
        "\n",
        "...................\n",
        "\n",
        "Answer 2 -\n",
        "\n",
        "Here is the program for the same:"
      ],
      "metadata": {
        "id": "N1ND570BBUo6"
      }
    },
    {
      "cell_type": "code",
      "source": [
        "def generate_2d_array(X, Y):\n",
        "    # Generate the 2-dimensional array using nested list comprehension\n",
        "    array_2d = [[i*j for j in range(Y)] for i in range(X)]\n",
        "\n",
        "    return array_2d\n",
        "\n",
        "# Take inputs X and Y from the user\n",
        "X, Y = map(int, input(\"Enter two digits (X,Y): \").split(\",\"))\n",
        "\n",
        "# Generate the 2-dimensional array\n",
        "result_array = generate_2d_array(X, Y)\n",
        "\n",
        "# Display the output\n",
        "print(\"Output:\")\n",
        "for row in result_array:\n",
        "    print(row)"
      ],
      "metadata": {
        "colab": {
          "base_uri": "https://localhost:8080/"
        },
        "id": "HMe-WM3YA3Nj",
        "outputId": "0d346021-6dd0-4a51-8f27-fe061792836f"
      },
      "execution_count": 3,
      "outputs": [
        {
          "output_type": "stream",
          "name": "stdout",
          "text": [
            "Enter two digits (X,Y): 3,5\n",
            "Output:\n",
            "[0, 0, 0, 0, 0]\n",
            "[0, 1, 2, 3, 4]\n",
            "[0, 2, 4, 6, 8]\n"
          ]
        }
      ]
    },
    {
      "cell_type": "markdown",
      "source": [
        "#Question 3\n",
        "\n",
        "Write a program that accepts a comma separated sequence of words as input and prints the\n",
        "words in a comma-separated sequence after sorting them alphabetically.\n",
        "\n",
        "Suppose the following input is supplied to the program:\n",
        "\n",
        "without,hello,bag,world\n",
        "\n",
        "Then, the output should be:\n",
        "\n",
        "bag,hello,without,world\n",
        "\n",
        "................\n",
        "\n",
        "Answer 3 -\n",
        "\n",
        "Here's a Python program to do that:\n"
      ],
      "metadata": {
        "id": "HWSE_ZekCHIp"
      }
    },
    {
      "cell_type": "code",
      "source": [
        "def sort_words_alphabetically(input_string):\n",
        "    # Split the input string into words\n",
        "    words = input_string.split(',')\n",
        "\n",
        "    # Sort the words alphabetically\n",
        "    sorted_words = sorted(words)\n",
        "\n",
        "    # Join the sorted words back into a comma-separated sequence\n",
        "    sorted_sequence = ','.join(sorted_words)\n",
        "\n",
        "    return sorted_sequence\n",
        "\n",
        "# Take the input as a comma-separated string\n",
        "input_string = input(\"Enter a comma-separated sequence of words: \")\n",
        "\n",
        "# Sort the words alphabetically\n",
        "sorted_result = sort_words_alphabetically(input_string)\n",
        "\n",
        "# Display the output\n",
        "print(\"Output:\", sorted_result)"
      ],
      "metadata": {
        "colab": {
          "base_uri": "https://localhost:8080/"
        },
        "id": "s-RDVZU-CCVB",
        "outputId": "8c3fcff8-2a9f-4818-ed1c-90587fdd2b6c"
      },
      "execution_count": 4,
      "outputs": [
        {
          "output_type": "stream",
          "name": "stdout",
          "text": [
            "Enter a comma-separated sequence of words: without,hello,bag,world\n",
            "Output: bag,hello,without,world\n"
          ]
        }
      ]
    },
    {
      "cell_type": "markdown",
      "source": [
        "#Question 4\n",
        "\n",
        "Write a program that accepts a sequence of whitespace separated words as input and prints\n",
        "the words after removing all duplicate words and sorting them alphanumerically.\n",
        "\n",
        "Suppose the following input is supplied to the program:\n",
        "\n",
        "hello world and practice makes perfect and hello world again\n",
        "\n",
        "Then, the output should be:\n",
        "\n",
        "again and hello makes perfect practice world\n",
        "\n",
        "..............\n",
        "\n",
        "Answer 4 -\n",
        "\n",
        "Here's a Python program to do that:"
      ],
      "metadata": {
        "id": "kUR7owNgCcYB"
      }
    },
    {
      "cell_type": "code",
      "source": [
        "def remove_duplicates_and_sort(input_string):\n",
        "    # Split the input string into words\n",
        "    words = input_string.split()\n",
        "\n",
        "    # Remove duplicates by converting the list to a set\n",
        "    unique_words = set(words)\n",
        "\n",
        "    # Sort the words alphabetically\n",
        "    sorted_words = sorted(unique_words)\n",
        "\n",
        "    # Join the sorted words back into a whitespace-separated string\n",
        "    sorted_sequence = ' '.join(sorted_words)\n",
        "\n",
        "    return sorted_sequence\n",
        "\n",
        "# Take the input as a whitespace-separated string\n",
        "input_string = input(\"Enter a whitespace-separated sequence of words: \")\n",
        "\n",
        "# Remove duplicates and sort the words alphabetically\n",
        "sorted_result = remove_duplicates_and_sort(input_string)\n",
        "\n",
        "# Display the output\n",
        "print(\"Output:\", sorted_result)"
      ],
      "metadata": {
        "colab": {
          "base_uri": "https://localhost:8080/"
        },
        "id": "QQR0SPB8CXPS",
        "outputId": "9aba398f-310f-49e3-bacd-fb32845f2650"
      },
      "execution_count": 5,
      "outputs": [
        {
          "output_type": "stream",
          "name": "stdout",
          "text": [
            "Enter a whitespace-separated sequence of words: hello world and practice makes perfect and hello world again\n",
            "Output: again and hello makes perfect practice world\n"
          ]
        }
      ]
    },
    {
      "cell_type": "markdown",
      "source": [
        "#Question 5\n",
        "\n",
        "Write a program that accepts a sentence and calculate the number of letters and digits.\n",
        "\n",
        "Suppose the following input is supplied to the program:\n",
        "\n",
        "hello world! 123\n",
        "\n",
        "Then, the output should be:\n",
        "\n",
        "LETTERS 10\n",
        "\n",
        "DIGITS 3\n",
        "\n",
        "...............\n",
        "\n",
        "Answer 5 -\n",
        "\n",
        "Here's a Python program to do that:"
      ],
      "metadata": {
        "id": "Pc5OiwXuDXFO"
      }
    },
    {
      "cell_type": "code",
      "source": [
        "def count_letters_and_digits(input_sentence):\n",
        "    num_letters = 0\n",
        "    num_digits = 0\n",
        "\n",
        "    for char in input_sentence:\n",
        "        if char.isalpha():  # Check if the character is a letter\n",
        "            num_letters += 1\n",
        "        elif char.isdigit():  # Check if the character is a digit\n",
        "            num_digits += 1\n",
        "\n",
        "    return num_letters, num_digits\n",
        "\n",
        "# Take the input sentence\n",
        "input_sentence = input(\"Enter a sentence: \")\n",
        "\n",
        "# Calculate the number of letters and digits\n",
        "letters, digits = count_letters_and_digits(input_sentence)\n",
        "\n",
        "# Display the output\n",
        "print(\"LETTERS\", letters)\n",
        "print(\"DIGITS\", digits)"
      ],
      "metadata": {
        "colab": {
          "base_uri": "https://localhost:8080/"
        },
        "id": "_02_VDebDI5L",
        "outputId": "8e349d81-10e2-4617-fa65-47cd5f1622dd"
      },
      "execution_count": 6,
      "outputs": [
        {
          "output_type": "stream",
          "name": "stdout",
          "text": [
            "Enter a sentence: hello world! 123\n",
            "LETTERS 10\n",
            "DIGITS 3\n"
          ]
        }
      ]
    },
    {
      "cell_type": "markdown",
      "source": [
        "#Question 6\n",
        "\n",
        "A website requires the users to input username and password to register. Write a program to\n",
        "check the validity of password input by users.\n",
        "\n",
        "Following are the criteria for checking the password:\n",
        "\n",
        "1. At least 1 letter between [a-z]\n",
        "\n",
        "2. At least 1 number between [0-9]\n",
        "\n",
        "1. At least 1 letter between [A-Z]\n",
        "\n",
        "3. At least 1 character from [$#@]\n",
        "\n",
        "4. Minimum length of transaction password: 6\n",
        "\n",
        "5. Maximum length of transaction password: 12\n",
        "\n",
        "Your program should accept a sequence of comma separated passwords and will check them\n",
        "according to the above criteria. Passwords that match the criteria are to be printed, each\n",
        "separated by a comma.\n",
        "\n",
        "Example\n",
        "\n",
        "If the following passwords are given as input to the program:\n",
        "\n",
        "ABd1234@1,a F1#,2w3E*,2We3345\n",
        "\n",
        "Then, the output of the program should be:\n",
        "\n",
        "ABd1234@1\n",
        "\n",
        ".................\n",
        "\n",
        "Answer 6 -\n",
        "\n",
        "Here's a Python program to do that:"
      ],
      "metadata": {
        "id": "zCnEAbW1Dvrb"
      }
    },
    {
      "cell_type": "code",
      "source": [
        "import re\n",
        "\n",
        "def is_valid_password(password):\n",
        "    # Check for at least 1 lowercase letter\n",
        "    lowercase_regex = re.compile(r'[a-z]')\n",
        "    if not lowercase_regex.search(password):\n",
        "        return False\n",
        "\n",
        "    # Check for at least 1 uppercase letter\n",
        "    uppercase_regex = re.compile(r'[A-Z]')\n",
        "    if not uppercase_regex.search(password):\n",
        "        return False\n",
        "\n",
        "    # Check for at least 1 digit\n",
        "    digit_regex = re.compile(r'[0-9]')\n",
        "    if not digit_regex.search(password):\n",
        "        return False\n",
        "\n",
        "    # Check for at least 1 special character from [$#@]\n",
        "    special_char_regex = re.compile(r'[$#@]')\n",
        "    if not special_char_regex.search(password):\n",
        "        return False\n",
        "\n",
        "    # Check for the length of password (between 6 and 12 characters)\n",
        "    if len(password) < 6 or len(password) > 12:\n",
        "        return False\n",
        "\n",
        "    return True\n",
        "\n",
        "# Take the input sequence of passwords\n",
        "input_passwords = input(\"Enter comma-separated passwords: \").split(\",\")\n",
        "\n",
        "# Filter out the valid passwords using list comprehension\n",
        "valid_passwords = [password for password in input_passwords if is_valid_password(password)]\n",
        "\n",
        "# Display the output\n",
        "print(\",\".join(valid_passwords))"
      ],
      "metadata": {
        "colab": {
          "base_uri": "https://localhost:8080/"
        },
        "id": "JN_YlzLPDp6K",
        "outputId": "3be27bc3-f56f-4b64-a491-08788914b57a"
      },
      "execution_count": 7,
      "outputs": [
        {
          "output_type": "stream",
          "name": "stdout",
          "text": [
            "Enter comma-separated passwords: ABd1234@1,aF1#,2w3E*,2We3345\n",
            "ABd1234@1\n"
          ]
        }
      ]
    },
    {
      "cell_type": "code",
      "source": [],
      "metadata": {
        "id": "FVN29l_ZEKkK"
      },
      "execution_count": null,
      "outputs": []
    }
  ]
}