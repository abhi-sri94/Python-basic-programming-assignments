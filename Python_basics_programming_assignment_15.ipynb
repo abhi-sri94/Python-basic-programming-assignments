{
  "nbformat": 4,
  "nbformat_minor": 0,
  "metadata": {
    "colab": {
      "provenance": [],
      "toc_visible": true
    },
    "kernelspec": {
      "name": "python3",
      "display_name": "Python 3"
    },
    "language_info": {
      "name": "python"
    }
  },
  "cells": [
    {
      "cell_type": "markdown",
      "source": [
        "#Question 1\n",
        "\n",
        "Please write a program using generator to print the numbers which can be divisible by 5 and\n",
        "7 between 0 and n in comma separated form while n is input by console.\n",
        "\n",
        "Example:\n",
        "\n",
        "If the following n is given as input to the program:\n",
        "\n",
        "100\n",
        "\n",
        "Then, the output of the program should be:\n",
        "\n",
        "0,35,70\n",
        "\n",
        ".............\n",
        "\n",
        "Answer 1 -\n",
        "\n",
        "We can use a generator function to generate the numbers divisible by both 5 and 7 between 0 and n. Here's the program:"
      ],
      "metadata": {
        "id": "bhyl27OBZkbx"
      }
    },
    {
      "cell_type": "code",
      "source": [
        "def divisible_by_5_and_7(n):\n",
        "    for num in range(n + 1):\n",
        "        if num % 5 == 0 and num % 7 == 0:\n",
        "            yield num\n",
        "\n",
        "# Take input from the user\n",
        "n = int(input(\"Enter a number (n): \"))\n",
        "\n",
        "# Generate the numbers using the generator\n",
        "result = divisible_by_5_and_7(n)\n",
        "\n",
        "# Convert the generator result to a comma-separated string\n",
        "output_string = ','.join(str(num) for num in result)\n",
        "\n",
        "# Display the output\n",
        "print(output_string)"
      ],
      "metadata": {
        "colab": {
          "base_uri": "https://localhost:8080/"
        },
        "id": "_YZUPo8NZ03C",
        "outputId": "f7455a38-d9e6-4d18-a1a9-76731ee3a84e"
      },
      "execution_count": 1,
      "outputs": [
        {
          "output_type": "stream",
          "name": "stdout",
          "text": [
            "Enter a number (n): 100\n",
            "0,35,70\n"
          ]
        }
      ]
    },
    {
      "cell_type": "markdown",
      "source": [
        "#Question 2\n",
        "\n",
        "Please write a program using generator to print the even numbers between 0 and n in comma separated form while n is input by console.\n",
        "\n",
        "Example:\n",
        "\n",
        "If the following n is given as input to the program:\n",
        "\n",
        "10\n",
        "\n",
        "Then, the output of the program should be:\n",
        "\n",
        "0,2,4,6,8,10\n",
        "\n",
        "................\n",
        "\n",
        "Answer 2 -\n",
        "\n",
        "Below is the program for the same:"
      ],
      "metadata": {
        "id": "dLbcjEc900vk"
      }
    },
    {
      "cell_type": "code",
      "source": [
        "def even_numbers(n):\n",
        "    for num in range(n + 1):\n",
        "        if num % 2 == 0:\n",
        "            yield num\n",
        "\n",
        "# Take input from the user\n",
        "n = int(input(\"Enter a number (n): \"))\n",
        "\n",
        "# Generate the even numbers using the generator\n",
        "result = even_numbers(n)\n",
        "\n",
        "# Convert the generator result to a comma-separated string\n",
        "output_string = ','.join(str(num) for num in result)\n",
        "\n",
        "# Display the output\n",
        "print(output_string)"
      ],
      "metadata": {
        "colab": {
          "base_uri": "https://localhost:8080/"
        },
        "id": "qCeop7k1Z1gO",
        "outputId": "3d3e0167-0ea0-42b9-e0e9-b6f108fa89c3"
      },
      "execution_count": 2,
      "outputs": [
        {
          "output_type": "stream",
          "name": "stdout",
          "text": [
            "Enter a number (n): 10\n",
            "0,2,4,6,8,10\n"
          ]
        }
      ]
    },
    {
      "cell_type": "markdown",
      "source": [
        "#Question 3\n",
        "\n",
        "The Fibonacci Sequence is computed based on the following formula:\n",
        "\n",
        "f(n)=0 if n=0\n",
        "\n",
        "f(n)=1 if n=1\n",
        "\n",
        "f(n)=f(n-1)+f(n-2) if n>1\n",
        "\n",
        "Please write a program using list comprehension to print the Fibonacci Sequence in comma\n",
        "separated form with a given n input by console.\n",
        "\n",
        "Example:\n",
        "\n",
        "If the following n is given as input to the program:\n",
        "7\n",
        "\n",
        "Then, the output of the program should be:\n",
        "\n",
        "0,1,1,2,3,5,8,13\n",
        "\n",
        "................\n",
        "\n",
        "Answer 3 -\n",
        "\n",
        "We can use list comprehension to generate the Fibonacci Sequence up to the given input 'n'.\n",
        "\n",
        "Here's the program:"
      ],
      "metadata": {
        "id": "05mQuZG-1SY8"
      }
    },
    {
      "cell_type": "code",
      "source": [
        "def fibonacci_sequence(n):\n",
        "    fib_seq = [0, 1]\n",
        "    [fib_seq.append(fib_seq[-1] + fib_seq[-2]) for _ in range(2, n + 1)]\n",
        "\n",
        "    return fib_seq\n",
        "\n",
        "# Take input from the user\n",
        "n = int(input(\"Enter a number (n): \"))\n",
        "\n",
        "# Generate the Fibonacci sequence using list comprehension\n",
        "fibonacci_seq = fibonacci_sequence(n)\n",
        "\n",
        "# Convert the sequence to a comma-separated string\n",
        "output_string = ','.join(map(str, fibonacci_seq))\n",
        "\n",
        "# Display the output\n",
        "print(output_string)"
      ],
      "metadata": {
        "colab": {
          "base_uri": "https://localhost:8080/"
        },
        "id": "122fWAiRAs0r",
        "outputId": "73a431f2-afbe-4628-df7b-dc8138464884"
      },
      "execution_count": 3,
      "outputs": [
        {
          "output_type": "stream",
          "name": "stdout",
          "text": [
            "Enter a number (n): 7\n",
            "0,1,1,2,3,5,8,13\n"
          ]
        }
      ]
    },
    {
      "cell_type": "markdown",
      "source": [
        "#Question 4\n",
        "\n",
        "Assuming that we have some email addresses in the \"username@companyname.com\" format, please write program to print the user name of a given email address. Both user names and company names are composed of letters only.\n",
        "\n",
        "Example:\n",
        "\n",
        "If the following email address is given as input to the program:\n",
        "\n",
        "john@google.com\n",
        "\n",
        "Then, the output of the program should be:\n",
        "\n",
        "john\n",
        "\n",
        "................\n",
        "\n",
        "Answer 4 -\n",
        "\n",
        "We can use string manipulation to extract the username from the given email address.\n",
        "\n",
        "Here's the program:"
      ],
      "metadata": {
        "id": "VuRSz6B_57dV"
      }
    },
    {
      "cell_type": "code",
      "source": [
        "def extract_username(email_address):\n",
        "    # Split the email address using \"@\" as the delimiter\n",
        "    parts = email_address.split(\"@\")\n",
        "\n",
        "    # The username is the first part of the split result\n",
        "    username = parts[0]\n",
        "\n",
        "    return username\n",
        "\n",
        "# Take input from the user\n",
        "email_address = input(\"Enter an email address: \")\n",
        "\n",
        "# Extract the username using the function\n",
        "username = extract_username(email_address)\n",
        "\n",
        "# Display the output\n",
        "print(username)"
      ],
      "metadata": {
        "colab": {
          "base_uri": "https://localhost:8080/"
        },
        "id": "ok2ARPuj2wso",
        "outputId": "fd6fd905-6200-42ef-a0be-37e4bbe78629"
      },
      "execution_count": 9,
      "outputs": [
        {
          "output_type": "stream",
          "name": "stdout",
          "text": [
            "Enter an email address: john@google.com\n",
            "john\n"
          ]
        }
      ]
    },
    {
      "cell_type": "markdown",
      "source": [
        "#Question 5\n",
        "\n",
        "Define a class named Shape and its subclass Square. The Square class has an init function\n",
        "which takes a length as argument. Both classes have a area function which can print the area\n",
        "of the shape where Shape&#39;s area is 0 by default.\n",
        "\n",
        "...............\n",
        "\n",
        "Answer 5 -\n",
        "\n",
        "Here's the implementation of the Shape class and its subclass Square:"
      ],
      "metadata": {
        "id": "O9B5iJ9b6Txx"
      }
    },
    {
      "cell_type": "code",
      "source": [
        "class Shape:\n",
        "    def __init__(self):\n",
        "        pass\n",
        "\n",
        "    def area(self):\n",
        "        return 0\n",
        "\n",
        "class Square(Shape):\n",
        "    def __init__(self, length):\n",
        "        self.length = length\n",
        "\n",
        "    def area(self):\n",
        "        return self.length * self.length\n",
        "\n",
        "# Test the classes\n",
        "shape = Shape()\n",
        "print(\"Area of Shape:\", shape.area())\n",
        "\n",
        "square = Square(5)\n",
        "print(\"Area of Square:\", square.area())"
      ],
      "metadata": {
        "colab": {
          "base_uri": "https://localhost:8080/"
        },
        "id": "Dh30gbns6QTs",
        "outputId": "06767c80-37e9-4a48-e8ae-2d383b128330"
      },
      "execution_count": 10,
      "outputs": [
        {
          "output_type": "stream",
          "name": "stdout",
          "text": [
            "Area of Shape: 0\n",
            "Area of Square: 25\n"
          ]
        }
      ]
    },
    {
      "cell_type": "markdown",
      "source": [
        "In this implementation, we define a `base` class Shape with an `area` method that returns 0 by default. The `Square` class is a subclass of Shape and has its own **`__init__`** method to take a `length` argument. The area method in the Square class calculates the area of the square using the formula length `*` length.\n",
        "\n",
        "When we create an instance of the `Shape` class and call the area method, it returns 0, and when we create an instance of the `Square` class with length 5 and call the area method, it returns 25 as the area of the square."
      ],
      "metadata": {
        "id": "_3Wuf4mM7XP1"
      }
    }
  ]
}