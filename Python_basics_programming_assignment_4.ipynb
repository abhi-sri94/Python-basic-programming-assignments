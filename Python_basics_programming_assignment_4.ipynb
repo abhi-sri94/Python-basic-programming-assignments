{
  "nbformat": 4,
  "nbformat_minor": 0,
  "metadata": {
    "colab": {
      "provenance": []
    },
    "kernelspec": {
      "name": "python3",
      "display_name": "Python 3"
    },
    "language_info": {
      "name": "python"
    }
  },
  "cells": [
    {
      "cell_type": "markdown",
      "source": [
        "#Question 1\n",
        "\n",
        "Write a Python Program to Find the Factorial of a Number?\n",
        "\n",
        "..............\n",
        "\n",
        "Answer 1 -\n",
        "\n",
        "To find the factorial of a number in Python, we can use a simple loop to multiply all the integers from 1 to the given number.\n",
        "\n",
        "Here's how we can perform the function:"
      ],
      "metadata": {
        "id": "_CaVF_SSW3BO"
      }
    },
    {
      "cell_type": "code",
      "execution_count": 2,
      "metadata": {
        "colab": {
          "base_uri": "https://localhost:8080/"
        },
        "id": "abdJEyG0W0Bv",
        "outputId": "2d25b504-e206-4bf1-a7e5-ee2b078346a2"
      },
      "outputs": [
        {
          "output_type": "stream",
          "name": "stdout",
          "text": [
            "Enter a number: 4\n",
            "The factorial of 4 is: 24\n"
          ]
        }
      ],
      "source": [
        "def factorial(number):\n",
        "    if number < 0:\n",
        "        return \"Factorial is not defined for negative numbers.\"\n",
        "    elif number == 0:\n",
        "        return 1\n",
        "    else:\n",
        "        result = 1\n",
        "        for i in range(1, number + 1):\n",
        "            result *= i\n",
        "        return result\n",
        "\n",
        "# Input the number\n",
        "num = int(input(\"Enter a number: \"))\n",
        "\n",
        "# Calculate the factorial using the function\n",
        "fact = factorial(num)\n",
        "\n",
        "# Print the result\n",
        "print(f\"The factorial of {num} is: {fact}\")"
      ]
    },
    {
      "cell_type": "markdown",
      "source": [
        "#Question 2\n",
        "\n",
        "Write a Python Program to Display the multiplication Table?\n",
        "\n",
        ".............\n",
        "\n",
        "Answer 2 -\n",
        "\n",
        "To display the multiplication table for a given number in Python, we can use a loop to iterate through the multipliers and calculate the products.\n",
        "\n",
        "Here's how we can perform the function:"
      ],
      "metadata": {
        "id": "Xh5oI3lHXKbv"
      }
    },
    {
      "cell_type": "code",
      "source": [
        "def multiplication_table(number):\n",
        "    print(f\"Multiplication Table for {number}:\")\n",
        "    for i in range(1, 11):\n",
        "        product = number * i\n",
        "        print(f\"{number} x {i} = {product}\")\n",
        "\n",
        "# Input the number for which you want to display the multiplication table\n",
        "num = int(input(\"Enter a number: \"))\n",
        "\n",
        "# Display the multiplication table using the function\n",
        "multiplication_table(num)"
      ],
      "metadata": {
        "colab": {
          "base_uri": "https://localhost:8080/"
        },
        "id": "yrk2E0n7XHQE",
        "outputId": "bd6fd34c-ac40-4fb2-dd37-141a70d2df50"
      },
      "execution_count": 3,
      "outputs": [
        {
          "output_type": "stream",
          "name": "stdout",
          "text": [
            "Enter a number: 5\n",
            "Multiplication Table for 5:\n",
            "5 x 1 = 5\n",
            "5 x 2 = 10\n",
            "5 x 3 = 15\n",
            "5 x 4 = 20\n",
            "5 x 5 = 25\n",
            "5 x 6 = 30\n",
            "5 x 7 = 35\n",
            "5 x 8 = 40\n",
            "5 x 9 = 45\n",
            "5 x 10 = 50\n"
          ]
        }
      ]
    },
    {
      "cell_type": "markdown",
      "source": [
        "#Question 3\n",
        "\n",
        "To print the Fibonacci sequence in Python, we can use a loop to generate the numbers in the sequence. The Fibonacci sequence is a series of numbers where each number is the sum of the two preceding ones, usually starting with 0 and 1.\n",
        "\n",
        "Below is the code for the same:"
      ],
      "metadata": {
        "id": "yTSr-qDhXswO"
      }
    },
    {
      "cell_type": "code",
      "source": [
        "def fibonacci_sequence(n):\n",
        "    fib_sequence = []\n",
        "    a, b = 0, 1\n",
        "\n",
        "    while len(fib_sequence) < n:\n",
        "        fib_sequence.append(a)\n",
        "        a, b = b, a + b\n",
        "\n",
        "    return fib_sequence\n",
        "\n",
        "# Input the number of terms in the Fibonacci sequence\n",
        "num_terms = int(input(\"Enter the number of terms in the Fibonacci sequence: \"))\n",
        "\n",
        "# Print the Fibonacci sequence using the function\n",
        "fibonacci_seq = fibonacci_sequence(num_terms)\n",
        "print(f\"The Fibonacci sequence up to {num_terms} terms is:\")\n",
        "print(fibonacci_seq)"
      ],
      "metadata": {
        "colab": {
          "base_uri": "https://localhost:8080/"
        },
        "id": "Eo__jSzmXk1c",
        "outputId": "d8279c3a-ec64-4048-c612-68e745c0aac3"
      },
      "execution_count": 4,
      "outputs": [
        {
          "output_type": "stream",
          "name": "stdout",
          "text": [
            "Enter the number of terms in the Fibonacci sequence: 10\n",
            "The Fibonacci sequence up to 10 terms is:\n",
            "[0, 1, 1, 2, 3, 5, 8, 13, 21, 34]\n"
          ]
        }
      ]
    },
    {
      "cell_type": "markdown",
      "source": [
        "#Question 4\n",
        "\n",
        "Write a Python Program to Check Armstrong Number?\n",
        "\n",
        ".............\n",
        "\n",
        "Answer 4 -\n",
        "\n",
        "An Armstrong number (also known as a narcissistic number, pluperfect digital invariant, or pluperfect digital number) is a number that is equal to the sum of its own digits each raised to the power of the number of digits in the number. To check if a number is an Armstrong number in Python, you can calculate the sum of the digits each raised to the power of the number of digits in the number and compare it with the original number. If they are equal, the number is an Armstrong number.\n",
        "\n",
        "Here's the program to check if a number is an Armstrong number:"
      ],
      "metadata": {
        "id": "FCSbH8vKYkKj"
      }
    },
    {
      "cell_type": "code",
      "source": [
        "def is_armstrong_number(number):\n",
        "    num_str = str(number)\n",
        "    num_digits = len(num_str)\n",
        "    sum_of_digits = sum(int(digit) ** num_digits for digit in num_str)\n",
        "    return number == sum_of_digits\n",
        "\n",
        "# Input the number\n",
        "num = int(input(\"Enter a number: \"))\n",
        "\n",
        "# Check if the number is an Armstrong number using the function\n",
        "result = is_armstrong_number(num)\n",
        "\n",
        "# Print the result\n",
        "if result:\n",
        "    print(f\"{num} is an Armstrong number.\")\n",
        "else:\n",
        "    print(f\"{num} is not an Armstrong number.\")"
      ],
      "metadata": {
        "colab": {
          "base_uri": "https://localhost:8080/"
        },
        "id": "Kl40ZVpBYchs",
        "outputId": "324f52a0-feb9-4af5-cb4d-ad96f2f4a9b8"
      },
      "execution_count": 6,
      "outputs": [
        {
          "output_type": "stream",
          "name": "stdout",
          "text": [
            "Enter a number: 1\n",
            "1 is an Armstrong number.\n"
          ]
        }
      ]
    },
    {
      "cell_type": "markdown",
      "source": [
        "#Question 5\n",
        "\n",
        "Write a Python Program to Find Armstrong Number in an Interval?\n",
        "\n",
        "..............\n",
        "\n",
        "Answer 5 -\n",
        "\n",
        "To find Armstrong numbers in a given interval in Python, we can use a loop to iterate through the numbers in the interval and check each number using the Armstrong number logic.\n",
        "\n",
        "Here's the program:"
      ],
      "metadata": {
        "id": "eXpEZzKuZA4G"
      }
    },
    {
      "cell_type": "code",
      "source": [
        "def is_armstrong_number(number):\n",
        "    num_str = str(number)\n",
        "    num_digits = len(num_str)\n",
        "    sum_of_digits = sum(int(digit) ** num_digits for digit in num_str)\n",
        "    return number == sum_of_digits\n",
        "\n",
        "def find_armstrong_numbers(start, end):\n",
        "    armstrong_numbers = []\n",
        "    for num in range(start, end + 1):\n",
        "        if is_armstrong_number(num):\n",
        "            armstrong_numbers.append(num)\n",
        "    return armstrong_numbers\n",
        "\n",
        "# Input the interval\n",
        "start_range = int(input(\"Enter the start of the range: \"))\n",
        "end_range = int(input(\"Enter the end of the range: \"))\n",
        "\n",
        "# Find Armstrong numbers in the interval using the function\n",
        "armstrong_numbers = find_armstrong_numbers(start_range, end_range)\n",
        "\n",
        "# Print the result\n",
        "print(f\"Armstrong numbers between {start_range} and {end_range}:\")\n",
        "print(armstrong_numbers)"
      ],
      "metadata": {
        "colab": {
          "base_uri": "https://localhost:8080/"
        },
        "id": "RmYdPfTZYzq8",
        "outputId": "81d0c183-2889-4b9c-860a-07d730d28bd2"
      },
      "execution_count": 9,
      "outputs": [
        {
          "output_type": "stream",
          "name": "stdout",
          "text": [
            "Enter the start of the range: 1\n",
            "Enter the end of the range: 1000\n",
            "Armstrong numbers between 1 and 1000:\n",
            "[1, 2, 3, 4, 5, 6, 7, 8, 9, 153, 370, 371, 407]\n"
          ]
        }
      ]
    },
    {
      "cell_type": "markdown",
      "source": [
        "Question 6\n",
        "\n",
        "Write a Python Program to Find the Sum of Natural Numbers?\n",
        "\n",
        "............\n",
        "\n",
        "Answer 6-\n",
        "\n",
        "To find the sum of natural numbers in Python, we can use a simple loop to add all the numbers from 1 to the given number.\n",
        "\n",
        "Here's how we can do it:"
      ],
      "metadata": {
        "id": "5HEiGn2VZtLJ"
      }
    },
    {
      "cell_type": "code",
      "source": [
        "def sum_of_natural_numbers(n):\n",
        "    sum = 0\n",
        "    for i in range(1, n + 1):\n",
        "        sum += i\n",
        "    return sum\n",
        "\n",
        "# Input the number\n",
        "num = int(input(\"Enter a natural number: \"))\n",
        "\n",
        "# Calculate the sum of natural numbers using the function\n",
        "result = sum_of_natural_numbers(num)\n",
        "\n",
        "# Print the result\n",
        "print(f\"The sum of natural numbers up to {num} is: {result}\")"
      ],
      "metadata": {
        "colab": {
          "base_uri": "https://localhost:8080/"
        },
        "id": "RIoubK5lZXXO",
        "outputId": "8b0ffc26-b10d-4ae3-b636-3b831684fc3b"
      },
      "execution_count": 10,
      "outputs": [
        {
          "output_type": "stream",
          "name": "stdout",
          "text": [
            "Enter a natural number: 10\n",
            "The sum of natural numbers up to 10 is: 55\n"
          ]
        }
      ]
    },
    {
      "cell_type": "code",
      "source": [],
      "metadata": {
        "id": "FV4KugsPZ8Jp"
      },
      "execution_count": null,
      "outputs": []
    }
  ]
}