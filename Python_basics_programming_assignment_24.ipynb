{
  "nbformat": 4,
  "nbformat_minor": 0,
  "metadata": {
    "colab": {
      "provenance": [],
      "toc_visible": true
    },
    "kernelspec": {
      "name": "python3",
      "display_name": "Python 3"
    },
    "language_info": {
      "name": "python"
    }
  },
  "cells": [
    {
      "cell_type": "markdown",
      "source": [
        "#Question 1\n",
        "\n",
        "Create a function that takes an integer and returns a list from 1 to the given number, where:\n",
        "\n",
        "1. If the number can be divided evenly by 4, amplify it by 10 (i.e. return 10 times the number).\n",
        "2. If the number cannot be divided evenly by 4, simply return the number.\n",
        "\n",
        "..............\n",
        "\n",
        "Answer 1 -\n",
        "\n",
        "Below is the code:"
      ],
      "metadata": {
        "id": "9_WNS7xFasCI"
      }
    },
    {
      "cell_type": "code",
      "source": [
        "def amplify(num):\n",
        "\n",
        "    return [n * 10 if n % 4 == 0 else n for n in range(1, num + 1)]\n",
        "\n",
        "\n",
        "print(amplify(4))\n",
        "print(amplify(3))\n",
        "print(amplify(35))"
      ],
      "metadata": {
        "colab": {
          "base_uri": "https://localhost:8080/"
        },
        "id": "MUUeoS_jltZC",
        "outputId": "9bcec1aa-0d8c-40a8-9e43-fde2e1152ba2"
      },
      "execution_count": 2,
      "outputs": [
        {
          "output_type": "stream",
          "name": "stdout",
          "text": [
            "[1, 2, 3, 40]\n",
            "[1, 2, 3]\n",
            "[1, 2, 3, 40, 5, 6, 7, 80, 9, 10, 11, 120, 13, 14, 15, 160, 17, 18, 19, 200, 21, 22, 23, 240, 25, 26, 27, 280, 29, 30, 31, 320, 33, 34, 35]\n"
          ]
        }
      ]
    },
    {
      "cell_type": "markdown",
      "source": [
        "In this function, we use list comprehension to create a list that follows the given rules. If a number is divisible evenly by 4, it is multiplied by 10; otherwise, it remains the same. The list comprehension iterates through numbers from 1 to the given num and applies the conditions to each number to generate the final list."
      ],
      "metadata": {
        "id": "E6F0N0rhoYKS"
      }
    },
    {
      "cell_type": "markdown",
      "source": [
        "#Question 2\n",
        "\n",
        "Create a function that takes a list of numbers and return the number that's unique.\n",
        "\n",
        "..............\n",
        "\n",
        "Answer 2 -\n",
        "\n",
        "You can create a function in Python that finds the unique number in a list by using the `Counter` class from the `collections` module.\n",
        "\n",
        "Here's the implementation:\n"
      ],
      "metadata": {
        "id": "ES0whO49ore4"
      }
    },
    {
      "cell_type": "code",
      "source": [
        "from collections import Counter\n",
        "\n",
        "def unique(numbers):\n",
        "\n",
        "    counts = Counter(numbers)\n",
        "\n",
        "    unique_number = next(number for number, count in counts.items() if count == 1)\n",
        "\n",
        "    return unique_number\n",
        "\n",
        "\n",
        "print(unique([33, 33, 33, 17, 33, 33]))\n",
        "print(unique([10, 14, 14, 14, 14]))\n",
        "print(unique([0.77, 1, 1, 1, 1, 1, 1, 1]))"
      ],
      "metadata": {
        "colab": {
          "base_uri": "https://localhost:8080/"
        },
        "id": "9RxxnOXPmCop",
        "outputId": "3d0e5a15-6aa2-4dba-b158-41fb98f379a0"
      },
      "execution_count": 5,
      "outputs": [
        {
          "output_type": "stream",
          "name": "stdout",
          "text": [
            "17\n",
            "10\n",
            "0.77\n"
          ]
        }
      ]
    },
    {
      "cell_type": "markdown",
      "source": [
        "In this function, we use `Counter` to count the occurrences of each number in the input list. Then, we iterate through the counts and find the number that appears exactly once (count equals 1), which corresponds to the unique number in the list."
      ],
      "metadata": {
        "id": "p7JYjqXRvc2g"
      }
    },
    {
      "cell_type": "markdown",
      "source": [
        "#Question 3\n",
        "\n",
        "Your task is to create a Circle constructor that creates a circle with a radius provided by an\n",
        "argument. The circles constructed must have two getters getArea() (PIr^2) and getPerimeter() (2PI*r) which give both respective areas and perimeter (circumference).\n",
        "\n",
        "................\n",
        "\n",
        "Answer 3 -\n",
        "\n",
        "To create a Circle class in Python with **getArea()** and **getPerimeter()** methods, you can use the math library to access the constant pi for the calculations. Additionally, you can use the **round()** function to round the results up to the nearest integer.\n",
        "\n",
        "Here's the implementation:\n",
        "\n"
      ],
      "metadata": {
        "id": "oE5rAUNxvuKf"
      }
    },
    {
      "cell_type": "code",
      "source": [
        "import math\n",
        "\n",
        "class Circle:\n",
        "    def __init__(self, radius):\n",
        "        self.radius = radius\n",
        "\n",
        "    def getArea(self):\n",
        "        area = math.pi * self.radius**2\n",
        "        return round(area)\n",
        "\n",
        "    def getPerimeter(self):\n",
        "        perimeter = 2 * math.pi * self.radius\n",
        "        return round(perimeter)\n",
        "\n",
        "\n",
        "circy = Circle(12.84)\n",
        "print(circy.getArea())\n",
        "\n",
        "circy = Circle(4.44)\n",
        "print(circy.getPerimeter())\n",
        "\n",
        "circy = Circle(10.84)\n",
        "print(circy.getArea())"
      ],
      "metadata": {
        "colab": {
          "base_uri": "https://localhost:8080/"
        },
        "id": "Ho3XJZA2uzb_",
        "outputId": "92e39821-1c32-4439-9865-ae6007448d9f"
      },
      "execution_count": 9,
      "outputs": [
        {
          "output_type": "stream",
          "name": "stdout",
          "text": [
            "518\n",
            "28\n",
            "369\n"
          ]
        }
      ]
    },
    {
      "cell_type": "markdown",
      "source": [
        "#Question 4\n",
        "\n",
        "Create a function that takes a list of strings and return a list, sorted from shortest to longest.\n",
        "\n",
        "..............\n",
        "\n",
        "Answer 4 -\n",
        "\n",
        "You can create a function in Python that sorts a list of strings based on their lengths. Python's built-in **sorted()** function can be used along with a lambda function to specify the sorting criteria.\n",
        "\n",
        "Here's the implementation:"
      ],
      "metadata": {
        "id": "Y1aijdswxO09"
      }
    },
    {
      "cell_type": "code",
      "source": [
        "def sort_by_length(strings):\n",
        "    return sorted(strings, key=lambda s: len(s))\n",
        "\n",
        "\n",
        "print(sort_by_length([\"Amazon\", \"Apple\", \"Microsoft\"]))\n",
        "print(sort_by_length([\"Acenture\", \"Cognizant\", \"Infosys\"]))\n",
        "print(sort_by_length([\"Yahoo\", \"PhysicsWallah\", \"Alphabet\"]))"
      ],
      "metadata": {
        "colab": {
          "base_uri": "https://localhost:8080/"
        },
        "id": "us1HezUYw5R9",
        "outputId": "e32794b9-dff6-4c89-87b2-6e8daf10628b"
      },
      "execution_count": 11,
      "outputs": [
        {
          "output_type": "stream",
          "name": "stdout",
          "text": [
            "['Apple', 'Amazon', 'Microsoft']\n",
            "['Infosys', 'Acenture', 'Cognizant']\n",
            "['Yahoo', 'Alphabet', 'PhysicsWallah']\n"
          ]
        }
      ]
    },
    {
      "cell_type": "markdown",
      "source": [
        "In this function, the **sorted()** function takes the strings list as the first argument and a `key` parameter as the second argument. The key parameter is set to a lambda function that returns the length of each string `(len(s))` . This means that the sorted() function will sort the strings based on their lengths, from shortest to longest. The sorted list is then returned as the result."
      ],
      "metadata": {
        "id": "g_f5g0VYx93M"
      }
    },
    {
      "cell_type": "markdown",
      "source": [
        "#Question 5\n",
        "\n",
        "Create a function that validates whether three given integers form a Pythagorean triplet. The\n",
        "sum of the squares of the two smallest integers must equal the square of the largest number to\n",
        "be validated.\n",
        "\n",
        "..............\n",
        "\n",
        "Answer 5 -\n",
        "\n",
        "Below is the code:"
      ],
      "metadata": {
        "id": "IFa03s02yapL"
      }
    },
    {
      "cell_type": "code",
      "source": [
        "def is_triplet(a, b, c):\n",
        "    # Find the squares of each number\n",
        "    a_square = a**2\n",
        "    b_square = b**2\n",
        "    c_square = c**2\n",
        "\n",
        "    return a_square + b_square == c_square or a_square + c_square == b_square or b_square + c_square == a_square\n",
        "\n",
        "print(is_triplet(3, 4, 5))\n",
        "print(is_triplet(2, 4, 4))\n",
        "print(is_triplet(1, 7, 13))\n",
        "print(is_triplet(12, 5, 13))"
      ],
      "metadata": {
        "colab": {
          "base_uri": "https://localhost:8080/"
        },
        "id": "5wwZSI6Ex4aD",
        "outputId": "7dd10dd6-4068-48fe-b600-65511dacec39"
      },
      "execution_count": 16,
      "outputs": [
        {
          "output_type": "stream",
          "name": "stdout",
          "text": [
            "True\n",
            "False\n",
            "False\n",
            "True\n"
          ]
        }
      ]
    }
  ]
}