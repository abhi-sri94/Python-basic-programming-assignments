{
  "nbformat": 4,
  "nbformat_minor": 0,
  "metadata": {
    "colab": {
      "provenance": [],
      "toc_visible": true
    },
    "kernelspec": {
      "name": "python3",
      "display_name": "Python 3"
    },
    "language_info": {
      "name": "python"
    }
  },
  "cells": [
    {
      "cell_type": "markdown",
      "source": [
        "#Question 1\n",
        "\n",
        "Create a function that takes three arguments a, b, c and returns the sum of the numbers that are evenly divided by c from the range a, b inclusive.\n",
        "\n",
        "..............\n",
        "\n",
        "Answer 1 -\n",
        "\n",
        "We can create the function using a `loop` to iterate through the range from `a` to `b` inclusive and check if each number is evenly divisible by `c` . If it is, add it to the sum.\n",
        "\n",
        "Below is a Python function that does this:"
      ],
      "metadata": {
        "id": "Z8nDIz6bzHk6"
      }
    },
    {
      "cell_type": "code",
      "execution_count": 2,
      "metadata": {
        "id": "dgf8SP9KywCJ"
      },
      "outputs": [],
      "source": [
        "def sum_evenly_divisible(a, b, c):\n",
        "    total_sum = 0\n",
        "    for num in range(a, b + 1):\n",
        "        if num % c == 0:\n",
        "            total_sum += num\n",
        "    return total_sum\n"
      ]
    },
    {
      "cell_type": "code",
      "source": [
        "print(sum_evenly_divisible(1, 10, 2))\n",
        "print(sum_evenly_divisible(3, 15, 3))\n",
        "print(sum_evenly_divisible(10, 20, 5))"
      ],
      "metadata": {
        "colab": {
          "base_uri": "https://localhost:8080/"
        },
        "id": "8FpA07Z6zdO4",
        "outputId": "6bfcd820-3645-4565-b866-ba3d3214c0a7"
      },
      "execution_count": 3,
      "outputs": [
        {
          "output_type": "stream",
          "name": "stdout",
          "text": [
            "30\n",
            "45\n",
            "45\n"
          ]
        }
      ]
    },
    {
      "cell_type": "markdown",
      "source": [
        "#Question 2\n",
        "\n",
        "Create a function that returns True if a given inequality expression is correct and\n",
        "False otherwise.\n",
        "\n",
        "...............\n",
        "\n",
        "Answer 2 -\n",
        "\n",
        "We can create the function **correct_signs** by using Python's `eval` function to evaluate the inequality expression."
      ],
      "metadata": {
        "id": "55SHRI7s0SAU"
      }
    },
    {
      "cell_type": "code",
      "source": [
        "def correct_signs(expression):\n",
        "    try:\n",
        "        return eval(expression)\n",
        "    except (SyntaxError, NameError):\n",
        "        return False"
      ],
      "metadata": {
        "id": "Ciq9GNDF2SfU"
      },
      "execution_count": 10,
      "outputs": []
    },
    {
      "cell_type": "code",
      "source": [
        "print(correct_signs(\"3 < 7 < 11\"))\n",
        "print(correct_signs(\"13 > 44 > 33 > 1\"))\n",
        "print(correct_signs(\"1 < 2 < 6 < 9 > 3\"))"
      ],
      "metadata": {
        "colab": {
          "base_uri": "https://localhost:8080/"
        },
        "id": "x0dlauE33F7Q",
        "outputId": "c568a536-36f4-427e-d570-0c7f00066cb5"
      },
      "execution_count": 11,
      "outputs": [
        {
          "output_type": "stream",
          "name": "stdout",
          "text": [
            "True\n",
            "False\n",
            "True\n"
          ]
        }
      ]
    },
    {
      "cell_type": "markdown",
      "source": [
        "The function `correct_signs` takes the inequality expression as input, and it returns `True` if the expression is `correct` , and `False` otherwise. The `eval` function evaluates the expression and returns the result. If there is any `syntax error` or name error in the expression, it catches the exception and returns `False` ."
      ],
      "metadata": {
        "id": "WR6gF8S_3Lnw"
      }
    },
    {
      "cell_type": "markdown",
      "source": [
        "#Question 3\n",
        "\n",
        "Create a function that replaces all the vowels in a string with a specified character.\n",
        "\n",
        "..............\n",
        "\n",
        "Answer 3 -\n",
        "\n",
        "Below is the program for the same:"
      ],
      "metadata": {
        "id": "r6jkdAur3YXF"
      }
    },
    {
      "cell_type": "code",
      "source": [
        "def replace_vowels(input_string, replacement_char):\n",
        "    vowels = \"aeiouAEIOU\"\n",
        "    result = \"\"\n",
        "    for char in input_string:\n",
        "        if char in vowels:\n",
        "            result += replacement_char\n",
        "        else:\n",
        "            result += char\n",
        "    return result"
      ],
      "metadata": {
        "id": "dHTuX-sb3G_2"
      },
      "execution_count": 12,
      "outputs": []
    },
    {
      "cell_type": "code",
      "source": [
        "print(replace_vowels(\"the hamster\", \"#\"))\n",
        "print(replace_vowels(\"donald duck\", \"?\"))\n",
        "print(replace_vowels(\"Rabindra Nath Tagore\", \"*\"))"
      ],
      "metadata": {
        "colab": {
          "base_uri": "https://localhost:8080/"
        },
        "id": "3Rv10Zd44OMp",
        "outputId": "99efb704-478f-4cea-c4a3-8925cbf4f189"
      },
      "execution_count": 15,
      "outputs": [
        {
          "output_type": "stream",
          "name": "stdout",
          "text": [
            "th# h#mst#r\n",
            "d?n?ld d?ck\n",
            "R*b*ndr* N*th T*g*r*\n"
          ]
        }
      ]
    },
    {
      "cell_type": "markdown",
      "source": [
        "This function takes an `input_string` and a `replacement_char` as arguments. It iterates through each character in the `input_string` and checks if the character is a `vowel` (either lowercase or uppercase). If it is, it replaces the vowel with the specified `replacement_char` , and if not, it keeps the original character. The function returns the modified string with replaced vowels."
      ],
      "metadata": {
        "id": "dMQgh_wp4qh8"
      }
    },
    {
      "cell_type": "markdown",
      "source": [
        "#Question 4\n",
        "\n",
        "Write a function that calculates the factorial of a number recursively.\n",
        "\n",
        "..............\n",
        "\n",
        "Answer 4 -\n",
        "\n",
        "Below is the code:"
      ],
      "metadata": {
        "id": "BmBqBQMF422p"
      }
    },
    {
      "cell_type": "code",
      "source": [
        "def factorial_recursive(n):\n",
        "    if n == 0 or n == 1:\n",
        "        return 1\n",
        "    else:\n",
        "        return n * factorial_recursive(n - 1)"
      ],
      "metadata": {
        "id": "xnKjJB884P2T"
      },
      "execution_count": 17,
      "outputs": []
    },
    {
      "cell_type": "code",
      "source": [
        "print(factorial_recursive(0))\n",
        "print(factorial_recursive(5))\n",
        "print(factorial_recursive(10))"
      ],
      "metadata": {
        "colab": {
          "base_uri": "https://localhost:8080/"
        },
        "id": "85hYqzBj5Epj",
        "outputId": "5b38a216-44a8-48aa-f9af-3f69032546d6"
      },
      "execution_count": 18,
      "outputs": [
        {
          "output_type": "stream",
          "name": "stdout",
          "text": [
            "1\n",
            "120\n",
            "3628800\n"
          ]
        }
      ]
    },
    {
      "cell_type": "markdown",
      "source": [
        "In this function, we define a recursive approach to calculate the factorial of a number `n` . The base case is when n is 0 or 1; in these cases, the factorial is 1. Otherwise, the function returns `n * factorial_recursive(n - 1)` , which is the factorial of n computed by multiplying n with the factorial of `n - 1` . The recursion continues until it reaches the base case."
      ],
      "metadata": {
        "id": "4OQox2uV5kzD"
      }
    },
    {
      "cell_type": "markdown",
      "source": [
        "#Question 5\n",
        "\n",
        "Hamming distance is the number of characters that differ between two strings.\n",
        "To illustrate:\n",
        "String1: \"abcbba\"\n",
        "String2: \"abcbda\"\n",
        "Hamming Distance: 1 - \"b\" vs. \"d\" is the only difference.\n",
        "Create a function that computes the hamming distance between two strings.\n",
        "\n",
        "...............\n",
        "\n",
        "Answer 5 -\n",
        "\n",
        "You can create a function that computes the Hamming distance between two strings by iterating through each character of the strings and counting the number of positions where the characters are different."
      ],
      "metadata": {
        "id": "3SeMSzVb5w4b"
      }
    },
    {
      "cell_type": "code",
      "source": [
        "def hamming_distance(str1, str2):\n",
        "    if len(str1) != len(str2):\n",
        "        raise ValueError(\"Input strings must have the same length.\")\n",
        "\n",
        "    distance = 0\n",
        "    for char1, char2 in zip(str1, str2):\n",
        "        if char1 != char2:\n",
        "            distance += 1\n",
        "    return distance"
      ],
      "metadata": {
        "id": "w4FmmGh-5Sbv"
      },
      "execution_count": 19,
      "outputs": []
    },
    {
      "cell_type": "code",
      "source": [
        "print(hamming_distance(\"abcde\", \"fghij\"))\n",
        "print(hamming_distance(\"hello\", \"world\"))\n",
        "print(hamming_distance(\"abcde\", \"abcde\"))"
      ],
      "metadata": {
        "colab": {
          "base_uri": "https://localhost:8080/"
        },
        "id": "j1wmmnFM6O59",
        "outputId": "87d543e3-f2bd-4fc2-b53a-2a6678c22c19"
      },
      "execution_count": 23,
      "outputs": [
        {
          "output_type": "stream",
          "name": "stdout",
          "text": [
            "5\n",
            "4\n",
            "0\n"
          ]
        }
      ]
    }
  ]
}