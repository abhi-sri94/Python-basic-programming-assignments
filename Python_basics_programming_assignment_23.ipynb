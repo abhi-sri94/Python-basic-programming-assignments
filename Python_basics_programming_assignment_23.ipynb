{
  "nbformat": 4,
  "nbformat_minor": 0,
  "metadata": {
    "colab": {
      "provenance": [],
      "toc_visible": true
    },
    "kernelspec": {
      "name": "python3",
      "display_name": "Python 3"
    },
    "language_info": {
      "name": "python"
    }
  },
  "cells": [
    {
      "cell_type": "markdown",
      "source": [],
      "metadata": {
        "id": "VQBkKhURWd67"
      }
    },
    {
      "cell_type": "markdown",
      "source": [
        "#Question 1\n",
        "\n",
        "Create a function that takes a number as an argument and returns True or False depending on whether the number is symmetrical or not. A number is symmetrical when it is the same as its reverse.\n",
        "\n",
        "...............\n",
        "\n",
        "Answer 1 -\n",
        "\n",
        "To determine whether a number is symmetrical or not, you can convert the number to a string, reverse the string, and check if the reversed string is equal to the original string. If they are equal, the number is symmetrical; otherwise, it's not.\n",
        "\n",
        "Here's the Python implementation:"
      ],
      "metadata": {
        "id": "mbNylrANWeNT"
      }
    },
    {
      "cell_type": "code",
      "source": [
        "def is_symmetrical(number):\n",
        "    number_str = str(number)\n",
        "    return number_str == number_str[::-1]\n",
        "\n",
        "\n",
        "print(is_symmetrical(121))\n",
        "print(is_symmetrical(12321))\n",
        "print(is_symmetrical(12345))\n",
        "print(is_symmetrical(987654321))"
      ],
      "metadata": {
        "colab": {
          "base_uri": "https://localhost:8080/"
        },
        "id": "rIlGV_xfZpEa",
        "outputId": "f67c124c-3a4b-40ea-8c39-930af3cae4e9"
      },
      "execution_count": 1,
      "outputs": [
        {
          "output_type": "stream",
          "name": "stdout",
          "text": [
            "True\n",
            "True\n",
            "False\n",
            "False\n"
          ]
        }
      ]
    },
    {
      "cell_type": "markdown",
      "source": [
        "In this function, we first convert the given number to a string using **str()** . Then, we use string slicing with [`::-1`] to reverse the string. Finally, we compare the reversed string with the original string using `==` . If they are `equal` , the number is `symmetrical` , and the function returns `True` ; otherwise, it returns `False` ."
      ],
      "metadata": {
        "id": "iL9jWYyKaHXg"
      }
    },
    {
      "cell_type": "markdown",
      "source": [
        "#Question 2\n",
        "\n",
        "Given a string of numbers separated by a comma and space, return the product of the numbers.\n",
        "\n",
        "...............\n",
        "\n",
        "Answer 2 -\n",
        "\n",
        "We can create a function to calculate the product of numbers in a given string by splitting the string into individual numbers, converting them to integers, and then multiplying them together.\n",
        "\n",
        "Here's the Python implementation:"
      ],
      "metadata": {
        "id": "XpiWjkNlakhA"
      }
    },
    {
      "cell_type": "code",
      "source": [
        "def multiply_nums(numbers_string):\n",
        "    numbers_list = [int(num) for num in numbers_string.split(\", \")]\n",
        "    product = 1\n",
        "\n",
        "    for num in numbers_list:\n",
        "        product *= num\n",
        "\n",
        "    return product\n",
        "\n",
        "\n",
        "print(multiply_nums(\"2, 3\"))\n",
        "print(multiply_nums(\"21, 30\"))\n",
        "print(multiply_nums(\"425, 371\"))\n",
        "print(multiply_nums(\"6564, 6545, 6847\"))"
      ],
      "metadata": {
        "colab": {
          "base_uri": "https://localhost:8080/"
        },
        "id": "kOn5bPMnZuv0",
        "outputId": "74f76cb7-c4f0-4ab2-ed14-54089327ac24"
      },
      "execution_count": 3,
      "outputs": [
        {
          "output_type": "stream",
          "name": "stdout",
          "text": [
            "6\n",
            "630\n",
            "157675\n",
            "294156568860\n"
          ]
        }
      ]
    },
    {
      "cell_type": "markdown",
      "source": [
        "In this function, we first split the input string into individual numbers using `split(\", \")` . Then, we create a list `numbers_list` by converting each number in the string to an integer using **int()** . Next, we initialize the variable product to 1. Finally, we use a loop to multiply each number in the `numbers_list` with the product. After the loop, the product will contain the result of multiplying all the numbers, and we return it. In the given example, \"2, 3\" represents two numbers 2 and 3, and their product is 6, so the output is 6."
      ],
      "metadata": {
        "id": "BrErDt9pd7TI"
      }
    },
    {
      "cell_type": "markdown",
      "source": [
        "#Question 3\n",
        "\n",
        "Create a function that squares every digit of a number.\n",
        "Examples\n",
        "square_digits(9119) ➞ 811181\n",
        "\n",
        "..............\n",
        "\n",
        "Answer 3 -\n",
        "\n",
        "You can create a function to square every digit of a given number by converting the number to a string, squaring each digit, and then joining the squared digits back into an integer.\n",
        "\n",
        "Here's the Python implementation:"
      ],
      "metadata": {
        "id": "3C_lmdehovGY"
      }
    },
    {
      "cell_type": "code",
      "source": [
        "def square_digits(number):\n",
        "    squared_digits = [int(digit)**2 for digit in str(number)]\n",
        "    result = int(''.join(map(str, squared_digits)))\n",
        "    return result\n",
        "\n",
        "\n",
        "print(square_digits(9119))\n",
        "print(square_digits(2112))\n",
        "print(square_digits(12))"
      ],
      "metadata": {
        "colab": {
          "base_uri": "https://localhost:8080/"
        },
        "id": "nlPPGiJkbwBc",
        "outputId": "d0be612e-2acf-433f-9037-951b709272af"
      },
      "execution_count": 7,
      "outputs": [
        {
          "output_type": "stream",
          "name": "stdout",
          "text": [
            "811181\n",
            "4114\n",
            "14\n"
          ]
        }
      ]
    },
    {
      "cell_type": "markdown",
      "source": [
        "In this function, we first convert the number to a string using **str()** . Then, we use a list comprehension to square each digit by converting it to an integer with **int()** and using the `**` exponentiation operator. The squared digits are stored in the `squared_digits` list. Next, we join the squared digits as strings using **join()** and convert the result back to an integer using **int()** ."
      ],
      "metadata": {
        "id": "nX5qXYQep1CP"
      }
    },
    {
      "cell_type": "markdown",
      "source": [
        "#Question 4\n",
        "\n",
        "Create a function that sorts a list and removes all duplicate items from it.\n",
        "\n",
        "..............\n",
        "\n",
        "Answer 4 -\n",
        "\n",
        "You can create a function that sorts a list and removes duplicates by converting the list to a set and then converting the set back to a list.\n",
        "\n",
        "Here's the Python implementation:"
      ],
      "metadata": {
        "id": "cfwL7i7oqFS4"
      }
    },
    {
      "cell_type": "code",
      "source": [
        "def setify(lst):\n",
        "    return list(set(lst))\n",
        "\n",
        "\n",
        "print(setify([1, 3, 3, 5, 5]))\n",
        "print(setify([13, 73, 33, 33, 18]))\n",
        "print(setify([8, 8, 7, 5, 5]))"
      ],
      "metadata": {
        "colab": {
          "base_uri": "https://localhost:8080/"
        },
        "id": "ngE28JTLpFPa",
        "outputId": "67ce9beb-fbc5-415e-9d12-88f52ca74d15"
      },
      "execution_count": 9,
      "outputs": [
        {
          "output_type": "stream",
          "name": "stdout",
          "text": [
            "[1, 3, 5]\n",
            "[73, 18, 13, 33]\n",
            "[8, 5, 7]\n"
          ]
        }
      ]
    },
    {
      "cell_type": "markdown",
      "source": [
        "In this function, we use the **set()** function to convert the input list lst to a set. A set automatically removes duplicates. Then, we use **list()** to convert the set back to a list. The resulting list will be sorted and contain only unique elements."
      ],
      "metadata": {
        "id": "SepwJoY5xaM7"
      }
    },
    {
      "cell_type": "markdown",
      "source": [
        "#Question 5\n",
        "\n",
        "Create a function that returns the mean of all digits.\n",
        "\n",
        "..............\n",
        "\n",
        "Answer 5 -\n",
        "\n",
        "Below is the code for the same:"
      ],
      "metadata": {
        "id": "phTPSvsVYsO0"
      }
    },
    {
      "cell_type": "code",
      "source": [
        "def mean(num):\n",
        "\n",
        "    num_str = str(num)\n",
        "\n",
        "    digit_sum = sum(int(digit) for digit in num_str)\n",
        "\n",
        "    mean_value = digit_sum / len(num_str)\n",
        "\n",
        "\n",
        "    return int(mean_value)\n",
        "\n",
        "\n",
        "print(mean(420))\n",
        "print(mean(12345))\n",
        "print(mean(371))"
      ],
      "metadata": {
        "colab": {
          "base_uri": "https://localhost:8080/"
        },
        "id": "_YgrMZ9v4-Ze",
        "outputId": "3c207893-1064-4c3a-a863-54b77db4b5db"
      },
      "execution_count": 3,
      "outputs": [
        {
          "output_type": "stream",
          "name": "stdout",
          "text": [
            "2\n",
            "3\n",
            "3\n"
          ]
        }
      ]
    },
    {
      "cell_type": "code",
      "source": [],
      "metadata": {
        "id": "ikZpH6L0Y5jA"
      },
      "execution_count": null,
      "outputs": []
    }
  ]
}