{
  "nbformat": 4,
  "nbformat_minor": 0,
  "metadata": {
    "colab": {
      "provenance": [],
      "toc_visible": true
    },
    "kernelspec": {
      "name": "python3",
      "display_name": "Python 3"
    },
    "language_info": {
      "name": "python"
    }
  },
  "cells": [
    {
      "cell_type": "markdown",
      "source": [
        "#Question 1\n",
        "\n",
        "Write a function that takes a list and a number as arguments. Add the number to the end of\n",
        "the list, then remove the first element of the list. The function should then return the updated\n",
        "list.\n",
        "\n",
        ".............\n",
        "\n",
        "Answer 1 -\n",
        "\n",
        "We can create a function to perform the specified operations on the given list. If the list is empty, the function should return the string \"No list has been selected.\" Otherwise, it should add the number to the end of the list and remove the first element, then return the updated list.\n",
        "\n",
        "Here's the Python implementation:\n",
        "\n"
      ],
      "metadata": {
        "id": "KZ4goxaULnVX"
      }
    },
    {
      "cell_type": "code",
      "execution_count": 1,
      "metadata": {
        "colab": {
          "base_uri": "https://localhost:8080/"
        },
        "id": "s_hPwwCFKK1C",
        "outputId": "3aab7f8a-cfec-4915-b39a-b2e0984fc518"
      },
      "outputs": [
        {
          "output_type": "stream",
          "name": "stdout",
          "text": [
            "[3, 5, 7, 9, 1]\n",
            "[7, 4, 24, 18, 9]\n",
            "[8, 18, 40, 5]\n",
            "No list has been selected.\n"
          ]
        }
      ],
      "source": [
        "def next_in_line(input_list, number):\n",
        "    if not input_list:\n",
        "        return \"No list has been selected.\"\n",
        "    input_list.append(number)\n",
        "    input_list.pop(0)\n",
        "    return input_list\n",
        "\n",
        "\n",
        "print(next_in_line([1, 3, 5, 7, 9], 1))\n",
        "print(next_in_line([6, 7, 4, 24, 18], 9))\n",
        "print(next_in_line([3, 8, 18, 40], 5))\n",
        "print(next_in_line([], 6))"
      ]
    },
    {
      "cell_type": "markdown",
      "source": [
        "#Question 2\n",
        "\n",
        "Create the function that takes a list of dictionaries and returns the sum of people's budgets.\n",
        "\n",
        "...............\n",
        "\n",
        "Answer 2 -\n",
        "\n",
        "Below is the code:"
      ],
      "metadata": {
        "id": "D-IJaoPVv0UW"
      }
    },
    {
      "cell_type": "code",
      "source": [
        "def get_budgets(people_list):\n",
        "    total_budget = sum(person[\"budget\"] for person in people_list)\n",
        "    return total_budget"
      ],
      "metadata": {
        "id": "LCEK13SjMW1n"
      },
      "execution_count": 2,
      "outputs": []
    },
    {
      "cell_type": "code",
      "source": [
        "print(get_budgets([\n",
        "    {\"name\": \"A\", \"age\": 28, \"budget\": 15000},\n",
        "    {\"name\": \"B\", \"age\": 35, \"budget\": 22000},\n",
        "    {\"name\": \"C\", \"age\": 41, \"budget\": 18000},\n",
        "    {\"name\": \"D\", \"age\": 24, \"budget\": 12000}\n",
        "]))\n",
        "\n",
        "print(get_budgets([\n",
        "    {\"name\": \"E\", \"age\": 19, \"budget\": 5000},\n",
        "    {\"name\": \"F\", \"age\": 29, \"budget\": 8000},\n",
        "    {\"name\": \"G\", \"age\": 36, \"budget\": 15000}\n",
        "]))"
      ],
      "metadata": {
        "colab": {
          "base_uri": "https://localhost:8080/"
        },
        "id": "-v2Sl9WlwFUy",
        "outputId": "ae4d6590-7ee0-4c90-ed6d-4999ac4fc2a2"
      },
      "execution_count": 3,
      "outputs": [
        {
          "output_type": "stream",
          "name": "stdout",
          "text": [
            "67000\n",
            "28000\n"
          ]
        }
      ]
    },
    {
      "cell_type": "markdown",
      "source": [
        "#Question 3\n",
        "\n",
        "Create a function that takes a string and returns a string with its letters in alphabetical order.\n",
        "\n",
        "...............\n",
        "\n",
        "Answer 3 -\n",
        "\n",
        "We can create a function to sort the letters of a given string in alphabetical order using Python's built-in **sorted()** function.\n",
        "\n",
        "Here's the implementation:"
      ],
      "metadata": {
        "id": "GAzlg3eB03Fz"
      }
    },
    {
      "cell_type": "code",
      "source": [
        "def sort_letters(input_string):\n",
        "    return ''.join(sorted(input_string))\n",
        "\n",
        "\n",
        "print(sort_letters(\"hello\"))\n",
        "print(sort_letters(\"python\"))\n",
        "print(sort_letters(\"zebra\"))\n",
        "print(sort_letters(\"laptop\"))"
      ],
      "metadata": {
        "colab": {
          "base_uri": "https://localhost:8080/"
        },
        "id": "ysFPfdTrwrhO",
        "outputId": "261eb8a7-fa7d-48e5-e172-b9d259628f29"
      },
      "execution_count": 5,
      "outputs": [
        {
          "output_type": "stream",
          "name": "stdout",
          "text": [
            "ehllo\n",
            "hnopty\n",
            "aberz\n",
            "aloppt\n"
          ]
        }
      ]
    },
    {
      "cell_type": "markdown",
      "source": [
        "In this function, we use the **sorted()** function to sort the characters of the `input_string` in alphabetical order, and then we use the **join()** function to combine the sorted characters back into a single string. The resulting string will have its letters in alphabetical order."
      ],
      "metadata": {
        "id": "f-FPUR-R2AWc"
      }
    },
    {
      "cell_type": "markdown",
      "source": [
        "#Question 4\n",
        "\n",
        "Suppose that you invest $10,000 for 10 years at an interest rate of 6% compounded monthly.\n",
        "What will be the value of your investment at the end of the 10 year period?\n",
        "Create a function that accepts the principal p, the term in years t, the interest rate r, and the\n",
        "number of compounding periods per year n. The function returns the value at the end of term\n",
        "rounded to the nearest cent.\n",
        "\n",
        ".................\n",
        "\n",
        "Answer 4 -\n",
        "\n",
        "To calculate the compound interest with different compounding periods, we can use the formula:\n",
        "\n",
        "`A = P * (1 + r/n)^(n*t)`\n",
        "\n",
        "where:\n",
        "\n",
        "- A = the final amount (value at the end of the term)\n",
        "- P = the principal amount (initial investment)\n",
        "- r = the annual interest rate (as a decimal)\n",
        "- n = the number of compounding periods per year\n",
        "- t = the term in years\n",
        "\n",
        "Here's the Python function to implement this:"
      ],
      "metadata": {
        "id": "qI_YgXbI2NDV"
      }
    },
    {
      "cell_type": "code",
      "source": [
        "def compound_interest(p, t, r, n):\n",
        "    A = p * (1 + r/n) ** (n*t)\n",
        "    return round(A, 2)\n",
        "\n",
        "# Test case\n",
        "print(compound_interest(10000, 10, 0.06, 12))\n",
        "print(compound_interest(11000, 15, 0.032, 12))\n",
        "print(compound_interest(11378, 18.75, 0.04, 12))"
      ],
      "metadata": {
        "colab": {
          "base_uri": "https://localhost:8080/"
        },
        "id": "BJoA1y3q17Vv",
        "outputId": "84cd13f5-436f-4210-eb6c-7fceb98030a2"
      },
      "execution_count": 3,
      "outputs": [
        {
          "output_type": "stream",
          "name": "stdout",
          "text": [
            "18193.97\n",
            "17765.47\n",
            "24057.2\n"
          ]
        }
      ]
    },
    {
      "cell_type": "markdown",
      "source": [
        "#Question 5\n",
        "\n",
        "Write a function that takes a list of elements and returns only the integers.\n",
        "\n",
        "..............\n",
        "\n",
        "Answer 5 -\n",
        "\n",
        "We can create a function that filters out only the integers from a given list of elements using a list comprehension and the **isinstance()** function.\n",
        "\n",
        "Here's the Python implementation:"
      ],
      "metadata": {
        "id": "CGdcG2GQfAn6"
      }
    },
    {
      "cell_type": "code",
      "source": [
        "def return_only_integer(elements):\n",
        "    return [x for x in elements if isinstance(x, int)]\n",
        "\n",
        "# Test case\n",
        "print(return_only_integer([9, 2, \"space\", \"car\", \"lion\", 16]))\n",
        "print(return_only_integer([9.7, 8, \"a\", \"b\", \"c\", 16]))\n",
        "print(return_only_integer([1+3j, 2, \"True\", 84, \"fox\", 16]))"
      ],
      "metadata": {
        "colab": {
          "base_uri": "https://localhost:8080/"
        },
        "id": "QxDMyrXIeZEm",
        "outputId": "4069e147-de64-42de-e807-ce7482f26988"
      },
      "execution_count": 6,
      "outputs": [
        {
          "output_type": "stream",
          "name": "stdout",
          "text": [
            "[9, 2, 16]\n",
            "[2, 16]\n",
            "[2, 84, 16]\n"
          ]
        }
      ]
    },
    {
      "cell_type": "markdown",
      "source": [
        "In this function, we use a list comprehension to iterate through each element `x` in the elements list. We then use `isinstance(x, int)` to check if the element is an integer. If it is, the element is included in the resulting list, which contains only the integers from the input list."
      ],
      "metadata": {
        "id": "HDq2g7sHgRLv"
      }
    }
  ]
}