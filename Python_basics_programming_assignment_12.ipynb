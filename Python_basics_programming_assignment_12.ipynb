{
  "nbformat": 4,
  "nbformat_minor": 0,
  "metadata": {
    "colab": {
      "provenance": [],
      "toc_visible": true
    },
    "kernelspec": {
      "name": "python3",
      "display_name": "Python 3"
    },
    "language_info": {
      "name": "python"
    }
  },
  "cells": [
    {
      "cell_type": "markdown",
      "source": [
        "#Question 1\n",
        "\n",
        "Write a Python program to Extract Unique values dictionary values?\n",
        "\n",
        "............\n",
        "\n",
        "Answer 1 -\n",
        "\n",
        "To extract unique values from a dictionary's values in Python, you can follow these steps:\n",
        "\n",
        "1) Get all the values from the dictionary.\n",
        "\n",
        "2) Create a new set to store unique values.\n",
        "\n",
        "3) Iterate through the values and add them to the set.\n",
        "\n",
        "4) Finally, the set will contain only the unique values.\n",
        "\n",
        "Here's a Python program that demonstrates this process:"
      ],
      "metadata": {
        "id": "t_bR9UDU34-g"
      }
    },
    {
      "cell_type": "code",
      "source": [
        "def extract_unique_values(dictionary):\n",
        "    # Get all the values from the dictionary\n",
        "    values = dictionary.values()\n",
        "\n",
        "    # Create a set to store unique values\n",
        "    unique_values = set()\n",
        "\n",
        "    # Iterate through the values and add them to the set\n",
        "    for value in values:\n",
        "        unique_values.add(value)\n",
        "\n",
        "    return unique_values\n",
        "\n",
        "# Sample dictionary\n",
        "sample_dict = {\n",
        "    'a': 10,\n",
        "    'b': 20,\n",
        "    'c': 10,\n",
        "    'd': 30,\n",
        "    'e': 20\n",
        "}\n",
        "\n",
        "# Extract unique values from the dictionary\n",
        "unique_values_set = extract_unique_values(sample_dict)\n",
        "\n",
        "# Display the unique values\n",
        "print(\"Unique values in the dictionary:\", unique_values_set)"
      ],
      "metadata": {
        "colab": {
          "base_uri": "https://localhost:8080/"
        },
        "id": "lAtxlfba4UYa",
        "outputId": "1d19b8f0-f629-48de-be26-5a325639522b"
      },
      "execution_count": 1,
      "outputs": [
        {
          "output_type": "stream",
          "name": "stdout",
          "text": [
            "Unique values in the dictionary: {10, 20, 30}\n"
          ]
        }
      ]
    },
    {
      "cell_type": "markdown",
      "source": [
        "#Question 2\n",
        "\n",
        "Write a Python program to find the sum of all items in a dictionary?\n",
        "\n",
        ".............\n",
        "\n",
        "Answer 2 -\n",
        "\n",
        "Below is the program for the same:"
      ],
      "metadata": {
        "id": "j0ucBLgy4gX9"
      }
    },
    {
      "cell_type": "code",
      "source": [
        "def sum_of_all_items(dictionary):\n",
        "    # Get all the values from the dictionary\n",
        "    values = dictionary.values()\n",
        "\n",
        "    # Calculate the sum of all values\n",
        "    total_sum = sum(values)\n",
        "\n",
        "    return total_sum\n",
        "\n",
        "# Sample dictionary\n",
        "sample_dict = {\n",
        "    'a': 10,\n",
        "    'b': 20,\n",
        "    'c': 30,\n",
        "    'd': 40,\n",
        "    'e': 50\n",
        "}\n",
        "\n",
        "# Calculate the sum of all items in the dictionary\n",
        "result = sum_of_all_items(sample_dict)\n",
        "\n",
        "# Display the result\n",
        "print(\"Sum of all items in the dictionary:\", result)"
      ],
      "metadata": {
        "colab": {
          "base_uri": "https://localhost:8080/"
        },
        "id": "ZgxkTj4W4VRr",
        "outputId": "33bbfb45-700d-4c45-ee35-33c2b47c1bfc"
      },
      "execution_count": 2,
      "outputs": [
        {
          "output_type": "stream",
          "name": "stdout",
          "text": [
            "Sum of all items in the dictionary: 150\n"
          ]
        }
      ]
    },
    {
      "cell_type": "markdown",
      "source": [
        "#Question 3\n",
        "\n",
        "Write a Python program to Merging two Dictionaries?\n",
        "\n",
        ".............\n",
        "\n",
        "Answer 3 -\n",
        "\n",
        "To merge two dictionaries in Python, we can use the **update()** method or **dictionary unpacking** (`**`) operator. Here are two examples to demonstrate both methods:\n",
        "\n",
        "Method 1: Using update() method:"
      ],
      "metadata": {
        "id": "waF647XP41vB"
      }
    },
    {
      "cell_type": "code",
      "source": [
        "def merge_dictionaries(dict1, dict2):\n",
        "    # Create a copy of dict1 to avoid modifying the original dictionary\n",
        "    merged_dict = dict1.copy()\n",
        "\n",
        "    # Merge the contents of dict2 into merged_dict\n",
        "    merged_dict.update(dict2)\n",
        "\n",
        "    return merged_dict\n",
        "\n",
        "# Sample dictionaries\n",
        "dict1 = {'a': 1, 'b': 2}\n",
        "dict2 = {'c': 3, 'd': 4}\n",
        "\n",
        "# Merge the dictionaries\n",
        "merged_result = merge_dictionaries(dict1, dict2)\n",
        "\n",
        "# Display the merged result\n",
        "print(\"Merged dictionary:\", merged_result)"
      ],
      "metadata": {
        "colab": {
          "base_uri": "https://localhost:8080/"
        },
        "id": "1thEeBhU4xJl",
        "outputId": "8f722882-84cb-4b50-d177-f227008a6e02"
      },
      "execution_count": 3,
      "outputs": [
        {
          "output_type": "stream",
          "name": "stdout",
          "text": [
            "Merged dictionary: {'a': 1, 'b': 2, 'c': 3, 'd': 4}\n"
          ]
        }
      ]
    },
    {
      "cell_type": "markdown",
      "source": [
        "Method 2: Using dictionary unpacking (**) operator:"
      ],
      "metadata": {
        "id": "SCUplpqq5YOQ"
      }
    },
    {
      "cell_type": "code",
      "source": [
        "def merge_dictionaries(dict1, dict2):\n",
        "    # Create a new dictionary by unpacking dict1 and dict2\n",
        "    merged_dict = {**dict1, **dict2}\n",
        "\n",
        "    return merged_dict\n",
        "\n",
        "# Sample dictionaries\n",
        "dict1 = {'a': 1, 'b': 2}\n",
        "dict2 = {'c': 3, 'd': 4}\n",
        "\n",
        "# Merge the dictionaries\n",
        "merged_result = merge_dictionaries(dict1, dict2)\n",
        "\n",
        "# Display the merged result\n",
        "print(\"Merged dictionary:\", merged_result)"
      ],
      "metadata": {
        "colab": {
          "base_uri": "https://localhost:8080/"
        },
        "id": "DjBZ6ozz5Vgy",
        "outputId": "b3fdc466-0dfc-4512-d8cb-9eb63124a646"
      },
      "execution_count": 4,
      "outputs": [
        {
          "output_type": "stream",
          "name": "stdout",
          "text": [
            "Merged dictionary: {'a': 1, 'b': 2, 'c': 3, 'd': 4}\n"
          ]
        }
      ]
    },
    {
      "cell_type": "markdown",
      "source": [
        "#Question 4\n",
        "\n",
        "Write a Python program to convert key-values list to flat dictionary?\n",
        "\n",
        ".............\n",
        "\n",
        "Answer 4 -\n",
        "\n",
        "To convert key-value pairs stored in a list to a flat dictionary, we can iterate through the list and construct the dictionary accordingly. The key-value pairs in the list can be represented as tuples or lists.\n",
        "\n",
        "Here's a Python program to achieve this:"
      ],
      "metadata": {
        "id": "1uUXkaoh5fqS"
      }
    },
    {
      "cell_type": "code",
      "source": [
        "def list_to_flat_dictionary(key_value_list):\n",
        "    flat_dict = {}\n",
        "    for key, value in key_value_list:\n",
        "        flat_dict[key] = value\n",
        "    return flat_dict\n",
        "\n",
        "# Sample list containing key-value pairs as tuples\n",
        "key_value_list = [('a', 1), ('b', 2), ('c', 3)]\n",
        "\n",
        "# Convert the list to a flat dictionary\n",
        "result_dict = list_to_flat_dictionary(key_value_list)\n",
        "\n",
        "# Display the flat dictionary\n",
        "print(\"Flat dictionary:\", result_dict)"
      ],
      "metadata": {
        "colab": {
          "base_uri": "https://localhost:8080/"
        },
        "id": "B74qhrOo5cO-",
        "outputId": "284ccfca-d78e-48ea-fc88-a6f3023f3319"
      },
      "execution_count": 5,
      "outputs": [
        {
          "output_type": "stream",
          "name": "stdout",
          "text": [
            "Flat dictionary: {'a': 1, 'b': 2, 'c': 3}\n"
          ]
        }
      ]
    },
    {
      "cell_type": "markdown",
      "source": [
        "#Question 5\n",
        "\n",
        "Write a Python program to insertion at the beginning in OrderedDict?\n",
        "\n",
        "..............\n",
        "\n",
        "Answer 5 -\n",
        "\n",
        "In Python, you can use the `collections.OrderedDict` to maintain the order of insertion in a dictionary. To insert a new key-value pair at the beginning of an OrderedDict, you can use the **move_to_end()** method with the last parameter set to `False` . This method moves an existing key to the beginning of the ordered dictionary.\n",
        "\n",
        "Here's a Python program that demonstrates how to insert a key-value pair at the beginning of an `OrderedDict` :"
      ],
      "metadata": {
        "id": "MIUAMTqh6zyk"
      }
    },
    {
      "cell_type": "code",
      "source": [
        "from collections import OrderedDict\n",
        "\n",
        "def insert_at_beginning(ordered_dict, key, value):\n",
        "    # Create a new OrderedDict with the new key-value pair\n",
        "    new_ordered_dict = OrderedDict([(key, value)])\n",
        "\n",
        "    # Merge the new OrderedDict with the original OrderedDict\n",
        "    new_ordered_dict.update(ordered_dict)\n",
        "\n",
        "    return new_ordered_dict\n",
        "\n",
        "# Sample OrderedDict\n",
        "ordered_dict = OrderedDict([('a', 1), ('b', 2), ('c', 3)])\n",
        "\n",
        "# Insert a new key-value pair at the beginning\n",
        "ordered_dict = insert_at_beginning(ordered_dict, 'd', 4)\n",
        "\n",
        "# Display the updated OrderedDict\n",
        "print(\"Updated OrderedDict:\", ordered_dict)"
      ],
      "metadata": {
        "colab": {
          "base_uri": "https://localhost:8080/"
        },
        "id": "eK_An95f7f_E",
        "outputId": "b88ecfc5-79b0-4d51-9d47-0c6d6b7425a8"
      },
      "execution_count": 12,
      "outputs": [
        {
          "output_type": "stream",
          "name": "stdout",
          "text": [
            "Updated OrderedDict: OrderedDict([('d', 4), ('a', 1), ('b', 2), ('c', 3)])\n"
          ]
        }
      ]
    },
    {
      "cell_type": "markdown",
      "source": [
        "#Question 6\n",
        "\n",
        "Write a Python program to check order of character in string using OrderedDict()?\n",
        "\n",
        "................\n",
        "\n",
        "Answer 6 -\n",
        "\n",
        "To check the order of characters in a string using `OrderedDict` , you can compare the original string with the string created from the OrderedDict of its characters. If both strings are the same, it means that the characters in the original string are in the same order as in the OrderedDict.\n",
        "\n",
        "Here's a Python program that demonstrates this:"
      ],
      "metadata": {
        "id": "8iGdW2QB8cRu"
      }
    },
    {
      "cell_type": "code",
      "source": [
        "from collections import OrderedDict\n",
        "\n",
        "def check_order_of_characters(input_string):\n",
        "    # Create an OrderedDict with the characters of the input string\n",
        "    ordered_dict = OrderedDict.fromkeys(input_string)\n",
        "\n",
        "    # Create a new string from the OrderedDict\n",
        "    ordered_string = ''.join(ordered_dict)\n",
        "\n",
        "    # Compare the original string with the ordered string\n",
        "    if ordered_string == input_string:\n",
        "        return True\n",
        "    else:\n",
        "        return False\n",
        "\n",
        "# Sample input strings\n",
        "input_string1 = \"hello\"\n",
        "input_string2 = \"python\"\n",
        "input_string3 = \"world\"\n",
        "\n",
        "# Check the order of characters in the input strings\n",
        "result1 = check_order_of_characters(input_string1)\n",
        "result2 = check_order_of_characters(input_string2)\n",
        "result3 = check_order_of_characters(input_string3)\n",
        "\n",
        "# Display the results\n",
        "print(f\"Is '{input_string1}' in order? {result1}\")\n",
        "print(f\"Is '{input_string2}' in order? {result2}\")\n",
        "print(f\"Is '{input_string3}' in order? {result3}\")"
      ],
      "metadata": {
        "colab": {
          "base_uri": "https://localhost:8080/"
        },
        "id": "7K00SCFn8JU9",
        "outputId": "0e104fe5-1991-42c4-a813-ee72944bc2d7"
      },
      "execution_count": 13,
      "outputs": [
        {
          "output_type": "stream",
          "name": "stdout",
          "text": [
            "Is 'hello' in order? False\n",
            "Is 'python' in order? True\n",
            "Is 'world' in order? True\n"
          ]
        }
      ]
    },
    {
      "cell_type": "markdown",
      "source": [
        "#Question 7\n",
        "\n",
        "Write a Python program to sort Python Dictionaries by Key or Value?\n",
        "\n",
        "..............\n",
        "\n",
        "Answer 7 -\n",
        "\n",
        "To sort a Python dictionary by key or value, we can use the built-in **sorted()** function along with `lambda` functions or `itemgetter` from the operator module.\n",
        "\n",
        "Here are examples for sorting by key and value:\n",
        "\n",
        "1) **Sorting by Key** :"
      ],
      "metadata": {
        "id": "vjf86ZLP8zKa"
      }
    },
    {
      "cell_type": "code",
      "source": [
        "def sort_dict_by_key(input_dict):\n",
        "    sorted_dict = dict(sorted(input_dict.items()))\n",
        "    return sorted_dict\n",
        "\n",
        "# Sample dictionary\n",
        "sample_dict = {'b': 2, 'a': 1, 'c': 3, 'd': 4}\n",
        "\n",
        "# Sort the dictionary by key\n",
        "sorted_by_key = sort_dict_by_key(sample_dict)\n",
        "\n",
        "# Display the sorted dictionary by key\n",
        "print(\"Sorted by key:\", sorted_by_key)"
      ],
      "metadata": {
        "colab": {
          "base_uri": "https://localhost:8080/"
        },
        "id": "nIge6hKp8meW",
        "outputId": "1e37e7f8-772d-42e1-9e75-086133b7233d"
      },
      "execution_count": 14,
      "outputs": [
        {
          "output_type": "stream",
          "name": "stdout",
          "text": [
            "Sorted by key: {'a': 1, 'b': 2, 'c': 3, 'd': 4}\n"
          ]
        }
      ]
    },
    {
      "cell_type": "markdown",
      "source": [
        "2) **Sorting by Value** :"
      ],
      "metadata": {
        "id": "uEZzqfHa9dsn"
      }
    },
    {
      "cell_type": "code",
      "source": [
        "def sort_dict_by_value(input_dict):\n",
        "    sorted_dict = dict(sorted(input_dict.items(), key=lambda item: item[1]))\n",
        "    return sorted_dict\n",
        "\n",
        "# Sample dictionary\n",
        "sample_dict = {'b': 2, 'a': 1, 'c': 3, 'd': 4}\n",
        "\n",
        "# Sort the dictionary by value\n",
        "sorted_by_value = sort_dict_by_value(sample_dict)\n",
        "\n",
        "# Display the sorted dictionary by value\n",
        "print(\"Sorted by value:\", sorted_by_value)"
      ],
      "metadata": {
        "colab": {
          "base_uri": "https://localhost:8080/"
        },
        "id": "n8wxwJPT9bDG",
        "outputId": "25c1a888-5715-431a-dada-ebc9a8348bd9"
      },
      "execution_count": 15,
      "outputs": [
        {
          "output_type": "stream",
          "name": "stdout",
          "text": [
            "Sorted by value: {'a': 1, 'b': 2, 'c': 3, 'd': 4}\n"
          ]
        }
      ]
    }
  ]
}