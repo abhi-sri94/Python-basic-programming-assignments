{
  "nbformat": 4,
  "nbformat_minor": 0,
  "metadata": {
    "colab": {
      "provenance": []
    },
    "kernelspec": {
      "name": "python3",
      "display_name": "Python 3"
    },
    "language_info": {
      "name": "python"
    }
  },
  "cells": [
    {
      "cell_type": "markdown",
      "source": [
        "#Question 1\n",
        "\n",
        "Write a Python Program to Display Fibonacci Sequence Using Recursion?\n",
        "\n",
        "..............\n",
        "\n",
        "Amswer 1 -\n",
        "\n",
        "Below is the code:"
      ],
      "metadata": {
        "id": "0NhU149hqrzn"
      }
    },
    {
      "cell_type": "code",
      "execution_count": 1,
      "metadata": {
        "colab": {
          "base_uri": "https://localhost:8080/"
        },
        "id": "rKolrJ_lqoM_",
        "outputId": "a9cfe5d7-0022-4781-9817-e84bcae02e13"
      },
      "outputs": [
        {
          "output_type": "stream",
          "name": "stdout",
          "text": [
            "Enter the number of terms in the Fibonacci sequence: 10\n",
            "The Fibonacci sequence up to 10 terms is:\n",
            "[0, 1, 1, 2, 3, 5, 8, 13, 21, 34]\n"
          ]
        }
      ],
      "source": [
        "def fibonacci_recursive(n):\n",
        "    if n <= 0:\n",
        "        return []\n",
        "    elif n == 1:\n",
        "        return [0]\n",
        "    elif n == 2:\n",
        "        return [0, 1]\n",
        "    else:\n",
        "        fib_sequence = fibonacci_recursive(n - 1)\n",
        "        fib_sequence.append(fib_sequence[-1] + fib_sequence[-2])\n",
        "        return fib_sequence\n",
        "\n",
        "# Input the number of terms in the Fibonacci sequence\n",
        "num_terms = int(input(\"Enter the number of terms in the Fibonacci sequence: \"))\n",
        "\n",
        "# Display the Fibonacci sequence using the recursive function\n",
        "fibonacci_seq = fibonacci_recursive(num_terms)\n",
        "\n",
        "print(f\"The Fibonacci sequence up to {num_terms} terms is:\")\n",
        "\n",
        "print(fibonacci_seq)"
      ]
    },
    {
      "cell_type": "markdown",
      "source": [
        "#Question 2\n",
        "\n",
        "Write a Python Program to Find Factorial of Number Using Recursion?\n",
        "\n",
        ".............\n",
        "\n",
        "Answer 2 -\n",
        "\n",
        "To find the factorial of a number using recursion in Python, you can define a recursive function that multiplies the number with the factorial of the number minus one until it reaches the base case of 0 or 1.\n",
        "\n",
        "Here's the program:"
      ],
      "metadata": {
        "id": "pozYTItKrThN"
      }
    },
    {
      "cell_type": "code",
      "source": [
        "def factorial_recursive(n):\n",
        "    if n == 0 or n == 1:\n",
        "        return 1\n",
        "    else:\n",
        "        return n * factorial_recursive(n - 1)\n",
        "\n",
        "# Input the number for which you want to find the factorial\n",
        "num = int(input(\"Enter a number: \"))\n",
        "\n",
        "# Calculate the factorial using the recursive function\n",
        "result = factorial_recursive(num)\n",
        "\n",
        "# Print the result\n",
        "print(f\"The factorial of {num} is: {result}\")"
      ],
      "metadata": {
        "colab": {
          "base_uri": "https://localhost:8080/"
        },
        "id": "H7C5nSCUrN7h",
        "outputId": "45084a9f-0e02-41d0-f7d5-1fedcc04abdf"
      },
      "execution_count": 2,
      "outputs": [
        {
          "output_type": "stream",
          "name": "stdout",
          "text": [
            "Enter a number: 10\n",
            "The factorial of 10 is: 3628800\n"
          ]
        }
      ]
    },
    {
      "cell_type": "markdown",
      "source": [
        "#Question 3\n",
        "\n",
        "Write a Python Program to calculate your Body Mass Index?\n",
        "\n",
        ".............\n",
        "\n",
        "Answer 3 -\n",
        "\n",
        "To calculate the Body Mass Index (BMI) in Python, we need the weight in kilograms and the height in meters. The BMI is calculated as weight divided by the square of height.\n",
        "\n",
        "Here's the program:"
      ],
      "metadata": {
        "id": "EOYMJMg2rseQ"
      }
    },
    {
      "cell_type": "code",
      "source": [
        "def calculate_bmi(weight, height):\n",
        "    bmi = weight / (height ** 2)\n",
        "    return bmi\n",
        "\n",
        "# Input weight and height from the user\n",
        "weight_kg = float(input(\"Enter your weight in kilograms: \"))\n",
        "height_m = float(input(\"Enter your height in meters: \"))\n",
        "\n",
        "# Calculate BMI using the function\n",
        "bmi_result = calculate_bmi(weight_kg, height_m)\n",
        "\n",
        "# Print the result\n",
        "print(f\"Your Body Mass Index (BMI) is: {bmi_result:.2f}\")"
      ],
      "metadata": {
        "colab": {
          "base_uri": "https://localhost:8080/"
        },
        "id": "haD0bTZprltX",
        "outputId": "278ddaee-7be2-4609-b528-3da774e18770"
      },
      "execution_count": 3,
      "outputs": [
        {
          "output_type": "stream",
          "name": "stdout",
          "text": [
            "Enter your weight in kilograms: 100\n",
            "Enter your height in meters: 1.7\n",
            "Your Body Mass Index (BMI) is: 34.60\n"
          ]
        }
      ]
    },
    {
      "cell_type": "markdown",
      "source": [
        "#Question 4\n",
        "\n",
        "Write a Python Program to calculate the natural logarithm of any number?\n",
        "\n",
        "..............\n",
        "\n",
        "Answer 4 -\n",
        "\n",
        "To calculate the natural logarithm (`ln`) of any number in Python, we can use the **math module** , which provides the **log()** function. The log() function in the math module calculates the natural logarithm (`base e`) of a given number.\n",
        "\n",
        "Here's the program:\n",
        "\n"
      ],
      "metadata": {
        "id": "2dQTPAQ2sLbA"
      }
    },
    {
      "cell_type": "code",
      "source": [
        "import math\n",
        "\n",
        "# Input the number\n",
        "num = float(input(\"Enter a number: \"))\n",
        "\n",
        "# Calculate the natural logarithm using the math.log() function\n",
        "log_result = math.log(num)\n",
        "\n",
        "# Print the result\n",
        "print(f\"The natural logarithm of {num} is: {log_result}\")"
      ],
      "metadata": {
        "colab": {
          "base_uri": "https://localhost:8080/"
        },
        "id": "Slq43AQMr5ql",
        "outputId": "83b531ce-cf82-4b4b-afed-cdfca42407b9"
      },
      "execution_count": 4,
      "outputs": [
        {
          "output_type": "stream",
          "name": "stdout",
          "text": [
            "Enter a number: 10\n",
            "The natural logarithm of 10.0 is: 2.302585092994046\n"
          ]
        }
      ]
    },
    {
      "cell_type": "markdown",
      "source": [
        "#Question 5\n",
        "\n",
        "Write a Python Program for cube sum of first n natural numbers?\n",
        "\n",
        ".............\n",
        "\n",
        "Answer 5 -\n",
        "\n",
        "To find the cube sum of the first n natural numbers in Python, we can use a loop to calculate the cube of each number and then add them together.\n",
        "\n",
        "Here's the program:"
      ],
      "metadata": {
        "id": "6s-7-lB1s4ui"
      }
    },
    {
      "cell_type": "code",
      "source": [
        "def cube_sum_of_natural_numbers(n):\n",
        "    cube_sum = 0\n",
        "    for i in range(1, n + 1):\n",
        "        cube_sum += i ** 3\n",
        "    return cube_sum\n",
        "\n",
        "# Input the value of 'n'\n",
        "n = int(input(\"Enter the value of 'n': \"))\n",
        "\n",
        "# Calculate the cube sum using the function\n",
        "result = cube_sum_of_natural_numbers(n)\n",
        "\n",
        "# Print the result\n",
        "print(f\"The cube sum of first {n} natural numbers is: {result}\")"
      ],
      "metadata": {
        "colab": {
          "base_uri": "https://localhost:8080/"
        },
        "id": "P6JCcyXQswLC",
        "outputId": "397c863e-aaa9-4a81-e8dd-77f623ac3ffb"
      },
      "execution_count": 5,
      "outputs": [
        {
          "output_type": "stream",
          "name": "stdout",
          "text": [
            "Enter the value of 'n': 10\n",
            "The cube sum of first 10 natural numbers is: 3025\n"
          ]
        }
      ]
    }
  ]
}