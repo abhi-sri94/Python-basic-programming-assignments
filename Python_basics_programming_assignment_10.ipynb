{
  "nbformat": 4,
  "nbformat_minor": 0,
  "metadata": {
    "colab": {
      "provenance": [],
      "toc_visible": true
    },
    "kernelspec": {
      "name": "python3",
      "display_name": "Python 3"
    },
    "language_info": {
      "name": "python"
    }
  },
  "cells": [
    {
      "cell_type": "markdown",
      "source": [
        "#Question 1\n",
        "\n",
        "Write a Python program to find sum of elements in list?\n",
        "\n",
        "..............\n",
        "\n",
        "Answer 1 -\n",
        "\n",
        "Below is the code:"
      ],
      "metadata": {
        "id": "PuS9lrmqcfIC"
      }
    },
    {
      "cell_type": "code",
      "source": [
        "def find_sum_of_elements(input_list):\n",
        "    total_sum = sum(input_list)\n",
        "    return total_sum\n",
        "\n",
        "def main():\n",
        "    # Get input from the user\n",
        "    num_list = input(\"Enter a list of numbers: \").split()\n",
        "\n",
        "    # Convert the input values to integers\n",
        "    num_list = [int(num) for num in num_list]\n",
        "\n",
        "    # Find the sum of elements in the list\n",
        "    total_sum = find_sum_of_elements(num_list)\n",
        "\n",
        "    print(\"Sum of elements in the list:\", total_sum)\n",
        "\n",
        "if __name__ == \"__main__\":\n",
        "    main()"
      ],
      "metadata": {
        "colab": {
          "base_uri": "https://localhost:8080/"
        },
        "id": "rnuHCnVecsIk",
        "outputId": "2135b732-82b0-4fc4-8d89-3e80f88ee09f"
      },
      "execution_count": 3,
      "outputs": [
        {
          "output_type": "stream",
          "name": "stdout",
          "text": [
            "Enter a list of numbers: 1 2 3 4 5\n",
            "Sum of elements in the list: 15\n"
          ]
        }
      ]
    },
    {
      "cell_type": "markdown",
      "source": [
        "In this program, the **find_sum_of_elements** function takes a list of numbers as input and uses the `sum` function, which is a built-in Python function, to calculate the sum of all elements in the list.\n",
        "\n",
        "In the `main` function, we get the input list from the user, split the values by spaces, and convert them into a list of integers using a list comprehension. Then, we call the find_sum_of_elements function to find the sum of elements in the list and print the result."
      ],
      "metadata": {
        "id": "U2JDDyZ0ev0L"
      }
    },
    {
      "cell_type": "markdown",
      "source": [
        "#Question 2\n",
        "\n",
        "Write a Python program to Multiply all numbers in the list?\n",
        "\n",
        "..............\n",
        "\n",
        "Answer 2 -\n",
        "\n",
        "Below is the code:"
      ],
      "metadata": {
        "id": "x7ZhOzh9e6hn"
      }
    },
    {
      "cell_type": "code",
      "source": [
        "def multiply_numbers(input_list):\n",
        "    product = 1\n",
        "    for num in input_list:\n",
        "        product *= num\n",
        "    return product\n",
        "\n",
        "def main():\n",
        "    # Get input from the user\n",
        "    num_list = input(\"Enter a list of numbers: \").split()\n",
        "\n",
        "    # Convert the input values to integers\n",
        "    num_list = [int(num) for num in num_list]\n",
        "\n",
        "    # Multiply all numbers in the list\n",
        "    product = multiply_numbers(num_list)\n",
        "\n",
        "    print(\"Multiplication of numbers in the list:\", product)\n",
        "\n",
        "if __name__ == \"__main__\":\n",
        "    main()"
      ],
      "metadata": {
        "colab": {
          "base_uri": "https://localhost:8080/"
        },
        "id": "K0Yk-_jLcsrz",
        "outputId": "343f7c37-bb1e-4903-d43b-5da4cca979cd"
      },
      "execution_count": 8,
      "outputs": [
        {
          "output_type": "stream",
          "name": "stdout",
          "text": [
            "Enter a list of numbers: 1 2 3 4 5\n",
            "Multiplication of numbers in the list: 120\n"
          ]
        }
      ]
    },
    {
      "cell_type": "markdown",
      "source": [
        "#Question 3\n",
        "\n",
        "Write a Python program to find smallest number in a list?\n",
        "\n",
        "..............\n",
        "\n",
        "Answer 3 -\n",
        "\n",
        "Below is the code for the same:"
      ],
      "metadata": {
        "id": "8JyqyWyhfNg1"
      }
    },
    {
      "cell_type": "code",
      "source": [
        "def find_smallest_number(input_list):\n",
        "    if not input_list:\n",
        "        raise ValueError(\"List is empty. Cannot find the smallest number.\")\n",
        "\n",
        "    smallest = input_list[0]\n",
        "    for num in input_list:\n",
        "        if num < smallest:\n",
        "            smallest = num\n",
        "    return smallest\n",
        "\n",
        "def main():\n",
        "    # Get input from the user\n",
        "    num_list = input(\"Enter a list of numbers: \").split()\n",
        "\n",
        "    # Convert the input values to integers\n",
        "    num_list = [int(num) for num in num_list]\n",
        "\n",
        "    # Find the smallest number in the list\n",
        "    smallest_number = find_smallest_number(num_list)\n",
        "\n",
        "    print(\"Smallest number in the list:\", smallest_number)\n",
        "\n",
        "if __name__ == \"__main__\":\n",
        "    main()"
      ],
      "metadata": {
        "colab": {
          "base_uri": "https://localhost:8080/"
        },
        "id": "x0B-1XHdfGTU",
        "outputId": "b005f3a3-0be4-46f9-c9e6-bda67f44ca52"
      },
      "execution_count": 9,
      "outputs": [
        {
          "output_type": "stream",
          "name": "stdout",
          "text": [
            "Enter a list of numbers: 1 2 3 4 5\n",
            "Smallest number in the list: 1\n"
          ]
        }
      ]
    },
    {
      "cell_type": "markdown",
      "source": [
        "#Question 4\n",
        "\n",
        "Write a Python program to find largest number in a list?\n",
        "\n",
        "...............\n",
        "\n",
        "Answer 4 -\n",
        "\n",
        "Below is the code:"
      ],
      "metadata": {
        "id": "N-nFYm5EmLPf"
      }
    },
    {
      "cell_type": "code",
      "source": [
        "def find_largest_number(input_list):\n",
        "    if not input_list:\n",
        "        raise ValueError(\"List is empty. Cannot find the largest number.\")\n",
        "\n",
        "    largest = input_list[0]\n",
        "    for num in input_list:\n",
        "        if num > largest:\n",
        "            largest = num\n",
        "    return largest\n",
        "\n",
        "def main():\n",
        "    # Get input from the user\n",
        "    num_list = input(\"Enter a list of numbers: \").split()\n",
        "\n",
        "    # Convert the input values to integers\n",
        "    num_list = [int(num) for num in num_list]\n",
        "\n",
        "    # Find the largest number in the list\n",
        "    largest_number = find_largest_number(num_list)\n",
        "\n",
        "    print(\"Largest number in the list:\", largest_number)\n",
        "\n",
        "if __name__ == \"__main__\":\n",
        "    main()"
      ],
      "metadata": {
        "colab": {
          "base_uri": "https://localhost:8080/"
        },
        "id": "nJf4o7Fbfd-R",
        "outputId": "7661bfc5-aeda-418e-d08c-744f1a50ebf3"
      },
      "execution_count": 12,
      "outputs": [
        {
          "output_type": "stream",
          "name": "stdout",
          "text": [
            "Enter a list of numbers: 1 2 3 4 5\n",
            "Largest number in the list: 5\n"
          ]
        }
      ]
    },
    {
      "cell_type": "markdown",
      "source": [
        "#Question 5\n",
        "\n",
        "Write a Python program to find second largest number in a list?\n",
        "\n",
        "..............\n",
        "\n",
        "Answer 5 -\n",
        "\n",
        "\n",
        "Below is the code:"
      ],
      "metadata": {
        "id": "ipkvCm7Hmu_d"
      }
    },
    {
      "cell_type": "code",
      "source": [
        "def find_second_largest_number(input_list):\n",
        "    if len(input_list) < 2:\n",
        "        raise ValueError(\"List should have at least 2 elements to find the second largest number.\")\n",
        "\n",
        "    largest = max(input_list[0], input_list[1])\n",
        "    second_largest = min(input_list[0], input_list[1])\n",
        "\n",
        "    for num in input_list[2:]:\n",
        "        if num > largest:\n",
        "            second_largest = largest\n",
        "            largest = num\n",
        "        elif num > second_largest:\n",
        "            second_largest = num\n",
        "\n",
        "    return second_largest\n",
        "\n",
        "def main():\n",
        "    # Get input from the user\n",
        "    num_list = input(\"Enter a list of numbers separated by spaces: \").split()\n",
        "\n",
        "    # Convert the input values to integers\n",
        "    num_list = [int(num) for num in num_list]\n",
        "\n",
        "    # Find the second largest number in the list\n",
        "    try:\n",
        "        second_largest_number = find_second_largest_number(num_list)\n",
        "        print(\"Second largest number in the list:\", second_largest_number)\n",
        "    except ValueError as e:\n",
        "        print(e)\n",
        "\n",
        "if __name__ == \"__main__\":\n",
        "    main()"
      ],
      "metadata": {
        "colab": {
          "base_uri": "https://localhost:8080/"
        },
        "id": "0t069HrIml85",
        "outputId": "42f52297-b4fb-4aed-f82b-8442dcd2f46f"
      },
      "execution_count": 13,
      "outputs": [
        {
          "output_type": "stream",
          "name": "stdout",
          "text": [
            "Enter a list of numbers separated by spaces: 1 2 3 4 5\n",
            "Second largest number in the list: 4\n"
          ]
        }
      ]
    },
    {
      "cell_type": "markdown",
      "source": [
        "#Question 6\n",
        "\n",
        "Write a Python program to find N largest elements from a list?\n",
        "\n",
        "..............\n",
        "\n",
        "Answer 6 -\n",
        "\n",
        "Below is the code:"
      ],
      "metadata": {
        "id": "58m1lQqFnBO3"
      }
    },
    {
      "cell_type": "code",
      "source": [
        "def find_n_largest_elements(input_list, n):\n",
        "    if n < 1 or n > len(input_list):\n",
        "        raise ValueError(\"Invalid value of 'n'. 'n' should be between 1 and the length of the list.\")\n",
        "\n",
        "    sorted_list = sorted(input_list, reverse=True)\n",
        "    n_largest_elements = sorted_list[:n]\n",
        "    return n_largest_elements\n",
        "\n",
        "def main():\n",
        "    # Get input from the user\n",
        "    num_list = input(\"Enter a list of numbers: \").split()\n",
        "\n",
        "    # Convert the input values to integers\n",
        "    num_list = [int(num) for num in num_list]\n",
        "\n",
        "    # Get the value of N\n",
        "    n = int(input(\"Enter the value of N for finding N largest elements: \"))\n",
        "\n",
        "    # Find the N largest elements in the list\n",
        "    try:\n",
        "        n_largest_elements = find_n_largest_elements(num_list, n)\n",
        "        print(f\"{n} largest elements in the list:\", n_largest_elements)\n",
        "    except ValueError as e:\n",
        "        print(e)\n",
        "\n",
        "if __name__ == \"__main__\":\n",
        "    main()"
      ],
      "metadata": {
        "colab": {
          "base_uri": "https://localhost:8080/"
        },
        "id": "wGU2Owpzm7-o",
        "outputId": "6067a691-d00b-4385-919d-aa6df5f90d88"
      },
      "execution_count": 18,
      "outputs": [
        {
          "output_type": "stream",
          "name": "stdout",
          "text": [
            "Enter a list of numbers: 1 2 3 4 5\n",
            "Enter the value of N for finding N largest elements: 3\n",
            "3 largest elements in the list: [5, 4, 3]\n"
          ]
        }
      ]
    },
    {
      "cell_type": "markdown",
      "source": [
        "#Question 7\n",
        "\n",
        "Write a Python program to print even numbers in a list?\n",
        "\n",
        ".............\n",
        "\n",
        "Answer 7 -\n",
        "\n",
        "Below is the code:"
      ],
      "metadata": {
        "id": "qdx0Mhzwnuae"
      }
    },
    {
      "cell_type": "code",
      "source": [
        "def print_even_numbers(input_list):\n",
        "    even_numbers = [num for num in input_list if num % 2 == 0]\n",
        "    return even_numbers\n",
        "\n",
        "def main():\n",
        "    # Get input from the user\n",
        "    num_list = input(\"Enter a list of numbers: \").split()\n",
        "\n",
        "    # Convert the input values to integers\n",
        "    num_list = [int(num) for num in num_list]\n",
        "\n",
        "    # Find and print the even numbers in the list\n",
        "    even_numbers = print_even_numbers(num_list)\n",
        "\n",
        "    print(\"Even numbers in the list:\", even_numbers)\n",
        "\n",
        "if __name__ == \"__main__\":\n",
        "    main()"
      ],
      "metadata": {
        "colab": {
          "base_uri": "https://localhost:8080/"
        },
        "id": "371AvbM-nY7c",
        "outputId": "e22f4c2a-5f05-4678-e5c5-7b4b766a9d2c"
      },
      "execution_count": 19,
      "outputs": [
        {
          "output_type": "stream",
          "name": "stdout",
          "text": [
            "Enter a list of numbers: 1 2 3 4 5\n",
            "Even numbers in the list: [2, 4]\n"
          ]
        }
      ]
    },
    {
      "cell_type": "markdown",
      "source": [
        "#Question 8\n",
        "\n",
        "Write a Python program to print odd numbers in a List?\n",
        "\n",
        "..............\n",
        "\n",
        "Answer 8 -\n",
        "\n",
        "Below is the code:"
      ],
      "metadata": {
        "id": "lKDdhjyqp4Hh"
      }
    },
    {
      "cell_type": "code",
      "source": [
        "def print_odd_numbers(input_list):\n",
        "    odd_numbers = [num for num in input_list if num % 2 != 0]\n",
        "    return odd_numbers\n",
        "\n",
        "def main():\n",
        "    # Get input from the user\n",
        "    num_list = input(\"Enter a list of numbers: \").split()\n",
        "\n",
        "    # Convert the input values to integers\n",
        "    num_list = [int(num) for num in num_list]\n",
        "\n",
        "    # Find and print the odd numbers in the list\n",
        "    odd_numbers = print_odd_numbers(num_list)\n",
        "\n",
        "    print(\"Odd numbers in the list:\", odd_numbers)\n",
        "\n",
        "if __name__ == \"__main__\":\n",
        "    main()"
      ],
      "metadata": {
        "colab": {
          "base_uri": "https://localhost:8080/"
        },
        "id": "pXRUWcn9n6Y8",
        "outputId": "b11d2f25-625d-4072-be1b-99c336219351"
      },
      "execution_count": 21,
      "outputs": [
        {
          "output_type": "stream",
          "name": "stdout",
          "text": [
            "Enter a list of numbers: 1 2 3 4 5\n",
            "Odd numbers in the list: [1, 3, 5]\n"
          ]
        }
      ]
    },
    {
      "cell_type": "markdown",
      "source": [
        "#Question 9\n",
        "\n",
        "Write a Python program to Remove empty List from List?\n",
        "\n",
        "..............\n",
        "\n",
        "Answer 9 -\n",
        "\n",
        "Below is the code:"
      ],
      "metadata": {
        "id": "QF_3Ce0_qGtH"
      }
    },
    {
      "cell_type": "code",
      "source": [
        "def remove_empty_lists(input_list):\n",
        "    return [lst for lst in input_list if lst]\n",
        "\n",
        "def main():\n",
        "    # Get input from the user\n",
        "    nested_list = eval(input(\"Enter a list of lists: \"))\n",
        "\n",
        "    # Remove empty lists from the list\n",
        "    filtered_list = remove_empty_lists(nested_list)\n",
        "\n",
        "    print(\"List with empty lists removed:\", filtered_list)\n",
        "\n",
        "if __name__ == \"__main__\":\n",
        "    main()"
      ],
      "metadata": {
        "colab": {
          "base_uri": "https://localhost:8080/"
        },
        "id": "1XW8qDDXp_ft",
        "outputId": "03a8f4f5-16a9-4850-8acf-9af3fc2965ae"
      },
      "execution_count": 24,
      "outputs": [
        {
          "output_type": "stream",
          "name": "stdout",
          "text": [
            "Enter a list of lists: [1, 2, 3], [], [4, 5], [], [6], [7, 8, 9], []\n",
            "List with empty lists removed: [[1, 2, 3], [4, 5], [6], [7, 8, 9]]\n"
          ]
        }
      ]
    },
    {
      "cell_type": "markdown",
      "source": [
        "#Question 10\n",
        "\n",
        "Write a Python program to Cloning or Copying a list?\n",
        "\n",
        ".............\n",
        "\n",
        "Answer 10 -\n",
        "\n",
        "There are several ways to clone or copy a list in Python. Here are three common methods:\n",
        "\n",
        "1) **Using the slice operator [:]** :"
      ],
      "metadata": {
        "id": "cEKhihYmq0lo"
      }
    },
    {
      "cell_type": "code",
      "source": [
        "def clone_list(original_list):\n",
        "    cloned_list = original_list[:]\n",
        "    return cloned_list\n",
        "\n",
        "# Example usage:\n",
        "original_list = [1, 2, 3, 4, 5]\n",
        "cloned_list = clone_list(original_list)\n",
        "print(\"Original List:\", original_list)\n",
        "print(\"Cloned List:\", cloned_list)"
      ],
      "metadata": {
        "colab": {
          "base_uri": "https://localhost:8080/"
        },
        "id": "ASqpECe_qPfm",
        "outputId": "4c2b035f-25ce-45d6-b42a-efbd377bafcc"
      },
      "execution_count": 25,
      "outputs": [
        {
          "output_type": "stream",
          "name": "stdout",
          "text": [
            "Original List: [1, 2, 3, 4, 5]\n",
            "Cloned List: [1, 2, 3, 4, 5]\n"
          ]
        }
      ]
    },
    {
      "cell_type": "markdown",
      "source": [
        "2) **Using the list() constructor** :"
      ],
      "metadata": {
        "id": "jjTWvX7TrQZY"
      }
    },
    {
      "cell_type": "code",
      "source": [
        "def clone_list(original_list):\n",
        "    cloned_list = list(original_list)\n",
        "    return cloned_list\n",
        "\n",
        "# Example usage:\n",
        "original_list = [1, 2, 3, 4, 5]\n",
        "cloned_list = clone_list(original_list)\n",
        "print(\"Original List:\", original_list)\n",
        "print(\"Cloned List:\", cloned_list)"
      ],
      "metadata": {
        "colab": {
          "base_uri": "https://localhost:8080/"
        },
        "id": "2Q4pS2brrNUS",
        "outputId": "7d6963da-f502-4d3d-d007-0b4743eec03a"
      },
      "execution_count": 26,
      "outputs": [
        {
          "output_type": "stream",
          "name": "stdout",
          "text": [
            "Original List: [1, 2, 3, 4, 5]\n",
            "Cloned List: [1, 2, 3, 4, 5]\n"
          ]
        }
      ]
    },
    {
      "cell_type": "markdown",
      "source": [
        "3) **Using the copy() method** (for Python 3.3 and later):"
      ],
      "metadata": {
        "id": "05-AOI-wsMVB"
      }
    },
    {
      "cell_type": "code",
      "source": [
        "def clone_list(original_list):\n",
        "    cloned_list = original_list.copy()\n",
        "    return cloned_list\n",
        "\n",
        "# Example usage:\n",
        "original_list = [1, 2, 3, 4, 5]\n",
        "cloned_list = clone_list(original_list)\n",
        "print(\"Original List:\", original_list)\n",
        "print(\"Cloned List:\", cloned_list)"
      ],
      "metadata": {
        "colab": {
          "base_uri": "https://localhost:8080/"
        },
        "id": "8v79X1_VrXXE",
        "outputId": "a889d54d-819e-400f-ff7c-6275024d0977"
      },
      "execution_count": 27,
      "outputs": [
        {
          "output_type": "stream",
          "name": "stdout",
          "text": [
            "Original List: [1, 2, 3, 4, 5]\n",
            "Cloned List: [1, 2, 3, 4, 5]\n"
          ]
        }
      ]
    },
    {
      "cell_type": "markdown",
      "source": [
        "All three methods will create a new list that is a copy of the original list. Any changes made to the cloned list will not affect the original list, and vice versa."
      ],
      "metadata": {
        "id": "WVhJf3LBscWT"
      }
    },
    {
      "cell_type": "markdown",
      "source": [
        "#Question 11\n",
        "\n",
        "Write a Python program to Count occurrences of an element in a list?\n",
        "\n",
        "...............\n",
        "\n",
        "Answer 11 -\n",
        "\n",
        "Below is the code:"
      ],
      "metadata": {
        "id": "hydrZj3OseXg"
      }
    },
    {
      "cell_type": "code",
      "source": [
        "def count_occurrences(input_list, element):\n",
        "    count = input_list.count(element)\n",
        "    return count\n",
        "\n",
        "def main():\n",
        "    # Get input from the user\n",
        "    num_list = input(\"Enter a list of numbers: \").split()\n",
        "\n",
        "    # Convert the input values to integers\n",
        "    num_list = [int(num) for num in num_list]\n",
        "\n",
        "    # Get the element to count occurrences of\n",
        "    element = int(input(\"Enter the element to count occurrences: \"))\n",
        "\n",
        "    # Count occurrences of the element in the list\n",
        "    occurrences = count_occurrences(num_list, element)\n",
        "\n",
        "    print(f\"Occurrences of {element} in the list: {occurrences}\")\n",
        "\n",
        "if __name__ == \"__main__\":\n",
        "    main()"
      ],
      "metadata": {
        "colab": {
          "base_uri": "https://localhost:8080/"
        },
        "id": "n8adW0yQsX3Y",
        "outputId": "7944173c-6244-4bf6-bde7-7f6eecf959c6"
      },
      "execution_count": 29,
      "outputs": [
        {
          "output_type": "stream",
          "name": "stdout",
          "text": [
            "Enter a list of numbers: 1 2 3 4 5\n",
            "Enter the element to count occurrences: 3\n",
            "Occurrences of 3 in the list: 1\n"
          ]
        }
      ]
    },
    {
      "cell_type": "code",
      "source": [],
      "metadata": {
        "id": "FFhDIlQcspZI"
      },
      "execution_count": null,
      "outputs": []
    }
  ]
}