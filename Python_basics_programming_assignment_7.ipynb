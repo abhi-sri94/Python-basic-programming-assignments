{
  "nbformat": 4,
  "nbformat_minor": 0,
  "metadata": {
    "colab": {
      "provenance": [],
      "toc_visible": true
    },
    "kernelspec": {
      "name": "python3",
      "display_name": "Python 3"
    },
    "language_info": {
      "name": "python"
    }
  },
  "cells": [
    {
      "cell_type": "markdown",
      "source": [
        "#Question 1\n",
        "\n",
        "Write a Python Program to find sum of array?\n",
        "\n",
        ".............\n",
        "\n",
        "To find the sum of an array `(list)` in Python, you can use either a loop to iterate through the elements and add them one by one or use the **built-in sum()** function. Here are two methods to achieve this:\n",
        "\n",
        "1) Using a Loop:"
      ],
      "metadata": {
        "id": "aPIKnJdgxdqY"
      }
    },
    {
      "cell_type": "code",
      "source": [
        "def array_sum(arr):\n",
        "    total_sum = 0\n",
        "    for num in arr:\n",
        "        total_sum += num\n",
        "    return total_sum\n",
        "\n",
        "# Input the array elements from the user\n",
        "elements = input(\"Enter the array elements: \").split()\n",
        "array = [int(num) for num in elements]\n",
        "\n",
        "# Calculate the sum of the array using the function\n",
        "result = array_sum(array)\n",
        "\n",
        "# Print the result\n",
        "print(f\"The sum of the array is: {result}\")"
      ],
      "metadata": {
        "colab": {
          "base_uri": "https://localhost:8080/"
        },
        "id": "BnWfPVSk3fD1",
        "outputId": "d9b7142d-b20d-4d20-dbaa-bf1736f17388"
      },
      "execution_count": 4,
      "outputs": [
        {
          "output_type": "stream",
          "name": "stdout",
          "text": [
            "Enter the array elements: 1 2 3 4 5\n",
            "The sum of the array is: 15\n"
          ]
        }
      ]
    },
    {
      "cell_type": "markdown",
      "source": [
        "2) Using the **sum()** function:"
      ],
      "metadata": {
        "id": "B6D1Aptm4PXU"
      }
    },
    {
      "cell_type": "code",
      "source": [
        "# Input the array elements from the user\n",
        "elements = input(\"Enter the array elements: \").split()\n",
        "array = [int(num) for num in elements]\n",
        "\n",
        "# Calculate the sum of the array using the sum() function\n",
        "result = sum(array)\n",
        "\n",
        "# Print the result\n",
        "print(f\"The sum of the array is: {result}\")"
      ],
      "metadata": {
        "colab": {
          "base_uri": "https://localhost:8080/"
        },
        "id": "UfZNLK_m3iOV",
        "outputId": "11b3a5e2-463c-47ad-bebb-bfb22bbf3aca"
      },
      "execution_count": 5,
      "outputs": [
        {
          "output_type": "stream",
          "name": "stdout",
          "text": [
            "Enter the array elements: 2 3 4 5 6\n",
            "The sum of the array is: 20\n"
          ]
        }
      ]
    },
    {
      "cell_type": "markdown",
      "source": [
        "#Question 2\n",
        "\n",
        "Write a Python Program to find largest element in an array?\n",
        "\n",
        "..............\n",
        "\n",
        "Answer 2 -\n",
        "\n",
        "To find the largest element in an array `(list)` in Python, you can use the **built-in max()** function, which returns the largest element from the given iterable `(list)` .\n",
        "\n",
        "Here's the program:"
      ],
      "metadata": {
        "id": "euShCMHI4eWP"
      }
    },
    {
      "cell_type": "code",
      "source": [
        "# Input the array elements from the user\n",
        "elements = input(\"Enter the array elements: \").split()\n",
        "array = [int(num) for num in elements]\n",
        "\n",
        "# Find the largest element in the array using the max() function\n",
        "largest_element = max(array)\n",
        "\n",
        "# Print the result\n",
        "print(f\"The largest element in the array is: {largest_element}\")"
      ],
      "metadata": {
        "colab": {
          "base_uri": "https://localhost:8080/"
        },
        "id": "jI8-NcL74Y_S",
        "outputId": "a53f7905-d638-4f7f-932e-e5da1c04de38"
      },
      "execution_count": 6,
      "outputs": [
        {
          "output_type": "stream",
          "name": "stdout",
          "text": [
            "Enter the array elements: 1 2 3 4 5\n",
            "The largest element in the array is: 5\n"
          ]
        }
      ]
    },
    {
      "cell_type": "markdown",
      "source": [
        "#Question 3\n",
        "\n",
        "Write a Python Program for array rotation?\n",
        "\n",
        ".............\n",
        "\n",
        "Array rotation involves moving the elements of an array to the left or right by a given number of positions. To perform array rotation in Python, you can use slicing to split the array and then concatenate the two parts in the desired order.\n",
        "\n",
        "Here's the program to rotate an array to the left:"
      ],
      "metadata": {
        "id": "2qcjb1Gq5Lmc"
      }
    },
    {
      "cell_type": "code",
      "source": [
        "def array_rotate_left(arr, rotate_by):\n",
        "    n = len(arr)\n",
        "    rotate_by = rotate_by % n  # Handle cases where rotate_by is larger than array length\n",
        "    rotated_array = arr[rotate_by:] + arr[:rotate_by]\n",
        "    return rotated_array\n",
        "\n",
        "# Input the array elements from the user\n",
        "elements = input(\"Enter the array elements: \").split()\n",
        "array = [int(num) for num in elements]\n",
        "\n",
        "# Input the number of positions to rotate the array\n",
        "rotate_by = int(input(\"Enter the number of positions to rotate the array to the left: \"))\n",
        "\n",
        "# Perform array rotation using the function\n",
        "rotated_array = array_rotate_left(array, rotate_by)\n",
        "\n",
        "# Print the result\n",
        "print(\"Array after rotation to the left:\")\n",
        "print(rotated_array)"
      ],
      "metadata": {
        "colab": {
          "base_uri": "https://localhost:8080/"
        },
        "id": "csjtG8Hr49cK",
        "outputId": "ed8ea5a8-e2b0-49a6-c906-0c76516603cd"
      },
      "execution_count": 8,
      "outputs": [
        {
          "output_type": "stream",
          "name": "stdout",
          "text": [
            "Enter the array elements: 1 2 3 4 5\n",
            "Enter the number of positions to rotate the array to the left: 3\n",
            "Array after rotation to the left:\n",
            "[4, 5, 1, 2, 3]\n"
          ]
        }
      ]
    },
    {
      "cell_type": "markdown",
      "source": [
        "#Question 4\n",
        "\n",
        "Write a Python Program to Split the array and add the first part to the end?\n",
        "\n",
        "..............\n",
        "\n",
        "Answer 4 -\n",
        "\n",
        "Below is the program for the same:"
      ],
      "metadata": {
        "id": "JEykSB5z5s07"
      }
    },
    {
      "cell_type": "code",
      "source": [
        "def split_and_add_first_to_end(arr, split_index):\n",
        "    split_index = split_index % len(arr)  # Handle cases where split_index is larger than array length\n",
        "    split_array = arr[:split_index]\n",
        "    remaining_array = arr[split_index:]\n",
        "    result_array = remaining_array + split_array\n",
        "    return result_array\n",
        "\n",
        "# Input the array elements from the user\n",
        "elements = input(\"Enter the array elements: \").split()\n",
        "array = [int(num) for num in elements]\n",
        "\n",
        "# Input the index to split the array\n",
        "split_index = int(input(\"Enter the index to split the array and add the first part to the end: \"))\n",
        "\n",
        "# Perform the split and addition using the function\n",
        "result_array = split_and_add_first_to_end(array, split_index)\n",
        "\n",
        "# Print the result\n",
        "print(\"Array after splitting and adding the first part to the end:\")\n",
        "print(result_array)"
      ],
      "metadata": {
        "colab": {
          "base_uri": "https://localhost:8080/"
        },
        "id": "TfRikq4s5dB_",
        "outputId": "41ca622a-c334-4820-c0c2-d6433b52c779"
      },
      "execution_count": 10,
      "outputs": [
        {
          "output_type": "stream",
          "name": "stdout",
          "text": [
            "Enter the array elements: 1 2 3 4 5\n",
            "Enter the index to split the array and add the first part to the end: 3\n",
            "Array after splitting and adding the first part to the end:\n",
            "[4, 5, 1, 2, 3]\n"
          ]
        }
      ]
    },
    {
      "cell_type": "markdown",
      "source": [
        "#Question 5\n",
        "\n",
        "Write a Python Program to check if given array is Monotonic?\n",
        "\n",
        "...............\n",
        "\n",
        "Answer 5 -\n",
        "\n",
        "A given array is said to be monotonic if it is entirely non-increasing or non-decreasing. In other words, all its elements are in either non-increasing (non-decreasing) order or non-decreasing (non-increasing) order. To check if the given array is monotonic, we can compare adjacent elements of the array.\n",
        "\n",
        "Here's the program to check if the array is monotonic:"
      ],
      "metadata": {
        "id": "oL35_PLp6WwR"
      }
    },
    {
      "cell_type": "code",
      "source": [
        "def is_monotonic(arr):\n",
        "    increasing = decreasing = True\n",
        "    for i in range(1, len(arr)):\n",
        "        if arr[i] > arr[i - 1]:\n",
        "            decreasing = False\n",
        "        elif arr[i] < arr[i - 1]:\n",
        "            increasing = False\n",
        "\n",
        "    return increasing or decreasing\n",
        "\n",
        "# Input the array elements from the user\n",
        "elements = input(\"Enter the array elements: \").split()\n",
        "array = [int(num) for num in elements]\n",
        "\n",
        "# Check if the array is monotonic using the function\n",
        "if is_monotonic(array):\n",
        "    print(\"The given array is monotonic.\")\n",
        "else:\n",
        "    print(\"The given array is not monotonic.\")"
      ],
      "metadata": {
        "colab": {
          "base_uri": "https://localhost:8080/"
        },
        "id": "SATQATEY6I0R",
        "outputId": "23487f1d-33d1-4f01-9e66-08dcd7ff82a3"
      },
      "execution_count": 13,
      "outputs": [
        {
          "output_type": "stream",
          "name": "stdout",
          "text": [
            "Enter the array elements: 5 4 3 2 1\n",
            "The given array is monotonic.\n"
          ]
        }
      ]
    },
    {
      "cell_type": "code",
      "source": [],
      "metadata": {
        "id": "VBUu3Hch6tlO"
      },
      "execution_count": null,
      "outputs": []
    }
  ]
}