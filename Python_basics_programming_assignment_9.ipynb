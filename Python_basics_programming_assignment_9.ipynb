{
  "nbformat": 4,
  "nbformat_minor": 0,
  "metadata": {
    "colab": {
      "provenance": [],
      "toc_visible": true
    },
    "kernelspec": {
      "name": "python3",
      "display_name": "Python 3"
    },
    "language_info": {
      "name": "python"
    }
  },
  "cells": [
    {
      "cell_type": "markdown",
      "source": [
        "#Question 1\n",
        "\n",
        "Write a Python program to check if the given number is a Disarium Number?\n",
        "\n",
        "..............\n",
        "\n",
        "Answer 1 -\n",
        "\n",
        "A Disarium Number is a number that is equal to the sum of its digits raised to their respective positions. For example, 89 is a Disarium Number because 8^1 + 9^2 = 8 + 81 = 89.\n",
        "\n",
        "Here's a Python program to check if a given number is a Disarium Number:"
      ],
      "metadata": {
        "id": "lqHtasonTlFV"
      }
    },
    {
      "cell_type": "code",
      "source": [
        "def is_disarium_number(num):\n",
        "    # Convert the number to a string to access its individual digits\n",
        "    num_str = str(num)\n",
        "\n",
        "    # Calculate the sum of digits raised to their respective positions\n",
        "    disarium_sum = sum(int(digit) ** (index + 1) for index, digit in enumerate(num_str))\n",
        "\n",
        "    # Check if the sum is equal to the original number\n",
        "    return disarium_sum == num\n",
        "\n",
        "def main():\n",
        "    # Get input from the user\n",
        "    num = int(input(\"Enter a number: \"))\n",
        "\n",
        "    # Check if the number is a Disarium Number\n",
        "    if is_disarium_number(num):\n",
        "        print(f\"{num} is a Disarium Number.\")\n",
        "    else:\n",
        "        print(f\"{num} is not a Disarium Number.\")\n",
        "\n",
        "if __name__ == \"__main__\":\n",
        "    main()"
      ],
      "metadata": {
        "colab": {
          "base_uri": "https://localhost:8080/"
        },
        "id": "c3pHJ5H-UBQK",
        "outputId": "a2aded96-8d54-451f-9069-d7bceba53011"
      },
      "execution_count": 2,
      "outputs": [
        {
          "output_type": "stream",
          "name": "stdout",
          "text": [
            "Enter a number: 89\n",
            "89 is a Disarium Number.\n"
          ]
        }
      ]
    },
    {
      "cell_type": "markdown",
      "source": [
        "The **is_disarium_number** function takes an integer num as input, converts it to a string, and then iterates through each digit. It calculates the sum of digits raised to their respective positions using a list comprehension and the enumerate function. Finally, it checks if the calculated sum is equal to the original number and returns the result.\n",
        "\n"
      ],
      "metadata": {
        "id": "byq_8kSlUNtK"
      }
    },
    {
      "cell_type": "markdown",
      "source": [
        "#Question 2\n",
        "\n",
        "Write a Python program to print all disarium numbers between 1 to 100?\n",
        "\n",
        "..............\n",
        "\n",
        "Answer 1 -\n",
        "\n",
        "Below is the code:"
      ],
      "metadata": {
        "id": "On-dQe6xUh5O"
      }
    },
    {
      "cell_type": "code",
      "source": [
        "def is_disarium_number(num):\n",
        "    num_str = str(num)\n",
        "    disarium_sum = sum(int(digit) ** (index + 1) for index, digit in enumerate(num_str))\n",
        "    return disarium_sum == num\n",
        "\n",
        "def find_disarium_numbers(start, end):\n",
        "    disarium_numbers = []\n",
        "    for num in range(start, end + 1):\n",
        "        if is_disarium_number(num):\n",
        "            disarium_numbers.append(num)\n",
        "    return disarium_numbers\n",
        "\n",
        "def main():\n",
        "    start_range = 1\n",
        "    end_range = 100\n",
        "\n",
        "    disarium_numbers = find_disarium_numbers(start_range, end_range)\n",
        "\n",
        "    print(\"Disarium Numbers between 1 to 100:\")\n",
        "    print(disarium_numbers)\n",
        "\n",
        "if __name__ == \"__main__\":\n",
        "    main()"
      ],
      "metadata": {
        "colab": {
          "base_uri": "https://localhost:8080/"
        },
        "id": "QkaVaECVUELJ",
        "outputId": "01b57157-1a9a-4427-86d8-cae2ffc55e5a"
      },
      "execution_count": 6,
      "outputs": [
        {
          "output_type": "stream",
          "name": "stdout",
          "text": [
            "Disarium Numbers between 1 to 100:\n",
            "[1, 2, 3, 4, 5, 6, 7, 8, 9, 89]\n"
          ]
        }
      ]
    },
    {
      "cell_type": "markdown",
      "source": [
        "#Question 3\n",
        "\n",
        "Write a Python program to check if the given number is Happy Number?\n",
        "\n",
        "..............\n",
        "\n",
        "Answer 3 -\n",
        "\n",
        "A Happy Number is a number that eventually reaches 1 when replaced by the sum of the squares of its digits, and this process is repeated with the resulting number. If the process never reaches 1 and instead enters into a cycle, the number is not a Happy Number.\n",
        "\n",
        "Here's a Python program to check if a given number is a Happy Number:"
      ],
      "metadata": {
        "id": "4XP60iGvU6SU"
      }
    },
    {
      "cell_type": "code",
      "source": [
        "def get_next_number(num):\n",
        "    # Calculate the sum of squares of digits in the number\n",
        "    next_num = 0\n",
        "    while num > 0:\n",
        "        digit = num % 10\n",
        "        next_num += digit ** 2\n",
        "        num //= 10\n",
        "    return next_num\n",
        "\n",
        "def is_happy_number(num):\n",
        "    slow = num\n",
        "    fast = get_next_number(num)\n",
        "\n",
        "    while fast != 1 and slow != fast:\n",
        "        slow = get_next_number(slow)\n",
        "        fast = get_next_number(get_next_number(fast))\n",
        "\n",
        "    return fast == 1\n",
        "\n",
        "def main():\n",
        "    # Get input from the user\n",
        "    num = int(input(\"Enter a number: \"))\n",
        "\n",
        "    # Check if the number is a Happy Number\n",
        "    if is_happy_number(num):\n",
        "        print(f\"{num} is a Happy Number.\")\n",
        "    else:\n",
        "        print(f\"{num} is not a Happy Number.\")\n",
        "\n",
        "if __name__ == \"__main__\":\n",
        "    main()"
      ],
      "metadata": {
        "colab": {
          "base_uri": "https://localhost:8080/"
        },
        "id": "ssbzchBDUvxH",
        "outputId": "963a721e-509b-49a3-974d-ef653ec838ec"
      },
      "execution_count": 9,
      "outputs": [
        {
          "output_type": "stream",
          "name": "stdout",
          "text": [
            "Enter a number: 10\n",
            "10 is a Happy Number.\n"
          ]
        }
      ]
    },
    {
      "cell_type": "markdown",
      "source": [
        "#Question 4\n",
        "\n",
        "Write a Python program to print all happy numbers between 1 and 100?\n",
        "\n",
        ".............\n",
        "\n",
        "Answer 4 -\n",
        "\n",
        "Below is the code:"
      ],
      "metadata": {
        "id": "MtQPgseEVlGx"
      }
    },
    {
      "cell_type": "code",
      "source": [
        "def get_next_number(num):\n",
        "    # Calculate the sum of squares of digits in the number\n",
        "    next_num = 0\n",
        "    while num > 0:\n",
        "        digit = num % 10\n",
        "        next_num += digit ** 2\n",
        "        num //= 10\n",
        "    return next_num\n",
        "\n",
        "def is_happy_number(num):\n",
        "    slow = num\n",
        "    fast = get_next_number(num)\n",
        "\n",
        "    while fast != 1 and slow != fast:\n",
        "        slow = get_next_number(slow)\n",
        "        fast = get_next_number(get_next_number(fast))\n",
        "\n",
        "    return fast == 1\n",
        "\n",
        "def find_happy_numbers(start, end):\n",
        "    happy_numbers = []\n",
        "    for num in range(start, end + 1):\n",
        "        if is_happy_number(num):\n",
        "            happy_numbers.append(num)\n",
        "    return happy_numbers\n",
        "\n",
        "def main():\n",
        "    start_range = 1\n",
        "    end_range = 100\n",
        "\n",
        "    happy_numbers = find_happy_numbers(start_range, end_range)\n",
        "\n",
        "    print(\"Happy Numbers between 1 to 100:\")\n",
        "    print(happy_numbers)\n",
        "\n",
        "if __name__ == \"__main__\":\n",
        "    main()"
      ],
      "metadata": {
        "colab": {
          "base_uri": "https://localhost:8080/"
        },
        "id": "S00rMyY4VPz5",
        "outputId": "793ebf27-86ce-447a-d2f8-9b2f42989607"
      },
      "execution_count": 10,
      "outputs": [
        {
          "output_type": "stream",
          "name": "stdout",
          "text": [
            "Happy Numbers between 1 to 100:\n",
            "[1, 7, 10, 13, 19, 23, 28, 31, 32, 44, 49, 68, 70, 79, 82, 86, 91, 94, 97, 100]\n"
          ]
        }
      ]
    },
    {
      "cell_type": "markdown",
      "source": [
        "#Question 5\n",
        "\n",
        "Write a Python program to determine whether the given number is a Harshad Number?\n",
        "\n",
        "..............\n",
        "\n",
        "Answer  5 -\n",
        "\n",
        "A Harshad Number (also called a Niven Number) is a number that is divisible by the sum of its digits. In other words, the sum of its digits should evenly divide the number itself.\n",
        "\n",
        "Here's a Python program to determine whether a given number is a Harshad Number:"
      ],
      "metadata": {
        "id": "oh8M3jANbXOZ"
      }
    },
    {
      "cell_type": "code",
      "source": [
        "def is_harshad_number(num):\n",
        "    # Calculate the sum of digits\n",
        "    sum_of_digits = sum(int(digit) for digit in str(num))\n",
        "\n",
        "    # Check if the number is divisible by the sum of its digits\n",
        "    return num % sum_of_digits == 0\n",
        "\n",
        "def main():\n",
        "    # Get input from the user\n",
        "    num = int(input(\"Enter a number: \"))\n",
        "\n",
        "    # Check if the number is a Harshad Number\n",
        "    if is_harshad_number(num):\n",
        "        print(f\"{num} is a Harshad Number.\")\n",
        "    else:\n",
        "        print(f\"{num} is not a Harshad Number.\")\n",
        "\n",
        "if __name__ == \"__main__\":\n",
        "    main()"
      ],
      "metadata": {
        "colab": {
          "base_uri": "https://localhost:8080/"
        },
        "id": "1oKwTotZbM36",
        "outputId": "8e0151b3-9044-411d-d4bd-ffea94e9b4fd"
      },
      "execution_count": 14,
      "outputs": [
        {
          "output_type": "stream",
          "name": "stdout",
          "text": [
            "Enter a number: 10\n",
            "10 is a Harshad Number.\n"
          ]
        }
      ]
    },
    {
      "cell_type": "markdown",
      "source": [
        "#Question 6\n",
        "\n",
        "Write a Python program to print all pronic numbers between 1 and 100?\n",
        "\n",
        "...............\n",
        "\n",
        "Answer 6 -\n",
        "\n",
        "A pronic number (also known as oblong number or rectangular number) is a number that can be represented as the product of two consecutive integers. In other words, a pronic number is of the form n*(n+1) for some integer n.\n",
        "\n",
        "Here's a Python program to print all pronic numbers between 1 and 100:"
      ],
      "metadata": {
        "id": "C_tRtAWMbwWp"
      }
    },
    {
      "cell_type": "code",
      "source": [
        "def is_pronic_number(num):\n",
        "    n = int(num ** 0.5)\n",
        "    return n * (n + 1) == num\n",
        "\n",
        "def find_pronic_numbers(start, end):\n",
        "    pronic_numbers = []\n",
        "    for num in range(start, end + 1):\n",
        "        if is_pronic_number(num):\n",
        "            pronic_numbers.append(num)\n",
        "    return pronic_numbers\n",
        "\n",
        "def main():\n",
        "    start_range = 1\n",
        "    end_range = 100\n",
        "\n",
        "    pronic_numbers = find_pronic_numbers(start_range, end_range)\n",
        "\n",
        "    print(\"Pronic Numbers between 1 to 100:\")\n",
        "    print(pronic_numbers)\n",
        "\n",
        "if __name__ == \"__main__\":\n",
        "    main()"
      ],
      "metadata": {
        "colab": {
          "base_uri": "https://localhost:8080/"
        },
        "id": "t_IG18zjbjki",
        "outputId": "2e072d1e-768e-4bba-95a4-8398871f19ef"
      },
      "execution_count": 15,
      "outputs": [
        {
          "output_type": "stream",
          "name": "stdout",
          "text": [
            "Pronic Numbers between 1 to 100:\n",
            "[2, 6, 12, 20, 30, 42, 56, 72, 90]\n"
          ]
        }
      ]
    },
    {
      "cell_type": "code",
      "source": [],
      "metadata": {
        "id": "9BprU_CRb-eD"
      },
      "execution_count": null,
      "outputs": []
    }
  ]
}