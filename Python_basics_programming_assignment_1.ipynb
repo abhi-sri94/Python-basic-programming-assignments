{
  "nbformat": 4,
  "nbformat_minor": 0,
  "metadata": {
    "colab": {
      "provenance": []
    },
    "kernelspec": {
      "name": "python3",
      "display_name": "Python 3"
    },
    "language_info": {
      "name": "python"
    }
  },
  "cells": [
    {
      "cell_type": "markdown",
      "source": [
        "#Question 1\n",
        "\n",
        "Write a Python program to print 'Hello Python'?\n",
        "\n",
        "..............\n",
        "\n",
        "Answer 1 -\n",
        "\n",
        "Below is the program for the task:"
      ],
      "metadata": {
        "id": "pnt53J4gJ-ud"
      }
    },
    {
      "cell_type": "code",
      "execution_count": 1,
      "metadata": {
        "colab": {
          "base_uri": "https://localhost:8080/"
        },
        "id": "pNjL10wcWYDB",
        "outputId": "ea95472e-f207-43f5-c3c1-68ceba865255"
      },
      "outputs": [
        {
          "output_type": "stream",
          "name": "stdout",
          "text": [
            "Hello Python\n"
          ]
        }
      ],
      "source": [
        "print(\"Hello Python\")"
      ]
    },
    {
      "cell_type": "markdown",
      "source": [
        "#Question 2\n",
        "\n",
        "Write a Python program to do arithmetical operations addition and division.?\n",
        "\n",
        ".............\n",
        "\n",
        "Answer 2 -\n",
        "\n",
        "Below is the code:"
      ],
      "metadata": {
        "id": "EmMTqk8mKTms"
      }
    },
    {
      "cell_type": "code",
      "source": [
        "def add(x, y):\n",
        "    return x + y\n",
        "\n",
        "def divide(x, y):\n",
        "    if y != 0:\n",
        "        return x / y\n",
        "    else:\n",
        "        return \"Cannot divide by zero\"\n",
        "\n",
        "# Test the functions with sample values\n",
        "num1 = 10\n",
        "num2 = 5\n",
        "\n",
        "# Addition\n",
        "result_addition = add(num1, num2)\n",
        "print(f\"{num1} + {num2} = {result_addition}\")\n",
        "\n",
        "# Division\n",
        "result_division = divide(num1, num2)\n",
        "print(f\"{num1} / {num2} = {result_division}\")"
      ],
      "metadata": {
        "colab": {
          "base_uri": "https://localhost:8080/"
        },
        "id": "EnKFCSOwKNvz",
        "outputId": "db992908-2c15-44c2-f939-2b4e87c9df53"
      },
      "execution_count": 2,
      "outputs": [
        {
          "output_type": "stream",
          "name": "stdout",
          "text": [
            "10 + 5 = 15\n",
            "10 / 5 = 2.0\n"
          ]
        }
      ]
    },
    {
      "cell_type": "markdown",
      "source": [
        "#Question 3\n",
        "\n",
        "Write a Python program to find the area of a triangle?\n",
        "\n",
        ".............\n",
        "\n",
        "Answer 3 -\n",
        "\n",
        "Below is the code:"
      ],
      "metadata": {
        "id": "s4s21qo8LNNV"
      }
    },
    {
      "cell_type": "code",
      "source": [
        "def triangle_area(base, height):\n",
        "    return (base * height) / 2\n",
        "\n",
        "# Input the base and height of the triangle\n",
        "base = float(input(\"Enter the base length of the triangle: \"))\n",
        "height = float(input(\"Enter the height of the triangle: \"))\n",
        "\n",
        "# Calculate the area of the triangle using the function\n",
        "area = triangle_area(base, height)\n",
        "\n",
        "# Print the result\n",
        "print(f\"The area of the triangle is: {area}\")"
      ],
      "metadata": {
        "colab": {
          "base_uri": "https://localhost:8080/"
        },
        "id": "zbkCOkiCKan6",
        "outputId": "52868781-b714-4b65-b902-1f9466e5d90b"
      },
      "execution_count": 3,
      "outputs": [
        {
          "output_type": "stream",
          "name": "stdout",
          "text": [
            "Enter the base length of the triangle: 10\n",
            "Enter the height of the triangle: 15\n",
            "The area of the triangle is: 75.0\n"
          ]
        }
      ]
    },
    {
      "cell_type": "markdown",
      "source": [
        "#Question 4\n",
        "\n",
        "Write a Python program to swap two variables?\n",
        "\n",
        "..............\n",
        "\n",
        "Answer 4 -\n",
        "\n",
        "We can swap the values of two variables in Python using a temporary variable or using tuple unpacking. Here are both approaches:\n",
        "\n",
        "1) Using a Temporary Variable:"
      ],
      "metadata": {
        "id": "hKKilULFLpat"
      }
    },
    {
      "cell_type": "code",
      "source": [
        "def swap_variables(a, b):\n",
        "    temp = a\n",
        "    a = b\n",
        "    b = temp\n",
        "    return a, b\n",
        "\n",
        "# Input two variables\n",
        "x = int(input(\"Enter the value of x: \"))\n",
        "y = int(input(\"Enter the value of y: \"))\n",
        "\n",
        "# Swap the variables using the function\n",
        "x, y = swap_variables(x, y)\n",
        "\n",
        "# Print the result\n",
        "print(f\"After swapping: x = {x}, y = {y}\")"
      ],
      "metadata": {
        "colab": {
          "base_uri": "https://localhost:8080/"
        },
        "id": "IZibH0mDLciT",
        "outputId": "b77978fa-7992-447f-8c6a-bd0576b3a1d2"
      },
      "execution_count": 4,
      "outputs": [
        {
          "output_type": "stream",
          "name": "stdout",
          "text": [
            "Enter the value of x: 10\n",
            "Enter the value of y: 15\n",
            "After swapping: x = 15, y = 10\n"
          ]
        }
      ]
    },
    {
      "cell_type": "markdown",
      "source": [
        "2) Using Tuple Unpacking:"
      ],
      "metadata": {
        "id": "-u4z5JpRMcbZ"
      }
    },
    {
      "cell_type": "code",
      "source": [
        "def swap_variables(a, b):\n",
        "    return b, a\n",
        "\n",
        "# Input two variables\n",
        "x = int(input(\"Enter the value of x: \"))\n",
        "y = int(input(\"Enter the value of y: \"))\n",
        "\n",
        "# Swap the variables using tuple unpacking\n",
        "x, y = swap_variables(x, y)\n",
        "\n",
        "# Print the result\n",
        "print(f\"After swapping: x = {x}, y = {y}\")"
      ],
      "metadata": {
        "colab": {
          "base_uri": "https://localhost:8080/"
        },
        "id": "ruKqf-JGMXKQ",
        "outputId": "2506fa4b-32f6-4046-c8ed-e90c3390a189"
      },
      "execution_count": 5,
      "outputs": [
        {
          "output_type": "stream",
          "name": "stdout",
          "text": [
            "Enter the value of x: 10\n",
            "Enter the value of y: 15\n",
            "After swapping: x = 15, y = 10\n"
          ]
        }
      ]
    },
    {
      "cell_type": "markdown",
      "source": [
        "#Question 5\n",
        "\n",
        "Write a Python program to generate a random number?\n",
        "\n",
        "..............\n",
        "\n",
        "Answer  5 -\n",
        "\n",
        "To generate a random number in Python, we can use the `random module` . The random module provides several functions to work with random numbers. Here's a simple Python program to generate a random number between a given range:"
      ],
      "metadata": {
        "id": "oZNgwdd2M6J9"
      }
    },
    {
      "cell_type": "code",
      "source": [
        "import random\n",
        "\n",
        "def generate_random_number(start, end):\n",
        "    return random.randint(start, end)\n",
        "\n",
        "# Input the range for the random number\n",
        "start_range = int(input(\"Enter the start of the range: \"))\n",
        "end_range = int(input(\"Enter the end of the range: \"))\n",
        "\n",
        "# Generate a random number within the given range\n",
        "random_number = generate_random_number(start_range, end_range)\n",
        "\n",
        "# Print the random number\n",
        "print(f\"The random number between {start_range} and {end_range} is: {random_number}\")"
      ],
      "metadata": {
        "colab": {
          "base_uri": "https://localhost:8080/"
        },
        "id": "wa6aQxnJMgVy",
        "outputId": "dc6705fe-328e-4372-98ba-5e62235ee869"
      },
      "execution_count": 7,
      "outputs": [
        {
          "output_type": "stream",
          "name": "stdout",
          "text": [
            "Enter the start of the range: 10\n",
            "Enter the end of the range: 15\n",
            "The random number between 10 and 15 is: 11\n"
          ]
        }
      ]
    },
    {
      "cell_type": "code",
      "source": [],
      "metadata": {
        "id": "YPpgMqhWNMCn"
      },
      "execution_count": null,
      "outputs": []
    }
  ]
}