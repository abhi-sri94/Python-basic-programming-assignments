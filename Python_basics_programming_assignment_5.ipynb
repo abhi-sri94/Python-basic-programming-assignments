{
  "nbformat": 4,
  "nbformat_minor": 0,
  "metadata": {
    "colab": {
      "provenance": [],
      "toc_visible": true
    },
    "kernelspec": {
      "name": "python3",
      "display_name": "Python 3"
    },
    "language_info": {
      "name": "python"
    }
  },
  "cells": [
    {
      "cell_type": "markdown",
      "source": [
        "#Question 1\n",
        "\n",
        "Write a Python Program to Find LCM?\n",
        "\n",
        "..............\n",
        "\n",
        "Answer 1 -\n",
        "\n",
        "To find the least common multiple (LCM) of two numbers in Python, we can use the following formula:\n",
        "\n",
        "**LCM(a, b) = (a * b) / GCD(a, b)**\n",
        "\n",
        "where GCD(a, b) represents the greatest common divisor of the two numbers a and b.\n",
        "\n",
        "Here's the program to find the LCM of two numbers:"
      ],
      "metadata": {
        "id": "tJKhTmQsahWg"
      }
    },
    {
      "cell_type": "code",
      "execution_count": 1,
      "metadata": {
        "colab": {
          "base_uri": "https://localhost:8080/"
        },
        "id": "lpyUUBYWaat3",
        "outputId": "6667fa95-b152-4764-fb22-5fee91b01583"
      },
      "outputs": [
        {
          "output_type": "stream",
          "name": "stdout",
          "text": [
            "Enter the first number: 5\n",
            "Enter the second number: 25\n",
            "The LCM of 5 and 25 is: 25\n"
          ]
        }
      ],
      "source": [
        "def gcd(a, b):\n",
        "    while b:\n",
        "        a, b = b, a % b\n",
        "    return a\n",
        "\n",
        "def lcm(a, b):\n",
        "    return (a * b) // gcd(a, b)\n",
        "\n",
        "# Input the two numbers\n",
        "num1 = int(input(\"Enter the first number: \"))\n",
        "num2 = int(input(\"Enter the second number: \"))\n",
        "\n",
        "# Find the LCM using the function\n",
        "result = lcm(num1, num2)\n",
        "\n",
        "# Print the result\n",
        "print(f\"The LCM of {num1} and {num2} is: {result}\")"
      ]
    },
    {
      "cell_type": "markdown",
      "source": [
        "#Question 2\n",
        "\n",
        "Write a Python Program to Find HCF?\n",
        "\n",
        ".............\n",
        "\n",
        "Answer 2 -\n",
        "\n",
        "To find the highest common factor (HCF) of two numbers in Python, we can use the following Euclidean algorithm:\n",
        "\n",
        "**HCF(a, b) = HCF(b, a % b)**\n",
        "\n",
        "Here's the program to find the HCF of two numbers:"
      ],
      "metadata": {
        "id": "0-i_IyALcou8"
      }
    },
    {
      "cell_type": "code",
      "source": [
        "def hcf(a, b):\n",
        "    while b:\n",
        "        a, b = b, a % b\n",
        "    return a\n",
        "\n",
        "# Input the two numbers\n",
        "num1 = int(input(\"Enter the first number: \"))\n",
        "num2 = int(input(\"Enter the second number: \"))\n",
        "\n",
        "# Find the HCF using the function\n",
        "result = hcf(num1, num2)\n",
        "\n",
        "# Print the result\n",
        "print(f\"The HCF of {num1} and {num2} is: {result}\")"
      ],
      "metadata": {
        "colab": {
          "base_uri": "https://localhost:8080/"
        },
        "id": "7hm3xaYpav2H",
        "outputId": "ff35b2e8-1e93-4178-8c03-12f87fc5a247"
      },
      "execution_count": 2,
      "outputs": [
        {
          "output_type": "stream",
          "name": "stdout",
          "text": [
            "Enter the first number: 10\n",
            "Enter the second number: 50\n",
            "The HCF of 10 and 50 is: 10\n"
          ]
        }
      ]
    },
    {
      "cell_type": "markdown",
      "source": [
        "#Question 3\n",
        "\n",
        "Write a Python Program to Convert Decimal to Binary, Octal and Hexadecimal?\n",
        "\n",
        "..............\n",
        "\n",
        "Answer 3 -\n",
        "\n",
        "To convert a decimal number to binary, octal, and hexadecimal in Python, we can use the built-in functions **bin()** , **oct()** , and **hex()** respectively. These functions take a decimal number as input and return its equivalent representation in binary, octal, and hexadecimal formats.\n",
        "\n",
        "Here's the program:"
      ],
      "metadata": {
        "id": "20jTs0xUdYA1"
      }
    },
    {
      "cell_type": "code",
      "source": [
        "def decimal_to_binary_octal_hexadecimal(decimal_number):\n",
        "    binary = bin(decimal_number)[2:]  # Remove the '0b' prefix from binary representation\n",
        "    octal = oct(decimal_number)[2:]   # Remove the '0o' prefix from octal representation\n",
        "    hexadecimal = hex(decimal_number)[2:]  # Remove the '0x' prefix from hexadecimal representation\n",
        "    return binary, octal, hexadecimal\n",
        "\n",
        "# Input the decimal number\n",
        "decimal_num = int(input(\"Enter a decimal number: \"))\n",
        "\n",
        "# Convert to binary, octal, and hexadecimal using the function\n",
        "binary_num, octal_num, hexadecimal_num = decimal_to_binary_octal_hexadecimal(decimal_num)\n",
        "\n",
        "# Print the results\n",
        "print(f\"Binary representation: {binary_num}\")\n",
        "print(f\"Octal representation: {octal_num}\")\n",
        "print(f\"Hexadecimal representation: {hexadecimal_num}\")"
      ],
      "metadata": {
        "colab": {
          "base_uri": "https://localhost:8080/"
        },
        "id": "JoqTPAkYdSBz",
        "outputId": "136f3359-2340-4c29-c421-c14c289586c7"
      },
      "execution_count": 3,
      "outputs": [
        {
          "output_type": "stream",
          "name": "stdout",
          "text": [
            "Enter a decimal number: 10\n",
            "Binary representation: 1010\n",
            "Octal representation: 12\n",
            "Hexadecimal representation: a\n"
          ]
        }
      ]
    },
    {
      "cell_type": "markdown",
      "source": [
        "#Question 4\n",
        "\n",
        "Write a Python Program To Find ASCII value of a character?\n",
        "\n",
        "..............\n",
        "\n",
        "Answer 4 -\n",
        "\n",
        "In Python, you can find the ASCII value of a character using the **built-in ord()** function. The **ord()** function takes a single character as input and returns its corresponding ASCII value.\n",
        "\n",
        "Here's the program:"
      ],
      "metadata": {
        "id": "QOghCEIZdsGH"
      }
    },
    {
      "cell_type": "code",
      "source": [
        "def find_ascii_value(character):\n",
        "    ascii_value = ord(character)\n",
        "    return ascii_value\n",
        "\n",
        "# Input the character\n",
        "char = input(\"Enter a character: \")\n",
        "\n",
        "# Find the ASCII value using the function\n",
        "ascii_val = find_ascii_value(char)\n",
        "\n",
        "# Print the result\n",
        "print(f\"The ASCII value of '{char}' is: {ascii_val}\")"
      ],
      "metadata": {
        "colab": {
          "base_uri": "https://localhost:8080/"
        },
        "id": "W1YVtRb6dlBw",
        "outputId": "d0874fcd-69f0-4edb-a113-7a2eb53228f4"
      },
      "execution_count": 8,
      "outputs": [
        {
          "output_type": "stream",
          "name": "stdout",
          "text": [
            "Enter a character: a\n",
            "The ASCII value of 'a' is: 97\n"
          ]
        }
      ]
    },
    {
      "cell_type": "markdown",
      "source": [
        "#Quetsion 5\n",
        "\n",
        "Write a Python Program to Make a Simple Calculator with 4 basic mathematical operations?\n",
        "\n",
        "..............\n",
        "\n",
        "Answer 5 -\n",
        "\n",
        "We can create a simple calculator in Python that performs four basic mathematical operations (addition, subtraction, multiplication, and division) based on user input.\n",
        "\n",
        "Here's the program:"
      ],
      "metadata": {
        "id": "sAmlDfjHeOdD"
      }
    },
    {
      "cell_type": "code",
      "source": [
        "def add(x, y):\n",
        "    return x + y\n",
        "\n",
        "def subtract(x, y):\n",
        "    return x - y\n",
        "\n",
        "def multiply(x, y):\n",
        "    return x * y\n",
        "\n",
        "def divide(x, y):\n",
        "    if y == 0:\n",
        "        return \"Cannot divide by zero.\"\n",
        "    return x / y\n",
        "\n",
        "print(\"Select operation:\")\n",
        "print(\"1. Addition\")\n",
        "print(\"2. Subtraction\")\n",
        "print(\"3. Multiplication\")\n",
        "print(\"4. Division\")\n",
        "\n",
        "# Input choice from the user\n",
        "choice = input(\"Enter choice (1/2/3/4): \")\n",
        "\n",
        "# Input two numbers from the user\n",
        "num1 = float(input(\"Enter first number: \"))\n",
        "num2 = float(input(\"Enter second number: \"))\n",
        "\n",
        "if choice == '1':\n",
        "    result = add(num1, num2)\n",
        "    operation = \"+\"\n",
        "elif choice == '2':\n",
        "    result = subtract(num1, num2)\n",
        "    operation = \"-\"\n",
        "elif choice == '3':\n",
        "    result = multiply(num1, num2)\n",
        "    operation = \"*\"\n",
        "elif choice == '4':\n",
        "    result = divide(num1, num2)\n",
        "    operation = \"/\"\n",
        "else:\n",
        "    print(\"Invalid Input\")\n",
        "    exit()\n",
        "\n",
        "print(f\"{num1} {operation} {num2} = {result}\")"
      ],
      "metadata": {
        "colab": {
          "base_uri": "https://localhost:8080/"
        },
        "id": "3Wj45F4Dd6rc",
        "outputId": "e54caba4-697c-48ca-c972-8c8d274c8027"
      },
      "execution_count": 1,
      "outputs": [
        {
          "output_type": "stream",
          "name": "stdout",
          "text": [
            "Select operation:\n",
            "1. Addition\n",
            "2. Subtraction\n",
            "3. Multiplication\n",
            "4. Division\n",
            "Enter choice (1/2/3/4): 1\n",
            "Enter first number: 10\n",
            "Enter second number: 10\n",
            "10.0 + 10.0 = 20.0\n"
          ]
        }
      ]
    },
    {
      "cell_type": "code",
      "source": [],
      "metadata": {
        "id": "ZIV5PqaJeeXw"
      },
      "execution_count": null,
      "outputs": []
    }
  ]
}