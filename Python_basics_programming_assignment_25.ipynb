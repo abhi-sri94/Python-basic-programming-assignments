{
  "nbformat": 4,
  "nbformat_minor": 0,
  "metadata": {
    "colab": {
      "provenance": [],
      "toc_visible": true
    },
    "kernelspec": {
      "name": "python3",
      "display_name": "Python 3"
    },
    "language_info": {
      "name": "python"
    }
  },
  "cells": [
    {
      "cell_type": "markdown",
      "source": [
        "#Question 1\n",
        "\n",
        "Create a function that takes three integer arguments (a, b, c) and returns the amount of\n",
        "integers which are of equal value.\n",
        "\n",
        ".............\n",
        "\n",
        "Answer 1 -\n",
        "\n",
        "Here's the python program:"
      ],
      "metadata": {
        "id": "B2lpnN_SP6lk"
      }
    },
    {
      "cell_type": "code",
      "source": [
        "def equal(a, b, c):\n",
        "    if a == b == c:\n",
        "        return 3\n",
        "    elif a == b or a == c or b == c:\n",
        "        return 2\n",
        "    else:\n",
        "        return 0\n",
        "\n",
        "\n",
        "print(equal(3, 4, 3))\n",
        "print(equal(1, 1, 1))\n",
        "print(equal(1, 2, 3))"
      ],
      "metadata": {
        "colab": {
          "base_uri": "https://localhost:8080/"
        },
        "id": "aqu9Iz7MQE1D",
        "outputId": "000ae4ad-30ab-4b9c-862c-4cfbf9f32d8d"
      },
      "execution_count": 6,
      "outputs": [
        {
          "output_type": "stream",
          "name": "stdout",
          "text": [
            "2\n",
            "3\n",
            "0\n"
          ]
        }
      ]
    },
    {
      "cell_type": "markdown",
      "source": [
        "#Question 2\n",
        "\n",
        "Write a function that converts a dictionary into a list of keys-values tuples.\n",
        "\n",
        "..............\n",
        "\n",
        "Answer 2 -\n",
        "\n",
        "Below is the code for the same:"
      ],
      "metadata": {
        "id": "QqZTMIvxRdHc"
      }
    },
    {
      "cell_type": "code",
      "source": [
        "def dict_to_list(input_dict):\n",
        "    return list(input_dict.items())"
      ],
      "metadata": {
        "id": "6Bm7NNK1SKnq"
      },
      "execution_count": 7,
      "outputs": []
    },
    {
      "cell_type": "code",
      "source": [
        "print(dict_to_list({\"A\": 10, \"B\": 20, \"C\": 30}))\n",
        "\n",
        "print(dict_to_list({\"X\": 5, \"Y\": 8, \"Z\": 3}))\n",
        "\n",
        "print(dict_to_list({\"Apple\": \"Red\", \"Banana\": \"Yellow\", \"Grapes\": \"Purple\"}))"
      ],
      "metadata": {
        "colab": {
          "base_uri": "https://localhost:8080/"
        },
        "id": "B15FmR7aSNEN",
        "outputId": "b2bf4949-3af9-4d87-a9bf-82f829914fd2"
      },
      "execution_count": 8,
      "outputs": [
        {
          "output_type": "stream",
          "name": "stdout",
          "text": [
            "[('A', 10), ('B', 20), ('C', 30)]\n",
            "[('X', 5), ('Y', 8), ('Z', 3)]\n",
            "[('Apple', 'Red'), ('Banana', 'Yellow'), ('Grapes', 'Purple')]\n"
          ]
        }
      ]
    },
    {
      "cell_type": "markdown",
      "source": [
        "#Question 3\n",
        "\n",
        "Write a function that creates a dictionary with each (key, value) pair being the (lower case, upper case) versions of a letter, respectively.\n",
        "\n",
        "...............\n",
        "\n",
        "Answer 3 -\n",
        "\n",
        "We can create a function in Python that creates a dictionary where each key-value pair consists of a lowercase letter as the key and its corresponding uppercase version as the value.\n",
        "\n",
        "Here's the implementation:"
      ],
      "metadata": {
        "id": "KY4V0ngcSiAa"
      }
    },
    {
      "cell_type": "code",
      "source": [
        "def mapping(letters):\n",
        "    letter_dict = {}\n",
        "\n",
        "    for letter in letters:\n",
        "        letter_dict[letter] = letter.upper()\n",
        "\n",
        "    return letter_dict\n",
        "\n",
        "\n",
        "\n",
        "print(mapping([\"a\", \"b\", \"c\"]))\n",
        "\n",
        "print(mapping([\"x\", \"y\", \"z\"]))\n",
        "\n",
        "print(mapping([\"h\", \"e\", \"l\", \"l\", \"o\"]))"
      ],
      "metadata": {
        "colab": {
          "base_uri": "https://localhost:8080/"
        },
        "id": "CgJsgE17ST6E",
        "outputId": "10b16765-0aa4-4293-ae1b-106ad5ca2e31"
      },
      "execution_count": 11,
      "outputs": [
        {
          "output_type": "stream",
          "name": "stdout",
          "text": [
            "{'a': 'A', 'b': 'B', 'c': 'C'}\n",
            "{'x': 'X', 'y': 'Y', 'z': 'Z'}\n",
            "{'h': 'H', 'e': 'E', 'l': 'L', 'o': 'O'}\n"
          ]
        }
      ]
    },
    {
      "cell_type": "markdown",
      "source": [
        "#Question 4\n",
        "\n",
        "Write a function, that replaces all vowels in a string with a specified vowel.\n",
        "\n",
        "...............\n",
        "\n",
        "Answer 4 -\n",
        "\n",
        "Below is the code:"
      ],
      "metadata": {
        "id": "QRKpX_fpTH_G"
      }
    },
    {
      "cell_type": "code",
      "source": [
        "def vow_replace(s, vowel):\n",
        "    vowels = \"aeiouAEIOU\"\n",
        "    replaced = \"\"\n",
        "\n",
        "    for char in s:\n",
        "        if char in vowels:\n",
        "            replaced += vowel\n",
        "        else:\n",
        "            replaced += char\n",
        "\n",
        "    return replaced"
      ],
      "metadata": {
        "id": "k3CAaGTtTAbk"
      },
      "execution_count": 12,
      "outputs": []
    },
    {
      "cell_type": "code",
      "source": [
        "print(vow_replace(\"hello world\", \"i\"))\n",
        "\n",
        "print(vow_replace(\"programming is fun\", \"o\"))\n",
        "\n",
        "print(vow_replace(\"I like to eat apples\", \"a\"))"
      ],
      "metadata": {
        "colab": {
          "base_uri": "https://localhost:8080/"
        },
        "id": "uOxji_7fZMd1",
        "outputId": "3e3a55be-23d0-4b42-b42a-578e5ea89529"
      },
      "execution_count": 13,
      "outputs": [
        {
          "output_type": "stream",
          "name": "stdout",
          "text": [
            "hilli wirld\n",
            "progrommong os fon\n",
            "a laka ta aat applas\n"
          ]
        }
      ]
    },
    {
      "cell_type": "markdown",
      "source": [
        "#Question 5\n",
        "\n",
        "Create a function that takes a string as input and capitalizes a letter if its ASCII code is even\n",
        "and returns its lower case version if its ASCII code is odd.\n",
        "\n",
        "...............\n",
        "\n",
        "Answer 5 -\n",
        "\n",
        "You can create a function in Python that capitalizes a letter if its ASCII code is even and returns its lowercase version if its ASCII code is odd.\n",
        "\n",
        "Here's the implementation:"
      ],
      "metadata": {
        "id": "NdOBaBsQZlu8"
      }
    },
    {
      "cell_type": "code",
      "source": [
        "def ascii_capitalize(s):\n",
        "    result = \"\"\n",
        "\n",
        "    for char in s:\n",
        "        ascii_code = ord(char)\n",
        "        if ascii_code % 2 == 0:\n",
        "            result += char.upper()\n",
        "        else:\n",
        "            result += char.lower()\n",
        "\n",
        "    return result\n",
        "\n",
        "\n",
        "print(ascii_capitalize(\"to be or not to be!\"))\n",
        "\n",
        "print(ascii_capitalize(\"Hello World!\"))\n",
        "\n",
        "print(ascii_capitalize(\"Python is amazing\"))\n",
        "\n",
        "print(ascii_capitalize(\"AbCdEfG\"))"
      ],
      "metadata": {
        "colab": {
          "base_uri": "https://localhost:8080/"
        },
        "id": "X82Za8VIZWtu",
        "outputId": "8eb7d2a4-a67e-4464-c724-02231ac8a353"
      },
      "execution_count": 14,
      "outputs": [
        {
          "output_type": "stream",
          "name": "stdout",
          "text": [
            "To Be oR NoT To Be!\n",
            "HeLLo woRLD!\n",
            "PyTHoN is amaZiNg\n",
            "aBcDeFg\n"
          ]
        }
      ]
    },
    {
      "cell_type": "markdown",
      "source": [
        "In this function, each character in the input string s is processed. The **ord()** function is used to get the ASCII code of the character. If the ASCII code is `even` (divisible by 2), the character is capitalized using the **upper()** method; otherwise, it is converted to lowercase using the **lower()** method. The modified characters are then concatenated to form the resulting string. The test case provided returns the modified string as shown in the example."
      ],
      "metadata": {
        "id": "nepQ4blVcRqn"
      }
    },
    {
      "cell_type": "code",
      "source": [],
      "metadata": {
        "id": "JnLESv_Tcktg"
      },
      "execution_count": null,
      "outputs": []
    }
  ]
}