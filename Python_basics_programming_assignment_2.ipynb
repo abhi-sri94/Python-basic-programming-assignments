{
  "nbformat": 4,
  "nbformat_minor": 0,
  "metadata": {
    "colab": {
      "provenance": []
    },
    "kernelspec": {
      "name": "python3",
      "display_name": "Python 3"
    },
    "language_info": {
      "name": "python"
    }
  },
  "cells": [
    {
      "cell_type": "markdown",
      "source": [
        "#Question 1\n",
        "\n",
        "Write a Python program to convert kilometers to miles?\n",
        "\n",
        "..............\n",
        "\n",
        "Answer 1 -\n",
        "\n",
        "To convert kilometers to miles in Python, you can use the following conversion formula:\n",
        "\n",
        "Miles = Kilometers * 0.621371\n",
        "\n",
        "Here's how we can do it:"
      ],
      "metadata": {
        "id": "KZSTZ3_-N7tb"
      }
    },
    {
      "cell_type": "code",
      "source": [
        "def kilometers_to_miles(kilometers):\n",
        "    miles = kilometers * 0.621371\n",
        "    return miles\n",
        "\n",
        "# Input the distance in kilometers\n",
        "kilometers = float(input(\"Enter the distance in kilometers: \"))\n",
        "\n",
        "# Convert kilometers to miles using the function\n",
        "miles = kilometers_to_miles(kilometers)\n",
        "\n",
        "# Print the result\n",
        "print(f\"{kilometers} kilometers is equal to {miles:.2f} miles\")"
      ],
      "metadata": {
        "colab": {
          "base_uri": "https://localhost:8080/"
        },
        "id": "cQ10k7SxOTtK",
        "outputId": "940f2480-d757-42bf-d832-f37c70334b3b"
      },
      "execution_count": 2,
      "outputs": [
        {
          "output_type": "stream",
          "name": "stdout",
          "text": [
            "Enter the distance in kilometers: 10\n",
            "10.0 kilometers is equal to 6.21 miles\n"
          ]
        }
      ]
    },
    {
      "cell_type": "markdown",
      "source": [
        "#Question 2\n",
        "\n",
        "Write a Python program to convert Celsius to Fahrenheit?\n",
        "\n",
        ".............\n",
        "\n",
        "Answer 2 -\n",
        "\n",
        "To convert Celsius to Fahrenheit in Python, you can use the following conversion formula:\n",
        "\n",
        "Fahrenheit = (Celsius * 9/5) + 32\n",
        "\n",
        "Here's how we can do it:"
      ],
      "metadata": {
        "id": "nE_pKyDxOf7X"
      }
    },
    {
      "cell_type": "code",
      "source": [
        "def celsius_to_fahrenheit(celsius):\n",
        "    fahrenheit = (celsius * 9/5) + 32\n",
        "    return fahrenheit\n",
        "\n",
        "# Input the temperature in Celsius\n",
        "celsius = float(input(\"Enter the temperature in Celsius: \"))\n",
        "\n",
        "# Convert Celsius to Fahrenheit using the function\n",
        "fahrenheit = celsius_to_fahrenheit(celsius)\n",
        "\n",
        "# Print the result\n",
        "print(f\"{celsius:.2f} degrees Celsius is equal to {fahrenheit:.2f} degrees Fahrenheit\")"
      ],
      "metadata": {
        "colab": {
          "base_uri": "https://localhost:8080/"
        },
        "id": "5uqVWPLKOVmO",
        "outputId": "20d3d12e-58fc-4b31-918f-d958ea40eafe"
      },
      "execution_count": 3,
      "outputs": [
        {
          "output_type": "stream",
          "name": "stdout",
          "text": [
            "Enter the temperature in Celsius: 100\n",
            "100.00 degrees Celsius is equal to 212.00 degrees Fahrenheit\n"
          ]
        }
      ]
    },
    {
      "cell_type": "markdown",
      "source": [
        "#Question 3\n",
        "\n",
        "Write a Python program to display calendar?\n",
        "\n",
        "..............\n",
        "\n",
        "Answer 4 -\n",
        "\n",
        "To display a calendar in Python, we can use the `calendar module` , which provides various functions to work with dates and calendars. The calendar module includes a function called **calendar()** that generates a formatted calendar for a given year and month.\n",
        "\n"
      ],
      "metadata": {
        "id": "GMn7kWyeOw_R"
      }
    },
    {
      "cell_type": "code",
      "source": [
        "import calendar\n",
        "\n",
        "def display_calendar(year, month):\n",
        "    cal = calendar.month(year, month)\n",
        "    return cal\n",
        "\n",
        "# Input the year and month for the calendar\n",
        "year = int(input(\"Enter the year: \"))\n",
        "month = int(input(\"Enter the month (1-12): \"))\n",
        "\n",
        "# Display the calendar using the function\n",
        "cal = display_calendar(year, month)\n",
        "\n",
        "# Print the result\n",
        "print(f\"\\nCalendar for {calendar.month_name[month]} {year}:\\n\")\n",
        "print(cal)"
      ],
      "metadata": {
        "colab": {
          "base_uri": "https://localhost:8080/"
        },
        "id": "kEjSMPcaOtho",
        "outputId": "d732a40c-d8bf-453e-83be-9be65a8ff650"
      },
      "execution_count": 6,
      "outputs": [
        {
          "output_type": "stream",
          "name": "stdout",
          "text": [
            "Enter the year: 2023\n",
            "Enter the month (1-12): 8\n",
            "\n",
            "Calendar for August 2023:\n",
            "\n",
            "    August 2023\n",
            "Mo Tu We Th Fr Sa Su\n",
            "    1  2  3  4  5  6\n",
            " 7  8  9 10 11 12 13\n",
            "14 15 16 17 18 19 20\n",
            "21 22 23 24 25 26 27\n",
            "28 29 30 31\n",
            "\n"
          ]
        }
      ]
    },
    {
      "cell_type": "markdown",
      "source": [
        "#Question 4\n",
        "\n",
        "Write a Python program to solve quadratic equation?\n",
        "\n",
        "..............\n",
        "\n",
        "Answer 4 -\n",
        "\n",
        "To solve a quadratic equation in Python, you can use the quadratic formula. The quadratic formula is given by:\n",
        "\n",
        "**x = (-b ± √(b^2 - 4ac)) / 2a**\n",
        "\n",
        "Here's a simple Python program to solve a quadratic equation:"
      ],
      "metadata": {
        "id": "qtR1dOd-PUGb"
      }
    },
    {
      "cell_type": "code",
      "source": [
        "import math\n",
        "\n",
        "def solve_quadratic(a, b, c):\n",
        "    # Calculate the discriminant\n",
        "    discriminant = b**2 - 4*a*c\n",
        "\n",
        "    # Check if the discriminant is positive, negative, or zero\n",
        "    if discriminant > 0:\n",
        "        # Two real and distinct roots\n",
        "        root1 = (-b + math.sqrt(discriminant)) / (2*a)\n",
        "        root2 = (-b - math.sqrt(discriminant)) / (2*a)\n",
        "        return root1, root2\n",
        "    elif discriminant == 0:\n",
        "        # One real root (repeated root)\n",
        "        root = -b / (2*a)\n",
        "        return root, root\n",
        "    else:\n",
        "        # Complex roots\n",
        "        real_part = -b / (2*a)\n",
        "        imaginary_part = math.sqrt(abs(discriminant)) / (2*a)\n",
        "        root1 = complex(real_part, imaginary_part)\n",
        "        root2 = complex(real_part, -imaginary_part)\n",
        "        return root1, root2\n",
        "\n",
        "# Input the coefficients of the quadratic equation\n",
        "a = float(input(\"Enter the coefficient of x^2: \"))\n",
        "b = float(input(\"Enter the coefficient of x: \"))\n",
        "c = float(input(\"Enter the constant term: \"))\n",
        "\n",
        "# Solve the quadratic equation using the function\n",
        "roots = solve_quadratic(a, b, c)\n",
        "\n",
        "# Print the results\n",
        "print(\"The roots of the quadratic equation are:\")\n",
        "for root in roots:\n",
        "    print(root)"
      ],
      "metadata": {
        "colab": {
          "base_uri": "https://localhost:8080/"
        },
        "id": "R_fbtns6PGly",
        "outputId": "da23aee0-af88-4ec7-8f98-23966d19e00a"
      },
      "execution_count": 12,
      "outputs": [
        {
          "output_type": "stream",
          "name": "stdout",
          "text": [
            "Enter the coefficient of x^2: 2\n",
            "Enter the coefficient of x: 4\n",
            "Enter the constant term: 8\n",
            "The roots of the quadratic equation are:\n",
            "(-1+1.7320508075688772j)\n",
            "(-1-1.7320508075688772j)\n"
          ]
        }
      ]
    },
    {
      "cell_type": "markdown",
      "source": [
        "#Question 5\n",
        "\n",
        "Write a Python program to swap two variables without temp variable?\n",
        "\n",
        ".............\n",
        "\n",
        "Answer 5 -\n",
        "\n",
        "We can swap two variables without using a temporary variable in Python using **multiple assignment** or **bitwise XOR operation** . Here are both approaches:\n",
        "\n",
        "1) **Using Multiple Assignment** :"
      ],
      "metadata": {
        "id": "RR4kySHmQCe1"
      }
    },
    {
      "cell_type": "code",
      "source": [
        "def swap_variables(a, b):\n",
        "    a, b = b, a\n",
        "    return a, b\n",
        "\n",
        "# Input two variables\n",
        "x = int(input(\"Enter the value of x: \"))\n",
        "y = int(input(\"Enter the value of y: \"))\n",
        "\n",
        "# Swap the variables using the function\n",
        "x, y = swap_variables(x, y)\n",
        "\n",
        "# Print the result\n",
        "print(f\"After swapping: x = {x}, y = {y}\")"
      ],
      "metadata": {
        "colab": {
          "base_uri": "https://localhost:8080/"
        },
        "id": "fYoBeys7Pl8W",
        "outputId": "5d06a3e6-fba2-4bbd-b1a5-5b6ae4b39268"
      },
      "execution_count": 13,
      "outputs": [
        {
          "output_type": "stream",
          "name": "stdout",
          "text": [
            "Enter the value of x: 10\n",
            "Enter the value of y: 15\n",
            "After swapping: x = 15, y = 10\n"
          ]
        }
      ]
    },
    {
      "cell_type": "markdown",
      "source": [
        "2) **Using Bitwise XOR Operation** :"
      ],
      "metadata": {
        "id": "wfHOzCc3QX-1"
      }
    },
    {
      "cell_type": "code",
      "source": [
        "def swap_variables(a, b):\n",
        "    a = a ^ b\n",
        "    b = a ^ b\n",
        "    a = a ^ b\n",
        "    return a, b\n",
        "\n",
        "# Input two variables\n",
        "x = int(input(\"Enter the value of x: \"))\n",
        "y = int(input(\"Enter the value of y: \"))\n",
        "\n",
        "# Swap the variables using the function\n",
        "x, y = swap_variables(x, y)\n",
        "\n",
        "# Print the result\n",
        "print(f\"After swapping: x = {x}, y = {y}\")"
      ],
      "metadata": {
        "colab": {
          "base_uri": "https://localhost:8080/"
        },
        "id": "Lo3KqFhSQVe2",
        "outputId": "c1718402-dbbc-4b35-8a83-750775a2e8ed"
      },
      "execution_count": 14,
      "outputs": [
        {
          "output_type": "stream",
          "name": "stdout",
          "text": [
            "Enter the value of x: 10\n",
            "Enter the value of y: 20\n",
            "After swapping: x = 20, y = 10\n"
          ]
        }
      ]
    },
    {
      "cell_type": "code",
      "source": [],
      "metadata": {
        "id": "HRdHNyXXQeOD"
      },
      "execution_count": null,
      "outputs": []
    }
  ]
}