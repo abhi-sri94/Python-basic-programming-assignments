{
  "nbformat": 4,
  "nbformat_minor": 0,
  "metadata": {
    "colab": {
      "provenance": [],
      "toc_visible": true
    },
    "kernelspec": {
      "name": "python3",
      "display_name": "Python 3"
    },
    "language_info": {
      "name": "python"
    }
  },
  "cells": [
    {
      "cell_type": "markdown",
      "source": [
        "#Question 1\n",
        "\n",
        "Create a function that takes a string and returns a string in which each character is repeated once.\n",
        "\n",
        "..............\n",
        "\n",
        "Answer 1 -\n",
        "\n",
        "We can create a function that repeats each character in the input string once by iterating through the string and appending each character twice to the result string. Here's the Python implementation:\n",
        "\n"
      ],
      "metadata": {
        "id": "ANoYRHPrBsQ8"
      }
    },
    {
      "cell_type": "code",
      "source": [
        "def repeat_characters(input_string):\n",
        "    result = \"\"\n",
        "    for char in input_string:\n",
        "        result += char * 2\n",
        "    return result\n",
        "\n",
        "\n",
        "print(repeat_characters(\"hello_\"))\n",
        "print(repeat_characters(\"python!\"))\n",
        "print(repeat_characters(\"example123\"))"
      ],
      "metadata": {
        "colab": {
          "base_uri": "https://localhost:8080/"
        },
        "id": "8mk6xMOzB4Qp",
        "outputId": "3e9d8d3c-673c-4074-9e01-e598691b363a"
      },
      "execution_count": 5,
      "outputs": [
        {
          "output_type": "stream",
          "name": "stdout",
          "text": [
            "hheelllloo__\n",
            "ppyytthhoonn!!\n",
            "eexxaammppllee112233\n"
          ]
        }
      ]
    },
    {
      "cell_type": "markdown",
      "source": [
        "#Question 2\n",
        "\n",
        "Create a function that reverses a boolean value and returns the string \"boolean expected\" if another variable type is given.\n",
        "\n",
        "..............\n",
        "\n",
        "Answer 2 -\n",
        "\n",
        "We can create a function that reverses a boolean value if the input is a boolean type and returns the string \"boolean expected\" if the input is of another variable type. Here's the Python implementation:"
      ],
      "metadata": {
        "id": "5UcxDQyZIMZT"
      }
    },
    {
      "cell_type": "code",
      "source": [
        "def reverse_boolean(value):\n",
        "    if isinstance(value, bool):\n",
        "        return not value\n",
        "    else:\n",
        "        return \"boolean expected\"\n",
        "\n",
        "\n",
        "print(reverse_boolean(True))\n",
        "print(reverse_boolean(False))\n",
        "print(reverse_boolean(0))\n",
        "print(reverse_boolean(\"True\"))\n",
        "print(reverse_boolean(None))\n"
      ],
      "metadata": {
        "colab": {
          "base_uri": "https://localhost:8080/"
        },
        "id": "7YMCAPGHCBec",
        "outputId": "c87fe763-3263-4874-f918-f1258a1d0646"
      },
      "execution_count": 6,
      "outputs": [
        {
          "output_type": "stream",
          "name": "stdout",
          "text": [
            "False\n",
            "True\n",
            "boolean expected\n",
            "boolean expected\n",
            "boolean expected\n"
          ]
        }
      ]
    },
    {
      "cell_type": "markdown",
      "source": [
        "In this function, the **isinstance()** function is used to check if the input value is of type `bool` . If it is, the function returns the reversed boolean value (i.e., not value). Otherwise, it returns the string `\"boolean expected\"` indicating that a boolean type was expected but another type was given."
      ],
      "metadata": {
        "id": "SFheFIobL3-s"
      }
    },
    {
      "cell_type": "markdown",
      "source": [
        "#Question 3\n",
        "\n",
        "Create a function that returns the thickness (in meters) of a piece of paper after folding it n\n",
        "number of times. The paper starts off with a thickness of 0.5mm.\n",
        "\n",
        "..............\n",
        "\n",
        "Answer 3 -\n",
        "\n",
        "To calculate the thickness of a piece of paper after folding it `n` number of times, you need to convert the initial thickness from millimeters to meters (since the answer should be in meters) and then double the thickness for each fold. Here's the Python function to do that:"
      ],
      "metadata": {
        "id": "SjzWlhQvMA5y"
      }
    },
    {
      "cell_type": "code",
      "source": [
        "def paper_thickness_after_folding(n):\n",
        "    initial_thickness_mm = 0.5\n",
        "    initial_thickness_m = initial_thickness_mm / 1000  # Convert to meters\n",
        "\n",
        "    final_thickness_m = initial_thickness_m * (2 ** n)\n",
        "    return final_thickness_m\n",
        "\n",
        "\n",
        "print(paper_thickness_after_folding(0))\n",
        "print(paper_thickness_after_folding(1))\n",
        "print(paper_thickness_after_folding(2))\n",
        "print(paper_thickness_after_folding(3))\n",
        "print(paper_thickness_after_folding(5))"
      ],
      "metadata": {
        "colab": {
          "base_uri": "https://localhost:8080/"
        },
        "id": "4ECj7HrICLOD",
        "outputId": "76b5a601-a692-475c-8573-ccdabf834390"
      },
      "execution_count": 7,
      "outputs": [
        {
          "output_type": "stream",
          "name": "stdout",
          "text": [
            "0.0005\n",
            "0.001\n",
            "0.002\n",
            "0.004\n",
            "0.016\n"
          ]
        }
      ]
    },
    {
      "cell_type": "markdown",
      "source": [
        "#Question 4\n",
        "\n",
        "Create a function that takes a single string as argument and returns an ordered list containing\n",
        "the indices of all capital letters in the string.\n",
        "\n",
        "...............\n",
        "\n",
        "Answer 4 -\n",
        "\n",
        "Here's the python program for the same:"
      ],
      "metadata": {
        "id": "ERSCx3-zQ_Sb"
      }
    },
    {
      "cell_type": "code",
      "source": [
        "def find_capital_indices(input_string):\n",
        "    return [index for index, char in enumerate(input_string) if char.isupper()]\n",
        "\n",
        "\n",
        "print(find_capital_indices(\"Hello, World!\"))\n",
        "print(find_capital_indices(\"AbCdEfG\"))\n",
        "print(find_capital_indices(\"Python123\"))"
      ],
      "metadata": {
        "colab": {
          "base_uri": "https://localhost:8080/"
        },
        "id": "vA-t_WsVQ41Y",
        "outputId": "318daf3d-ebf3-4535-c72c-3aa5f70ab14c"
      },
      "execution_count": 8,
      "outputs": [
        {
          "output_type": "stream",
          "name": "stdout",
          "text": [
            "[0, 7]\n",
            "[0, 2, 4, 6]\n",
            "[0]\n"
          ]
        }
      ]
    },
    {
      "cell_type": "markdown",
      "source": [
        "#Question 5\n",
        "\n",
        "Using list comprehensions, create a function that finds all even numbers from 1 to the given number.\n",
        "\n",
        ".............\n",
        "\n",
        "Answer 5 -\n",
        "\n",
        "Below is the code for the same:"
      ],
      "metadata": {
        "id": "2BcQkHVLR2jr"
      }
    },
    {
      "cell_type": "code",
      "source": [
        "def find_even_numbers(limit):\n",
        "    return [num for num in range(1, limit + 1) if num % 2 == 0]\n",
        "\n",
        "\n",
        "print(find_even_numbers(10))\n",
        "print(find_even_numbers(20))"
      ],
      "metadata": {
        "colab": {
          "base_uri": "https://localhost:8080/"
        },
        "id": "-cXICmXmRjRE",
        "outputId": "8813bb06-d1cd-49fd-8d4a-f9746e2cc057"
      },
      "execution_count": 10,
      "outputs": [
        {
          "output_type": "stream",
          "name": "stdout",
          "text": [
            "[2, 4, 6, 8, 10]\n",
            "[2, 4, 6, 8, 10, 12, 14, 16, 18, 20]\n"
          ]
        }
      ]
    },
    {
      "cell_type": "code",
      "source": [],
      "metadata": {
        "id": "I3uOr47USgDA"
      },
      "execution_count": null,
      "outputs": []
    }
  ]
}